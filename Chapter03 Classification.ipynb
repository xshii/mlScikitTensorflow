{
 "cells": [
  {
   "cell_type": "markdown",
   "metadata": {
    "collapsed": true
   },
   "source": [
    "# Classification"
   ]
  },
  {
   "cell_type": "code",
   "execution_count": 1,
   "metadata": {
    "ExecuteTime": {
     "end_time": "2018-10-20T10:16:20.801046Z",
     "start_time": "2018-10-20T10:16:20.232308Z"
    }
   },
   "outputs": [],
   "source": [
    "def warn(*args, **kwargs):\n",
    "    pass\n",
    "import warnings\n",
    "warnings.warn = warn\n",
    "%matplotlib inline\n",
    "import matplotlib\n",
    "import matplotlib.pyplot as plt\n",
    "import numpy as np"
   ]
  },
  {
   "cell_type": "markdown",
   "metadata": {
    "toc": true
   },
   "source": [
    "<h1>Table of Contents<span class=\"tocSkip\"></span></h1>\n",
    "<div class=\"toc\"><ul class=\"toc-item\"><li><span><a href=\"#dataset-explore---MNIST\" data-toc-modified-id=\"dataset-explore---MNIST-1\"><span class=\"toc-item-num\">1&nbsp;&nbsp;</span>dataset explore - MNIST</a></span><ul class=\"toc-item\"><li><span><a href=\"#import-data-set---datasets:fetch_mldata\" data-toc-modified-id=\"import-data-set---datasets:fetch_mldata-1.1\"><span class=\"toc-item-num\">1.1&nbsp;&nbsp;</span>import data set - <code>datasets:fetch_mldata</code></a></span></li><li><span><a href=\"#data-set-decription\" data-toc-modified-id=\"data-set-decription-1.2\"><span class=\"toc-item-num\">1.2&nbsp;&nbsp;</span>data set decription</a></span></li><li><span><a href=\"#typical-train-test-splitting\" data-toc-modified-id=\"typical-train-test-splitting-1.3\"><span class=\"toc-item-num\">1.3&nbsp;&nbsp;</span>typical train test splitting</a></span></li></ul></li><li><span><a href=\"#model-selection\" data-toc-modified-id=\"model-selection-2\"><span class=\"toc-item-num\">2&nbsp;&nbsp;</span>model selection</a></span><ul class=\"toc-item\"><li><span><a href=\"#start-from-a-binary-classifier\" data-toc-modified-id=\"start-from-a-binary-classifier-2.1\"><span class=\"toc-item-num\">2.1&nbsp;&nbsp;</span>start from a binary classifier</a></span></li><li><span><a href=\"#Stochastic-Gradient-Descent---linear_model:SGDClassifier\" data-toc-modified-id=\"Stochastic-Gradient-Descent---linear_model:SGDClassifier-2.2\"><span class=\"toc-item-num\">2.2&nbsp;&nbsp;</span>Stochastic Gradient Descent - <code>linear_model:SGDClassifier</code></a></span></li><li><span><a href=\"#model-evaluation-method\" data-toc-modified-id=\"model-evaluation-method-2.3\"><span class=\"toc-item-num\">2.3&nbsp;&nbsp;</span>model evaluation method</a></span><ul class=\"toc-item\"><li><span><a href=\"#Cross-Validation-of-online-model---base:clone,-model_selection:cross_val_score\" data-toc-modified-id=\"Cross-Validation-of-online-model---base:clone,-model_selection:cross_val_score-2.3.1\"><span class=\"toc-item-num\">2.3.1&nbsp;&nbsp;</span>Cross-Validation of online model - <code>base:clone, model_selection:cross_val_score</code></a></span></li><li><span><a href=\"#Impact-of-skewed-datasets---model_selection:StratifiedKFold\" data-toc-modified-id=\"Impact-of-skewed-datasets---model_selection:StratifiedKFold-2.3.2\"><span class=\"toc-item-num\">2.3.2&nbsp;&nbsp;</span>Impact of skewed datasets - <code>model_selection:StratifiedKFold</code></a></span></li><li><span><a href=\"#Confusion-Matrix---metrics:confusion_matrix,-model_selection:cross_val_predict\" data-toc-modified-id=\"Confusion-Matrix---metrics:confusion_matrix,-model_selection:cross_val_predict-2.3.3\"><span class=\"toc-item-num\">2.3.3&nbsp;&nbsp;</span>Confusion Matrix - <code>metrics:confusion_matrix, model_selection:cross_val_predict</code></a></span></li><li><span><a href=\"#Precision-and-Recall---metrics:precision_score,-recall_score\" data-toc-modified-id=\"Precision-and-Recall---metrics:precision_score,-recall_score-2.3.4\"><span class=\"toc-item-num\">2.3.4&nbsp;&nbsp;</span>Precision and Recall - <code>metrics:precision_score, recall_score</code></a></span></li><li><span><a href=\"#$F_1$-score---metrics:f1_score\" data-toc-modified-id=\"$F_1$-score---metrics:f1_score-2.3.5\"><span class=\"toc-item-num\">2.3.5&nbsp;&nbsp;</span>$F_1$ score - <code>metrics:f1_score</code></a></span></li><li><span><a href=\"#precision/recall-trade-off---metrics:precision_recall_curve\" data-toc-modified-id=\"precision/recall-trade-off---metrics:precision_recall_curve-2.3.6\"><span class=\"toc-item-num\">2.3.6&nbsp;&nbsp;</span>precision/recall trade-off - <code>metrics:precision_recall_curve</code></a></span></li><li><span><a href=\"#ROC-Curve---metrics:roc_curve&amp;roc_auc_score\" data-toc-modified-id=\"ROC-Curve---metrics:roc_curve&amp;roc_auc_score-2.3.7\"><span class=\"toc-item-num\">2.3.7&nbsp;&nbsp;</span>ROC Curve - <code>metrics:roc_curve&amp;roc_auc_score</code></a></span><ul class=\"toc-item\"><li><span><a href=\"#ROC-vs-PR\" data-toc-modified-id=\"ROC-vs-PR-2.3.7.1\"><span class=\"toc-item-num\">2.3.7.1&nbsp;&nbsp;</span>ROC vs PR</a></span></li></ul></li><li><span><a href=\"#AUC---metrics:roc_auc_score\" data-toc-modified-id=\"AUC---metrics:roc_auc_score-2.3.8\"><span class=\"toc-item-num\">2.3.8&nbsp;&nbsp;</span>AUC - <code>metrics:roc_auc_score</code></a></span></li></ul></li><li><span><a href=\"#RandomForestClassifier---ensamble:RandomForestClassifier\" data-toc-modified-id=\"RandomForestClassifier---ensamble:RandomForestClassifier-2.4\"><span class=\"toc-item-num\">2.4&nbsp;&nbsp;</span>RandomForestClassifier - <code>ensamble:RandomForestClassifier</code></a></span><ul class=\"toc-item\"><li><span><a href=\"#.predict_proba()\" data-toc-modified-id=\".predict_proba()-2.4.1\"><span class=\"toc-item-num\">2.4.1&nbsp;&nbsp;</span><code>.predict_proba()</code></a></span></li></ul></li></ul></li><li><span><a href=\"#Multiclass-Classification\" data-toc-modified-id=\"Multiclass-Classification-3\"><span class=\"toc-item-num\">3&nbsp;&nbsp;</span>Multiclass Classification</a></span><ul class=\"toc-item\"><li><span><a href=\"#try-SGDClassifier-again\" data-toc-modified-id=\"try-SGDClassifier-again-3.1\"><span class=\"toc-item-num\">3.1&nbsp;&nbsp;</span>try SGDClassifier again</a></span></li><li><span><a href=\"#OneVsOneClassifer---multiclass:OneVsOneClassifier\" data-toc-modified-id=\"OneVsOneClassifer---multiclass:OneVsOneClassifier-3.2\"><span class=\"toc-item-num\">3.2&nbsp;&nbsp;</span>OneVsOneClassifer - <code>multiclass:OneVsOneClassifier</code></a></span></li><li><span><a href=\"#inherently-multiclass-classifier---predict_proba()\" data-toc-modified-id=\"inherently-multiclass-classifier---predict_proba()-3.3\"><span class=\"toc-item-num\">3.3&nbsp;&nbsp;</span>inherently multiclass classifier - <code>predict_proba()</code></a></span><ul class=\"toc-item\"><li><span><a href=\"#RandomForestClassifier-in-2.4\" data-toc-modified-id=\"RandomForestClassifier-in-2.4-3.3.1\"><span class=\"toc-item-num\">3.3.1&nbsp;&nbsp;</span>RandomForestClassifier in 2.4</a></span></li></ul></li><li><span><a href=\"#Error-Analysis\" data-toc-modified-id=\"Error-Analysis-3.4\"><span class=\"toc-item-num\">3.4&nbsp;&nbsp;</span>Error Analysis</a></span><ul class=\"toc-item\"><li><span><a href=\"#cross_val_predict()---&gt;-confusion_matrix()\" data-toc-modified-id=\"cross_val_predict()--->-confusion_matrix()-3.4.1\"><span class=\"toc-item-num\">3.4.1&nbsp;&nbsp;</span><code>cross_val_predict()</code> --&gt; <code>confusion_matrix()</code></a></span></li></ul></li></ul></li><li><span><a href=\"#Multilabel-Classification\" data-toc-modified-id=\"Multilabel-Classification-4\"><span class=\"toc-item-num\">4&nbsp;&nbsp;</span>Multilabel Classification</a></span><ul class=\"toc-item\"><li><span><a href=\"#KNeighborsClassifier---neighbors:KNeighborsClassifier\" data-toc-modified-id=\"KNeighborsClassifier---neighbors:KNeighborsClassifier-4.1\"><span class=\"toc-item-num\">4.1&nbsp;&nbsp;</span>KNeighborsClassifier - <code>neighbors:KNeighborsClassifier</code></a></span></li><li><span><a href=\"#Evaluation-of-multilabel-classification\" data-toc-modified-id=\"Evaluation-of-multilabel-classification-4.2\"><span class=\"toc-item-num\">4.2&nbsp;&nbsp;</span>Evaluation of multilabel classification</a></span><ul class=\"toc-item\"><li><span><a href=\"#f1_score\" data-toc-modified-id=\"f1_score-4.2.1\"><span class=\"toc-item-num\">4.2.1&nbsp;&nbsp;</span>f1_score</a></span></li></ul></li></ul></li><li><span><a href=\"#Multioutput-Classification\" data-toc-modified-id=\"Multioutput-Classification-5\"><span class=\"toc-item-num\">5&nbsp;&nbsp;</span>Multioutput Classification</a></span></li></ul></div>"
   ]
  },
  {
   "cell_type": "markdown",
   "metadata": {},
   "source": [
    "## dataset explore - MNIST "
   ]
  },
  {
   "cell_type": "markdown",
   "metadata": {},
   "source": [
    "### import data set - `datasets:fetch_mldata`"
   ]
  },
  {
   "cell_type": "code",
   "execution_count": 5,
   "metadata": {
    "ExecuteTime": {
     "end_time": "2018-10-20T10:21:00.539482Z",
     "start_time": "2018-10-20T10:20:45.102301Z"
    }
   },
   "outputs": [],
   "source": [
    "from sklearn.datasets import fetch_mldata\n",
    "mnist = fetch_mldata('MNIST original')"
   ]
  },
  {
   "cell_type": "markdown",
   "metadata": {},
   "source": [
    "### data set decription"
   ]
  },
  {
   "cell_type": "code",
   "execution_count": 7,
   "metadata": {
    "ExecuteTime": {
     "end_time": "2018-10-20T10:22:47.816810Z",
     "start_time": "2018-10-20T10:22:47.810525Z"
    },
    "scrolled": false
   },
   "outputs": [
    {
     "data": {
      "text/plain": [
       "{'DESCR': 'mldata.org dataset: mnist-original',\n",
       " 'COL_NAMES': ['label', 'data'],\n",
       " 'target': array([0., 0., 0., ..., 9., 9., 9.]),\n",
       " 'data': array([[0, 0, 0, ..., 0, 0, 0],\n",
       "        [0, 0, 0, ..., 0, 0, 0],\n",
       "        [0, 0, 0, ..., 0, 0, 0],\n",
       "        ...,\n",
       "        [0, 0, 0, ..., 0, 0, 0],\n",
       "        [0, 0, 0, ..., 0, 0, 0],\n",
       "        [0, 0, 0, ..., 0, 0, 0]], dtype=uint8)}"
      ]
     },
     "execution_count": 7,
     "metadata": {},
     "output_type": "execute_result"
    }
   ],
   "source": [
    "mnist"
   ]
  },
  {
   "cell_type": "markdown",
   "metadata": {},
   "source": [
    "* `DESCR` describe of the data set\n",
    "* `data` row<=> instance, col<=>feature\n",
    "* `target` array with the labels"
   ]
  },
  {
   "cell_type": "code",
   "execution_count": 8,
   "metadata": {
    "ExecuteTime": {
     "end_time": "2018-10-20T10:22:53.768281Z",
     "start_time": "2018-10-20T10:22:53.764965Z"
    }
   },
   "outputs": [],
   "source": [
    "X, y = mnist[\"data\"], mnist[\"target\"]"
   ]
  },
  {
   "cell_type": "code",
   "execution_count": 9,
   "metadata": {
    "ExecuteTime": {
     "end_time": "2018-10-20T10:22:54.323819Z",
     "start_time": "2018-10-20T10:22:54.318923Z"
    }
   },
   "outputs": [
    {
     "data": {
      "text/plain": [
       "(70000, 784)"
      ]
     },
     "execution_count": 9,
     "metadata": {},
     "output_type": "execute_result"
    }
   ],
   "source": [
    "X.shape"
   ]
  },
  {
   "cell_type": "code",
   "execution_count": 10,
   "metadata": {
    "ExecuteTime": {
     "end_time": "2018-10-20T10:22:56.486022Z",
     "start_time": "2018-10-20T10:22:56.481511Z"
    }
   },
   "outputs": [
    {
     "data": {
      "text/plain": [
       "(70000,)"
      ]
     },
     "execution_count": 10,
     "metadata": {},
     "output_type": "execute_result"
    }
   ],
   "source": [
    "y.shape"
   ]
  },
  {
   "cell_type": "markdown",
   "metadata": {},
   "source": [
    "i.e. there are 70000 images and each has 784 features"
   ]
  },
  {
   "cell_type": "code",
   "execution_count": 11,
   "metadata": {
    "ExecuteTime": {
     "end_time": "2018-10-20T10:22:57.508704Z",
     "start_time": "2018-10-20T10:22:57.497723Z"
    }
   },
   "outputs": [],
   "source": [
    "%matplotlib inline\n",
    "import matplotlib\n",
    "import matplotlib.pyplot as plt"
   ]
  },
  {
   "cell_type": "code",
   "execution_count": 17,
   "metadata": {
    "ExecuteTime": {
     "end_time": "2018-10-20T12:22:48.294943Z",
     "start_time": "2018-10-20T12:22:48.214505Z"
    }
   },
   "outputs": [
    {
     "data": {
      "image/png": "[encoded data removed]",
      "text/plain": [
       "<Figure size 432x288 with 1 Axes>"
      ]
     },
     "metadata": {
      "needs_background": "light"
     },
     "output_type": "display_data"
    }
   ],
   "source": [
    "some_digit = X[36000]\n",
    "some_digit_image = some_digit.reshape(28, 28)\n",
    "plt.imshow(\n",
    "    some_digit_image, cmap=matplotlib.cm.binary, interpolation=\"nearest\")\n",
    "plt.axis(\"off\")\n",
    "plt.show()"
   ]
  },
  {
   "cell_type": "code",
   "execution_count": 18,
   "metadata": {
    "ExecuteTime": {
     "end_time": "2018-10-20T12:22:49.060964Z",
     "start_time": "2018-10-20T12:22:49.056051Z"
    }
   },
   "outputs": [
    {
     "data": {
      "text/plain": [
       "5.0"
      ]
     },
     "execution_count": 18,
     "metadata": {},
     "output_type": "execute_result"
    }
   ],
   "source": [
    "y[36000]"
   ]
  },
  {
   "cell_type": "markdown",
   "metadata": {},
   "source": [
    "### typical train test splitting "
   ]
  },
  {
   "cell_type": "code",
   "execution_count": 19,
   "metadata": {
    "ExecuteTime": {
     "end_time": "2018-10-20T12:22:50.340196Z",
     "start_time": "2018-10-20T12:22:50.289194Z"
    }
   },
   "outputs": [],
   "source": [
    "X_train, X_test, y_train, y_test = X[:60000], X[60000:], y[:60000], y[60000:]\n",
    "shuffle_index = np.random.permutation(60000)\n",
    "X_train, y_train = X_train[shuffle_index], y_train[shuffle_index]"
   ]
  },
  {
   "cell_type": "markdown",
   "metadata": {},
   "source": [
    "<span class=\"burk\">some learning algorithms are sensitive to the order of the training instances, and they perform poorly if they get many similar instances in a row.</span>"
   ]
  },
  {
   "cell_type": "markdown",
   "metadata": {},
   "source": [
    "## model selection "
   ]
  },
  {
   "cell_type": "markdown",
   "metadata": {},
   "source": [
    "### start from a binary classifier  "
   ]
  },
  {
   "cell_type": "code",
   "execution_count": 20,
   "metadata": {
    "ExecuteTime": {
     "end_time": "2018-10-20T12:22:53.090684Z",
     "start_time": "2018-10-20T12:22:53.087470Z"
    }
   },
   "outputs": [],
   "source": [
    "y_train_5 = (y_train == 5) # True for all 5s, False for all other digits.\n",
    "y_test_5 = (y_test == 5)"
   ]
  },
  {
   "cell_type": "markdown",
   "metadata": {},
   "source": [
    "### Stochastic Gradient Descent - `linear_model:SGDClassifier `"
   ]
  },
  {
   "cell_type": "markdown",
   "metadata": {},
   "source": [
    "* online learning\n",
    "* large dataset"
   ]
  },
  {
   "cell_type": "code",
   "execution_count": 21,
   "metadata": {
    "ExecuteTime": {
     "end_time": "2018-10-20T12:22:55.568283Z",
     "start_time": "2018-10-20T12:22:54.923359Z"
    }
   },
   "outputs": [
    {
     "data": {
      "text/plain": [
       "SGDClassifier(alpha=0.0001, average=False, class_weight=None,\n",
       "       early_stopping=False, epsilon=0.1, eta0=0.0, fit_intercept=True,\n",
       "       l1_ratio=0.15, learning_rate='optimal', loss='hinge', max_iter=None,\n",
       "       n_iter=None, n_iter_no_change=5, n_jobs=None, penalty='l2',\n",
       "       power_t=0.5, random_state=42, shuffle=True, tol=None,\n",
       "       validation_fraction=0.1, verbose=0, warm_start=False)"
      ]
     },
     "execution_count": 21,
     "metadata": {},
     "output_type": "execute_result"
    }
   ],
   "source": [
    "from sklearn.linear_model import SGDClassifier\n",
    "sgd_clf = SGDClassifier(random_state=42)\n",
    "sgd_clf.fit(X_train, y_train_5)"
   ]
  },
  {
   "cell_type": "code",
   "execution_count": 22,
   "metadata": {
    "ExecuteTime": {
     "end_time": "2018-10-20T12:22:56.161677Z",
     "start_time": "2018-10-20T12:22:56.156776Z"
    },
    "scrolled": true
   },
   "outputs": [
    {
     "data": {
      "text/plain": [
       "array([ True])"
      ]
     },
     "execution_count": 22,
     "metadata": {},
     "output_type": "execute_result"
    }
   ],
   "source": [
    "sgd_clf.predict([some_digit])"
   ]
  },
  {
   "cell_type": "markdown",
   "metadata": {},
   "source": [
    "### model evaluation method "
   ]
  },
  {
   "cell_type": "markdown",
   "metadata": {},
   "source": [
    "#### Cross-Validation of online model - `base:clone, model_selection:cross_val_score` "
   ]
  },
  {
   "cell_type": "code",
   "execution_count": 24,
   "metadata": {
    "ExecuteTime": {
     "end_time": "2018-10-20T12:26:08.264201Z",
     "start_time": "2018-10-20T12:26:06.866153Z"
    }
   },
   "outputs": [
    {
     "data": {
      "text/plain": [
       "array([0.9649 , 0.9572 , 0.96225])"
      ]
     },
     "execution_count": 24,
     "metadata": {},
     "output_type": "execute_result"
    }
   ],
   "source": [
    "from sklearn.model_selection import cross_val_score\n",
    "cross_val_score(sgd_clf, X_train, y_train_5, cv=3, scoring=\"accuracy\")"
   ]
  },
  {
   "cell_type": "markdown",
   "metadata": {},
   "source": [
    "#### Impact of skewed datasets - `model_selection:StratifiedKFold`"
   ]
  },
  {
   "cell_type": "code",
   "execution_count": 25,
   "metadata": {
    "ExecuteTime": {
     "end_time": "2018-10-20T12:26:17.977670Z",
     "start_time": "2018-10-20T12:26:16.410892Z"
    }
   },
   "outputs": [
    {
     "name": "stdout",
     "output_type": "stream",
     "text": [
      "0.9649\n",
      "0.9572\n",
      "0.96225\n"
     ]
    }
   ],
   "source": [
    "from sklearn.model_selection import StratifiedKFold\n",
    "from sklearn.base import clone\n",
    "\n",
    "skfolds = StratifiedKFold(n_splits=3, random_state=42)\n",
    "\n",
    "for train_index, test_index in skfolds.split(X_train, y_train_5):\n",
    "    clone_clf = clone(sgd_clf)\n",
    "    X_train_folds = X_train[train_index]\n",
    "    y_train_folds = (y_train_5[train_index])\n",
    "    X_test_fold = X_train[test_index]\n",
    "    y_test_fold = (y_train_5[test_index])\n",
    "    clone_clf.fit(X_train_folds, y_train_folds)\n",
    "    y_pred = clone_clf.predict(X_test_fold)\n",
    "    n_correct = sum(y_pred == y_test_fold)\n",
    "    print(n_correct / len(y_pred))  # prints 0.9502, 0.96565 and 0.96495"
   ]
  },
  {
   "cell_type": "markdown",
   "metadata": {},
   "source": [
    "<div class=\"girk\">\n",
    "let s make it predict all 5</div><i class=\"fa fa-lightbulb-o \"></i>"
   ]
  },
  {
   "cell_type": "code",
   "execution_count": 26,
   "metadata": {
    "ExecuteTime": {
     "end_time": "2018-10-20T12:26:21.700404Z",
     "start_time": "2018-10-20T12:26:21.696734Z"
    }
   },
   "outputs": [],
   "source": [
    "from sklearn.base import BaseEstimator\n",
    "\n",
    "class Never5Classifier(BaseEstimator):\n",
    "\n",
    "    def fit(self, X, y=None):\n",
    "        pass\n",
    "    \n",
    "    def predict(self, X):\n",
    "        return np.zeros((len(X), 1), dtype=bool)"
   ]
  },
  {
   "cell_type": "code",
   "execution_count": 27,
   "metadata": {
    "ExecuteTime": {
     "end_time": "2018-10-20T12:26:22.723726Z",
     "start_time": "2018-10-20T12:26:22.665725Z"
    }
   },
   "outputs": [
    {
     "data": {
      "text/plain": [
       "array([0.90845, 0.9096 , 0.9109 ])"
      ]
     },
     "execution_count": 27,
     "metadata": {},
     "output_type": "execute_result"
    }
   ],
   "source": [
    "never_5_clf = Never5Classifier()\n",
    "cross_val_score(never_5_clf, X_train, y_train_5, cv=3, scoring=\"accuracy\")"
   ]
  },
  {
   "cell_type": "markdown",
   "metadata": {},
   "source": [
    "**100% accuracy by random guess!!!**"
   ]
  },
  {
   "cell_type": "markdown",
   "metadata": {},
   "source": [
    "#### Confusion Matrix - `metrics:confusion_matrix, model_selection:cross_val_predict`"
   ]
  },
  {
   "cell_type": "markdown",
   "metadata": {},
   "source": [
    "| |pred_0 | pred_1 |\n",
    "|----------|----------------|----------------|\n",
    "| actual_0 | true negative TN | false positive FP|\n",
    "| actual_1 | false negative FN | true positive TP|"
   ]
  },
  {
   "cell_type": "code",
   "execution_count": 29,
   "metadata": {
    "ExecuteTime": {
     "end_time": "2018-10-20T12:31:12.633369Z",
     "start_time": "2018-10-20T12:31:11.124376Z"
    }
   },
   "outputs": [],
   "source": [
    "from sklearn.model_selection import cross_val_predict\n",
    "y_train_pred = cross_val_predict(sgd_clf, X_train, y_train_5, cv=3)"
   ]
  },
  {
   "cell_type": "code",
   "execution_count": 30,
   "metadata": {
    "ExecuteTime": {
     "end_time": "2018-10-20T12:31:12.673938Z",
     "start_time": "2018-10-20T12:31:12.635618Z"
    }
   },
   "outputs": [
    {
     "data": {
      "text/plain": [
       "array([[53992,   587],\n",
       "       [ 1726,  3695]])"
      ]
     },
     "execution_count": 30,
     "metadata": {},
     "output_type": "execute_result"
    }
   ],
   "source": [
    "from sklearn.metrics import confusion_matrix\n",
    "confusion_matrix(y_train_5, y_train_pred)"
   ]
  },
  {
   "cell_type": "markdown",
   "metadata": {},
   "source": [
    "#### Precision and Recall - `metrics:precision_score, recall_score`"
   ]
  },
  {
   "cell_type": "markdown",
   "metadata": {},
   "source": [
    "\n",
    "* precision = $\\frac{TP}{TP+FP}$ The one we found / all one we found\n",
    "* recall = $\\frac{TP}{TP+FN}$ The one we found / the one  we had to find\n"
   ]
  },
  {
   "cell_type": "code",
   "execution_count": 31,
   "metadata": {
    "ExecuteTime": {
     "end_time": "2018-10-20T12:33:46.825568Z",
     "start_time": "2018-10-20T12:33:46.822004Z"
    }
   },
   "outputs": [],
   "source": [
    "from sklearn.metrics import precision_score, recall_score"
   ]
  },
  {
   "cell_type": "code",
   "execution_count": 32,
   "metadata": {
    "ExecuteTime": {
     "end_time": "2018-10-20T12:33:47.127707Z",
     "start_time": "2018-10-20T12:33:47.114403Z"
    }
   },
   "outputs": [
    {
     "data": {
      "text/plain": [
       "0.8629145259224661"
      ]
     },
     "execution_count": 32,
     "metadata": {},
     "output_type": "execute_result"
    }
   ],
   "source": [
    "precision_score(y_train_5, y_train_pred)"
   ]
  },
  {
   "cell_type": "code",
   "execution_count": 33,
   "metadata": {
    "ExecuteTime": {
     "end_time": "2018-10-20T12:35:03.049834Z",
     "start_time": "2018-10-20T12:35:03.036996Z"
    }
   },
   "outputs": [
    {
     "data": {
      "text/plain": [
       "0.6816085593064011"
      ]
     },
     "execution_count": 33,
     "metadata": {},
     "output_type": "execute_result"
    }
   ],
   "source": [
    "recall_score(y_train_5, y_train_pred)"
   ]
  },
  {
   "cell_type": "markdown",
   "metadata": {},
   "source": [
    "\n",
    "#### $F_1$ score - `metrics:f1_score` "
   ]
  },
  {
   "cell_type": "markdown",
   "metadata": {},
   "source": [
    "*harmonic mean* of precision and recall\n",
    "* <span class=\"girk\">it favors classifiers that have similar precision and recall</span>\n",
    "* $F_1=\\frac{2}{\\frac{1}{precision}+\\frac{1}{recall}}=\\frac{TP}{TP+\\frac{FN+FP}{2}}$"
   ]
  },
  {
   "cell_type": "code",
   "execution_count": 35,
   "metadata": {
    "ExecuteTime": {
     "end_time": "2018-10-20T12:39:20.284452Z",
     "start_time": "2018-10-20T12:39:20.271232Z"
    }
   },
   "outputs": [
    {
     "data": {
      "text/plain": [
       "0.7616201174894363"
      ]
     },
     "execution_count": 35,
     "metadata": {},
     "output_type": "execute_result"
    }
   ],
   "source": [
    "from sklearn.metrics import f1_score\n",
    "f1_score(y_train_5, y_train_pred)"
   ]
  },
  {
   "cell_type": "markdown",
   "metadata": {},
   "source": [
    "#### precision/recall trade-off - `metrics:precision_recall_curve`"
   ]
  },
  {
   "cell_type": "markdown",
   "metadata": {},
   "source": [
    "* avoid accepting 0 - increase accuracy\n",
    "* avoid missing 1 - increase recall\n",
    "* set `method=\"decision_function\"` to get `y_score`\n",
    "* use `y_score` and `y_train_5` to get the precision_recall_curve"
   ]
  },
  {
   "cell_type": "code",
   "execution_count": 36,
   "metadata": {
    "ExecuteTime": {
     "end_time": "2018-10-20T12:39:26.148577Z",
     "start_time": "2018-10-20T12:39:24.670495Z"
    }
   },
   "outputs": [],
   "source": [
    "y_scores = cross_val_predict(\n",
    "    sgd_clf, X_train, y_train_5, cv=3, method=\"decision_function\")"
   ]
  },
  {
   "cell_type": "code",
   "execution_count": 37,
   "metadata": {
    "ExecuteTime": {
     "end_time": "2018-10-20T12:39:34.060173Z",
     "start_time": "2018-10-20T12:39:34.039906Z"
    }
   },
   "outputs": [],
   "source": [
    "from sklearn.metrics import precision_recall_curve\n",
    "precisions, recalls, thresholds = precision_recall_curve(y_train_5, y_scores)"
   ]
  },
  {
   "cell_type": "code",
   "execution_count": 38,
   "metadata": {
    "ExecuteTime": {
     "end_time": "2018-10-20T12:39:37.880246Z",
     "start_time": "2018-10-20T12:39:37.875722Z"
    }
   },
   "outputs": [],
   "source": [
    "def plot_precision_recall_vs_threshold(precisions, recalls, thresholds):\n",
    "    plt.plot(thresholds, precisions[:-1], \"b--\", label=\"Precision\")\n",
    "    plt.plot(thresholds, recalls[:-1], \"g-\", label=\"Recall\")\n",
    "    plt.xlabel(\"Threshold\")\n",
    "    plt.legend(loc=\"upper left\")\n",
    "    plt.ylim([0, 1])"
   ]
  },
  {
   "cell_type": "code",
   "execution_count": 39,
   "metadata": {
    "ExecuteTime": {
     "end_time": "2018-10-20T12:39:39.082201Z",
     "start_time": "2018-10-20T12:39:38.928821Z"
    }
   },
   "outputs": [
    {
     "data": {
      "image/png": "[encoded data removed]",
      "text/plain": [
       "<Figure size 432x288 with 1 Axes>"
      ]
     },
     "metadata": {
      "needs_background": "light"
     },
     "output_type": "display_data"
    }
   ],
   "source": [
    "plot_precision_recall_vs_threshold(precisions,recalls,thresholds)"
   ]
  },
  {
   "cell_type": "markdown",
   "metadata": {},
   "source": [
    "####  ROC Curve - `metrics:roc_curve&roc_auc_score`"
   ]
  },
  {
   "cell_type": "markdown",
   "metadata": {},
   "source": [
    "* receiver operating characteristic. \n",
    "* **FPR**: false positive rate = 1-TNR\n",
    "* **TNR**: true positive rate, also called **specificity**\n",
    "* ROC "
   ]
  },
  {
   "cell_type": "code",
   "execution_count": 41,
   "metadata": {
    "ExecuteTime": {
     "end_time": "2018-10-20T12:57:38.482421Z",
     "start_time": "2018-10-20T12:57:38.469121Z"
    }
   },
   "outputs": [],
   "source": [
    "from sklearn.metrics import roc_curve\n",
    "fpr, tpr, thresholds = roc_curve(y_train_5, y_scores)"
   ]
  },
  {
   "cell_type": "code",
   "execution_count": 42,
   "metadata": {
    "ExecuteTime": {
     "end_time": "2018-10-20T12:57:40.054623Z",
     "start_time": "2018-10-20T12:57:40.050256Z"
    }
   },
   "outputs": [],
   "source": [
    "def plot_roc_curve(fpr, tpr, label=None):\n",
    "    plt.plot(fpr, tpr, linewidth=2, label=label)\n",
    "    plt.plot([0, 1], [0, 1], 'k--')\n",
    "    plt.axis([0, 1, 0, 1])\n",
    "    plt.xlabel('False Positive Rate')\n",
    "    plt.ylabel('True Positive Rate')"
   ]
  },
  {
   "cell_type": "code",
   "execution_count": 43,
   "metadata": {
    "ExecuteTime": {
     "end_time": "2018-10-20T12:57:40.694291Z",
     "start_time": "2018-10-20T12:57:40.588250Z"
    },
    "scrolled": true
   },
   "outputs": [
    {
     "data": {
      "image/png": "[encoded data removed]",
      "text/plain": [
       "<Figure size 432x288 with 1 Axes>"
      ]
     },
     "metadata": {
      "needs_background": "light"
     },
     "output_type": "display_data"
    }
   ],
   "source": [
    "plot_roc_curve(fpr, tpr)\n",
    "plt.show()"
   ]
  },
  {
   "cell_type": "markdown",
   "metadata": {},
   "source": [
    "* higher recall (TPR) more FPR"
   ]
  },
  {
   "cell_type": "markdown",
   "metadata": {},
   "source": [
    "#####  ROC vs PR\n",
    "* PR when you care more about the false positives than the false negatives, or the positive class is rare\n",
    "* ROC otherwise and AUC score"
   ]
  },
  {
   "cell_type": "markdown",
   "metadata": {},
   "source": [
    "#### AUC - `metrics:roc_auc_score` "
   ]
  },
  {
   "cell_type": "markdown",
   "metadata": {},
   "source": [
    "* area under the curve (AUC), perfectly 1, randomly 0.5"
   ]
  },
  {
   "cell_type": "code",
   "execution_count": 123,
   "metadata": {
    "ExecuteTime": {
     "end_time": "2017-11-22T15:08:48.585025Z",
     "start_time": "2017-11-22T15:08:48.562008Z"
    }
   },
   "outputs": [
    {
     "data": {
      "text/plain": [
       "0.91740225736699199"
      ]
     },
     "execution_count": 123,
     "metadata": {},
     "output_type": "execute_result"
    }
   ],
   "source": [
    "from sklearn.metrics import roc_auc_score\n",
    "roc_auc_score(y_train_5, y_scores)"
   ]
  },
  {
   "cell_type": "markdown",
   "metadata": {},
   "source": [
    "### RandomForestClassifier - `ensamble:RandomForestClassifier`"
   ]
  },
  {
   "cell_type": "markdown",
   "metadata": {},
   "source": [
    "#### `.predict_proba()`"
   ]
  },
  {
   "cell_type": "markdown",
   "metadata": {},
   "source": [
    "* `y_prob = prodict_proba()` rather than `decision_function()` but they work in the same way\n",
    "* score = probability of positive class `y_prob[:,1]`"
   ]
  },
  {
   "cell_type": "code",
   "execution_count": 45,
   "metadata": {
    "ExecuteTime": {
     "end_time": "2018-10-20T13:02:57.011094Z",
     "start_time": "2018-10-20T13:02:51.274322Z"
    }
   },
   "outputs": [
    {
     "data": {
      "text/plain": [
       "array([[1. , 0. ],\n",
       "       [1. , 0. ],\n",
       "       [1. , 0. ],\n",
       "       ...,\n",
       "       [1. , 0. ],\n",
       "       [1. , 0. ],\n",
       "       [0.9, 0.1]])"
      ]
     },
     "execution_count": 45,
     "metadata": {},
     "output_type": "execute_result"
    }
   ],
   "source": [
    "from sklearn.ensemble import RandomForestClassifier\n",
    "forest_clf = RandomForestClassifier(random_state=42)\n",
    "y_probas_forest = cross_val_predict(\n",
    "    forest_clf, X_train, y_train_5, cv=3, method=\"predict_proba\")\n",
    "y_probas_forest"
   ]
  },
  {
   "cell_type": "code",
   "execution_count": 46,
   "metadata": {
    "ExecuteTime": {
     "end_time": "2018-10-20T13:03:28.271404Z",
     "start_time": "2018-10-20T13:03:28.262765Z"
    }
   },
   "outputs": [],
   "source": [
    "y_scores_forest = y_probas_forest[:, 1]  # score = proba of positive class\n",
    "fpr_forest, tpr_forest, thresholds_forest = roc_curve(y_train_5,\n",
    "                                                      y_scores_forest)"
   ]
  },
  {
   "cell_type": "code",
   "execution_count": 47,
   "metadata": {
    "ExecuteTime": {
     "end_time": "2018-10-20T13:03:29.117189Z",
     "start_time": "2018-10-20T13:03:28.988108Z"
    }
   },
   "outputs": [
    {
     "data": {
      "image/png": "[encoded data removed]",
      "text/plain": [
       "<Figure size 432x288 with 1 Axes>"
      ]
     },
     "metadata": {
      "needs_background": "light"
     },
     "output_type": "display_data"
    }
   ],
   "source": [
    "plt.plot(fpr, tpr, \"b:\", label=\"SGD\")\n",
    "plot_roc_curve(fpr_forest, tpr_forest, \"Random Forest\")\n",
    "plt.legend(loc=\"bottom right\")\n",
    "plt.show()"
   ]
  },
  {
   "cell_type": "code",
   "execution_count": 49,
   "metadata": {
    "ExecuteTime": {
     "end_time": "2018-10-20T13:03:52.033702Z",
     "start_time": "2018-10-20T13:03:52.016649Z"
    }
   },
   "outputs": [
    {
     "data": {
      "text/plain": [
       "0.9924756861445293"
      ]
     },
     "execution_count": 49,
     "metadata": {},
     "output_type": "execute_result"
    }
   ],
   "source": [
    "from sklearn.metrics import roc_auc_score\n",
    "roc_auc_score(y_train_5, y_scores_forest)"
   ]
  },
  {
   "cell_type": "markdown",
   "metadata": {},
   "source": [
    "## Multiclass Classification "
   ]
  },
  {
   "cell_type": "markdown",
   "metadata": {},
   "source": [
    "* *one-versus-all* (OvA) strategy: train several binary classifiers in each individual class and sort their scores. **N classifiers**\n",
    "    * <span class=\"girk\">automatically use OvA except SVM</span> \n",
    "* *one-versus-one* (OvO) stragegy: train several binary classifiers in each pair of individuals **(N*(N-1)/2) classifiers**\n",
    "    * <span class=\"girk\">SVM scale poorly with the size of the training set.</span> "
   ]
  },
  {
   "cell_type": "markdown",
   "metadata": {},
   "source": [
    "### try SGDClassifier again "
   ]
  },
  {
   "cell_type": "code",
   "execution_count": 50,
   "metadata": {
    "ExecuteTime": {
     "end_time": "2018-10-20T13:06:03.926580Z",
     "start_time": "2018-10-20T13:06:00.115323Z"
    }
   },
   "outputs": [
    {
     "data": {
      "text/plain": [
       "array([5.])"
      ]
     },
     "execution_count": 50,
     "metadata": {},
     "output_type": "execute_result"
    }
   ],
   "source": [
    "sgd_clf.fit(X_train, y_train)\n",
    "sgd_clf.predict([some_digit])"
   ]
  },
  {
   "cell_type": "code",
   "execution_count": 51,
   "metadata": {
    "ExecuteTime": {
     "end_time": "2018-10-20T13:06:14.083326Z",
     "start_time": "2018-10-20T13:06:14.078099Z"
    },
    "scrolled": true
   },
   "outputs": [
    {
     "data": {
      "text/plain": [
       "array([[-138748.35705713, -479970.5762669 , -361612.91959051,\n",
       "        -131795.61798868, -512892.28134724,    8297.99118301,\n",
       "        -753059.8040881 , -284493.21388108, -757533.51513298,\n",
       "        -847410.42197363]])"
      ]
     },
     "execution_count": 51,
     "metadata": {},
     "output_type": "execute_result"
    }
   ],
   "source": [
    "some_digit_scores = sgd_clf.decision_function([some_digit])\n",
    "some_digit_scores"
   ]
  },
  {
   "cell_type": "markdown",
   "metadata": {},
   "source": [
    "* the highest score is digit 5"
   ]
  },
  {
   "cell_type": "code",
   "execution_count": 52,
   "metadata": {
    "ExecuteTime": {
     "end_time": "2018-10-20T13:06:34.208360Z",
     "start_time": "2018-10-20T13:06:34.203648Z"
    }
   },
   "outputs": [
    {
     "data": {
      "text/plain": [
       "5"
      ]
     },
     "execution_count": 52,
     "metadata": {},
     "output_type": "execute_result"
    }
   ],
   "source": [
    "np.argmax(some_digit_scores)"
   ]
  },
  {
   "cell_type": "code",
   "execution_count": 53,
   "metadata": {
    "ExecuteTime": {
     "end_time": "2018-10-20T13:06:39.110988Z",
     "start_time": "2018-10-20T13:06:39.106809Z"
    }
   },
   "outputs": [
    {
     "data": {
      "text/plain": [
       "5.0"
      ]
     },
     "execution_count": 53,
     "metadata": {},
     "output_type": "execute_result"
    }
   ],
   "source": [
    "sgd_clf.classes_\n",
    "sgd_clf.classes_[5]"
   ]
  },
  {
   "cell_type": "markdown",
   "metadata": {},
   "source": [
    "### OneVsOneClassifer - `multiclass:OneVsOneClassifier` "
   ]
  },
  {
   "cell_type": "code",
   "execution_count": 54,
   "metadata": {
    "ExecuteTime": {
     "end_time": "2018-10-20T13:07:14.680875Z",
     "start_time": "2018-10-20T13:07:10.194131Z"
    }
   },
   "outputs": [
    {
     "data": {
      "text/plain": [
       "array([5.])"
      ]
     },
     "execution_count": 54,
     "metadata": {},
     "output_type": "execute_result"
    }
   ],
   "source": [
    "from sklearn.multiclass import OneVsOneClassifier\n",
    "ovo_clf = OneVsOneClassifier(SGDClassifier(random_state=42))\n",
    "ovo_clf.fit(X_train, y_train)\n",
    "ovo_clf.predict([some_digit])"
   ]
  },
  {
   "cell_type": "code",
   "execution_count": 55,
   "metadata": {
    "ExecuteTime": {
     "end_time": "2018-10-20T13:07:14.686586Z",
     "start_time": "2018-10-20T13:07:14.682932Z"
    }
   },
   "outputs": [
    {
     "data": {
      "text/plain": [
       "45"
      ]
     },
     "execution_count": 55,
     "metadata": {},
     "output_type": "execute_result"
    }
   ],
   "source": [
    "len(ovo_clf.estimators_)"
   ]
  },
  {
   "cell_type": "markdown",
   "metadata": {},
   "source": [
    "### inherently multiclass classifier - `predict_proba()` "
   ]
  },
  {
   "cell_type": "markdown",
   "metadata": {},
   "source": [
    "####   RandomForestClassifier in 2.4"
   ]
  },
  {
   "cell_type": "code",
   "execution_count": 56,
   "metadata": {
    "ExecuteTime": {
     "end_time": "2018-10-20T13:07:51.601560Z",
     "start_time": "2018-10-20T13:07:48.087266Z"
    }
   },
   "outputs": [
    {
     "data": {
      "text/plain": [
       "array([5.])"
      ]
     },
     "execution_count": 56,
     "metadata": {},
     "output_type": "execute_result"
    }
   ],
   "source": [
    "forest_clf.fit(X_train, y_train)\n",
    "forest_clf.predict([some_digit])"
   ]
  },
  {
   "cell_type": "code",
   "execution_count": 57,
   "metadata": {
    "ExecuteTime": {
     "end_time": "2018-10-20T13:07:52.683139Z",
     "start_time": "2018-10-20T13:07:52.676895Z"
    }
   },
   "outputs": [
    {
     "data": {
      "text/plain": [
       "array([[0. , 0. , 0. , 0.2, 0. , 0.8, 0. , 0. , 0. , 0. ]])"
      ]
     },
     "execution_count": 57,
     "metadata": {},
     "output_type": "execute_result"
    }
   ],
   "source": [
    "forest_clf.predict_proba([some_digit])"
   ]
  },
  {
   "cell_type": "code",
   "execution_count": 58,
   "metadata": {
    "ExecuteTime": {
     "end_time": "2018-10-20T13:08:01.380444Z",
     "start_time": "2018-10-20T13:07:53.770451Z"
    }
   },
   "outputs": [
    {
     "data": {
      "text/plain": [
       "array([0.86167766, 0.86274314, 0.88243236])"
      ]
     },
     "execution_count": 58,
     "metadata": {},
     "output_type": "execute_result"
    }
   ],
   "source": [
    "cross_val_score(sgd_clf, X_train, y_train, cv=3, scoring=\"accuracy\")"
   ]
  },
  {
   "cell_type": "code",
   "execution_count": 59,
   "metadata": {
    "ExecuteTime": {
     "end_time": "2018-10-20T13:08:13.409595Z",
     "start_time": "2018-10-20T13:08:03.653625Z"
    }
   },
   "outputs": [
    {
     "data": {
      "text/plain": [
       "array([0.90891822, 0.91154558, 0.90978647])"
      ]
     },
     "execution_count": 59,
     "metadata": {},
     "output_type": "execute_result"
    }
   ],
   "source": [
    "from sklearn.preprocessing import StandardScaler\n",
    "scaler = StandardScaler()\n",
    "X_train_scaled = scaler.fit_transform(X_train.astype(np.float64))\n",
    "cross_val_score(sgd_clf, X_train_scaled, y_train, cv=3, scoring=\"accuracy\")"
   ]
  },
  {
   "cell_type": "markdown",
   "metadata": {},
   "source": [
    "### Error Analysis "
   ]
  },
  {
   "cell_type": "markdown",
   "metadata": {},
   "source": [
    "#### `cross_val_predict()` --> `confusion_matrix()` "
   ]
  },
  {
   "cell_type": "code",
   "execution_count": 60,
   "metadata": {
    "ExecuteTime": {
     "end_time": "2018-10-20T13:09:36.574646Z",
     "start_time": "2018-10-20T13:09:29.117653Z"
    }
   },
   "outputs": [],
   "source": [
    "y_train_pred = cross_val_predict(sgd_clf, X_train_scaled, y_train, cv=3)\n",
    "conf_mx = confusion_matrix(y_train, y_train_pred)"
   ]
  },
  {
   "cell_type": "code",
   "execution_count": 61,
   "metadata": {
    "ExecuteTime": {
     "end_time": "2018-10-20T13:09:36.582026Z",
     "start_time": "2018-10-20T13:09:36.576617Z"
    }
   },
   "outputs": [
    {
     "data": {
      "text/plain": [
       "array([[5741,    2,   18,   11,   10,   45,   42,   11,   40,    3],\n",
       "       [   2, 6468,   51,   22,    7,   35,    9,   10,  127,   11],\n",
       "       [  54,   41, 5316,  101,   84,   22,  103,   62,  160,   15],\n",
       "       [  49,   45,  138, 5311,    4,  242,   37,   57,  149,   99],\n",
       "       [  21,   29,   38,    7, 5368,    5,   50,   34,   83,  207],\n",
       "       [  69,   51,   37,  163,   86, 4615,  107,   29,  171,   93],\n",
       "       [  33,   25,   47,    1,   39,   97, 5621,    8,   47,    0],\n",
       "       [  18,   23,   65,   25,   53,   12,    8, 5809,   17,  235],\n",
       "       [  48,  144,   72,  139,   12,  144,   56,   30, 5070,  136],\n",
       "       [  40,   35,   27,   82,  166,   31,    2,  198,   82, 5286]])"
      ]
     },
     "execution_count": 61,
     "metadata": {},
     "output_type": "execute_result"
    }
   ],
   "source": [
    "conf_mx"
   ]
  },
  {
   "cell_type": "code",
   "execution_count": 65,
   "metadata": {
    "ExecuteTime": {
     "end_time": "2018-10-20T13:11:33.455116Z",
     "start_time": "2018-10-20T13:11:33.377388Z"
    }
   },
   "outputs": [
    {
     "data": {
      "image/png": "[encoded data removed]",
      "text/plain": [
       "<Figure size 288x288 with 1 Axes>"
      ]
     },
     "metadata": {
      "needs_background": "light"
     },
     "output_type": "display_data"
    }
   ],
   "source": [
    "plt.matshow(conf_mx, cmap=plt.cm.gray)\n",
    "plt.show()"
   ]
  },
  {
   "cell_type": "markdown",
   "metadata": {},
   "source": [
    "**row is the actual class while columns are the predict class.**"
   ]
  },
  {
   "cell_type": "markdown",
   "metadata": {},
   "source": [
    "* normalize the `conf_mx`"
   ]
  },
  {
   "cell_type": "code",
   "execution_count": 63,
   "metadata": {
    "ExecuteTime": {
     "end_time": "2018-10-20T13:10:36.966266Z",
     "start_time": "2018-10-20T13:10:36.963099Z"
    }
   },
   "outputs": [],
   "source": [
    "row_sums = conf_mx.sum(axis=1, keepdims=True)\n",
    "norm_conf_mx = conf_mx / row_sums"
   ]
  },
  {
   "cell_type": "markdown",
   "metadata": {},
   "source": [
    "* fill the correct predict with 0 "
   ]
  },
  {
   "cell_type": "code",
   "execution_count": 64,
   "metadata": {
    "ExecuteTime": {
     "end_time": "2018-10-20T13:11:14.064577Z",
     "start_time": "2018-10-20T13:11:13.974402Z"
    }
   },
   "outputs": [
    {
     "data": {
      "image/png": "[encoded data removed]",
      "text/plain": [
       "<Figure size 288x288 with 1 Axes>"
      ]
     },
     "metadata": {
      "needs_background": "light"
     },
     "output_type": "display_data"
    }
   ],
   "source": [
    "np.fill_diagonal(norm_conf_mx, 0)\n",
    "plt.matshow(norm_conf_mx, cmap=plt.cm.gray)\n",
    "plt.show()"
   ]
  },
  {
   "cell_type": "markdown",
   "metadata": {},
   "source": [
    "* white means misclassified\n",
    "* many 7 are predicts as 9\n",
    "* most 1s are classified correctly"
   ]
  },
  {
   "cell_type": "markdown",
   "metadata": {},
   "source": [
    "<div class=\"burk\">\n",
    "Analyzing individual errors can also be a good way to gain insights on what your classifier is doing and why it is failing</div><i class=\"fa fa-lightbulb-o \"></i>"
   ]
  },
  {
   "cell_type": "markdown",
   "metadata": {
    "ExecuteTime": {
     "end_time": "2017-11-22T15:35:21.869041Z",
     "start_time": "2017-11-22T15:35:21.726943Z"
    }
   },
   "source": [
    "## Multilabel Classification "
   ]
  },
  {
   "cell_type": "markdown",
   "metadata": {},
   "source": [
    "* instead of outputting exact one 1, the model has a vector of $\\{0,1\\}$ "
   ]
  },
  {
   "cell_type": "markdown",
   "metadata": {},
   "source": [
    "###  KNeighborsClassifier - `neighbors:KNeighborsClassifier`"
   ]
  },
  {
   "cell_type": "markdown",
   "metadata": {},
   "source": [
    "let's train a KNN that classifies >=7 against odds"
   ]
  },
  {
   "cell_type": "code",
   "execution_count": 31,
   "metadata": {
    "ExecuteTime": {
     "end_time": "2017-11-22T15:53:50.610729Z",
     "start_time": "2017-11-22T15:53:50.576705Z"
    },
    "scrolled": false
   },
   "outputs": [],
   "source": [
    "from sklearn.neighbors import KNeighborsClassifier\n",
    "y_train_large = (y_train >= 7)\n",
    "y_train_odd = (y_train % 2 == 1)\n",
    "y_multilabel = np.c_[y_train_large, y_train_odd]\n",
    "knn_clf = KNeighborsClassifier()"
   ]
  },
  {
   "cell_type": "code",
   "execution_count": null,
   "metadata": {},
   "outputs": [],
   "source": [
    "knn_clf.fit(X_train, y_multilabel)"
   ]
  },
  {
   "cell_type": "code",
   "execution_count": 153,
   "metadata": {
    "ExecuteTime": {
     "end_time": "2017-11-22T15:39:49.287015Z",
     "start_time": "2017-11-22T15:39:49.190949Z"
    }
   },
   "outputs": [
    {
     "data": {
      "text/plain": [
       "array([[False,  True]], dtype=bool)"
      ]
     },
     "execution_count": 153,
     "metadata": {},
     "output_type": "execute_result"
    }
   ],
   "source": [
    "knn_clf.predict([some_digit])"
   ]
  },
  {
   "cell_type": "markdown",
   "metadata": {},
   "source": [
    "### Evaluation of multilabel classification "
   ]
  },
  {
   "cell_type": "markdown",
   "metadata": {},
   "source": [
    "#### f1_score"
   ]
  },
  {
   "cell_type": "code",
   "execution_count": null,
   "metadata": {
    "ExecuteTime": {
     "start_time": "2017-11-22T15:48:31.796Z"
    }
   },
   "outputs": [],
   "source": [
    "y_train_knn_pred = cross_val_predict(knn_clf, X_train, y_train, cv=3)\n",
    "f1_score(y_train, y_train_knn_pred, average=\"macro\")"
   ]
  },
  {
   "cell_type": "markdown",
   "metadata": {},
   "source": [
    "<div class=\"burk\">\n",
    "* set `average=\"weighted\"` to give each label a weight equal to its support (the number of instances with that target label)</div><i class=\"fa fa-lightbulb-o \"></i>"
   ]
  },
  {
   "cell_type": "markdown",
   "metadata": {},
   "source": [
    "## Multioutput Classification \n",
    "a generalization of multilabel classification where each label can be multiclass"
   ]
  },
  {
   "cell_type": "markdown",
   "metadata": {},
   "source": [
    "* add noise to 5"
   ]
  },
  {
   "cell_type": "code",
   "execution_count": 27,
   "metadata": {
    "ExecuteTime": {
     "end_time": "2017-11-22T15:52:58.997574Z",
     "start_time": "2017-11-22T15:52:58.247039Z"
    }
   },
   "outputs": [],
   "source": [
    "import numpy.random as rnd\n",
    "noise = rnd.randint(0, 100, (len(X_train), 784))\n",
    "noise_ = rnd.randint(0, 100, (len(X_test), 784))\n",
    "X_train_mod = X_train + noise\n",
    "X_test_mod = X_test + noise_\n",
    "y_train_mod = X_train\n",
    "y_test_mod = X_test"
   ]
  },
  {
   "cell_type": "code",
   "execution_count": 36,
   "metadata": {
    "ExecuteTime": {
     "end_time": "2017-11-22T15:55:39.027757Z",
     "start_time": "2017-11-22T15:55:38.927686Z"
    }
   },
   "outputs": [
    {
     "data": {
      "image/png": "[encoded data removed]",
      "text/plain": [
       "<matplotlib.figure.Figure at 0x1a829064e80>"
      ]
     },
     "metadata": {},
     "output_type": "display_data"
    }
   ],
   "source": [
    "def plot_digit(some_digit):\n",
    "    some_digit_image = some_digit.reshape(28, 28)\n",
    "    plt.imshow(\n",
    "        some_digit_image, cmap=matplotlib.cm.binary, interpolation=\"nearest\")\n",
    "    plt.axis(\"off\")\n",
    "    plt.show()\n",
    "    \n",
    "some_digit = X_train_mod[36000]\n",
    "plot_digit(some_digit)"
   ]
  },
  {
   "cell_type": "code",
   "execution_count": 37,
   "metadata": {
    "ExecuteTime": {
     "end_time": "2017-11-22T15:55:53.148028Z",
     "start_time": "2017-11-22T15:55:40.760205Z"
    }
   },
   "outputs": [
    {
     "data": {
      "image/png": "[encoded data removed]",
      "text/plain": [
       "<matplotlib.figure.Figure at 0x1a829064cf8>"
      ]
     },
     "metadata": {},
     "output_type": "display_data"
    }
   ],
   "source": [
    "knn_clf.fit(X_train_mod, y_train_mod)\n",
    "clean_digit = knn_clf.predict([X_train_mod[36000]])\n",
    "plot_digit(clean_digit)"
   ]
  },
  {
   "cell_type": "code",
   "execution_count": null,
   "metadata": {},
   "outputs": [],
   "source": []
  }
 ],
 "metadata": {
  "kernelspec": {
   "display_name": "Python 3",
   "language": "python",
   "name": "python3"
  },
  "language_info": {
   "codemirror_mode": {
    "name": "ipython",
    "version": 3
   },
   "file_extension": ".py",
   "mimetype": "text/x-python",
   "name": "python",
   "nbconvert_exporter": "python",
   "pygments_lexer": "ipython3",
   "version": "3.7.0"
  },
  "toc": {
   "base_numbering": 1,
   "nav_menu": {},
   "number_sections": true,
   "sideBar": true,
   "skip_h1_title": true,
   "title_cell": "Table of Contents",
   "title_sidebar": "Contents",
   "toc_cell": true,
   "toc_position": {
    "height": "735px",
    "left": "0px",
    "right": "551.813px",
    "top": "136px",
    "width": "214px"
   },
   "toc_section_display": "block",
   "toc_window_display": false
  }
 },
 "nbformat": 4,
 "nbformat_minor": 1
}
