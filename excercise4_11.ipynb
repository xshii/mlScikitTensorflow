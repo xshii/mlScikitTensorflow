{
 "cells": [
  {
   "cell_type": "markdown",
   "metadata": {
    "collapsed": true
   },
   "source": [
    "# Exercise 4.11 in ISLR"
   ]
  },
  {
   "cell_type": "code",
   "execution_count": 1,
   "metadata": {},
   "outputs": [],
   "source": [
    "import os"
   ]
  },
  {
   "cell_type": "code",
   "execution_count": 2,
   "metadata": {},
   "outputs": [],
   "source": [
    "DATA_RESP = 'datasets\\ISLR'\n",
    "DATA_SET = 'Auto.csv'"
   ]
  },
  {
   "cell_type": "code",
   "execution_count": 3,
   "metadata": {},
   "outputs": [],
   "source": [
    "import pandas as pd"
   ]
  },
  {
   "cell_type": "code",
   "execution_count": 4,
   "metadata": {},
   "outputs": [],
   "source": [
    "Auto_ = pd.read_csv(os.path.join(DATA_RESP,DATA_SET),index_col=0)"
   ]
  },
  {
   "cell_type": "code",
   "execution_count": 5,
   "metadata": {},
   "outputs": [
    {
     "data": {
      "text/html": [
       "<div>\n",
       "<style scoped>\n",
       "    .dataframe tbody tr th:only-of-type {\n",
       "        vertical-align: middle;\n",
       "    }\n",
       "\n",
       "    .dataframe tbody tr th {\n",
       "        vertical-align: top;\n",
       "    }\n",
       "\n",
       "    .dataframe thead th {\n",
       "        text-align: right;\n",
       "    }\n",
       "</style>\n",
       "<table border=\"1\" class=\"dataframe\">\n",
       "  <thead>\n",
       "    <tr style=\"text-align: right;\">\n",
       "      <th></th>\n",
       "      <th>mpg</th>\n",
       "      <th>cylinders</th>\n",
       "      <th>displacement</th>\n",
       "      <th>horsepower</th>\n",
       "      <th>weight</th>\n",
       "      <th>acceleration</th>\n",
       "      <th>year</th>\n",
       "      <th>origin</th>\n",
       "      <th>name</th>\n",
       "      <th>mpg01</th>\n",
       "    </tr>\n",
       "  </thead>\n",
       "  <tbody>\n",
       "    <tr>\n",
       "      <th>1</th>\n",
       "      <td>18.0</td>\n",
       "      <td>8</td>\n",
       "      <td>307.0</td>\n",
       "      <td>130</td>\n",
       "      <td>3504</td>\n",
       "      <td>12.0</td>\n",
       "      <td>70</td>\n",
       "      <td>1</td>\n",
       "      <td>chevrolet chevelle malibu</td>\n",
       "      <td>0</td>\n",
       "    </tr>\n",
       "    <tr>\n",
       "      <th>2</th>\n",
       "      <td>15.0</td>\n",
       "      <td>8</td>\n",
       "      <td>350.0</td>\n",
       "      <td>165</td>\n",
       "      <td>3693</td>\n",
       "      <td>11.5</td>\n",
       "      <td>70</td>\n",
       "      <td>1</td>\n",
       "      <td>buick skylark 320</td>\n",
       "      <td>0</td>\n",
       "    </tr>\n",
       "    <tr>\n",
       "      <th>3</th>\n",
       "      <td>18.0</td>\n",
       "      <td>8</td>\n",
       "      <td>318.0</td>\n",
       "      <td>150</td>\n",
       "      <td>3436</td>\n",
       "      <td>11.0</td>\n",
       "      <td>70</td>\n",
       "      <td>1</td>\n",
       "      <td>plymouth satellite</td>\n",
       "      <td>0</td>\n",
       "    </tr>\n",
       "    <tr>\n",
       "      <th>4</th>\n",
       "      <td>16.0</td>\n",
       "      <td>8</td>\n",
       "      <td>304.0</td>\n",
       "      <td>150</td>\n",
       "      <td>3433</td>\n",
       "      <td>12.0</td>\n",
       "      <td>70</td>\n",
       "      <td>1</td>\n",
       "      <td>amc rebel sst</td>\n",
       "      <td>0</td>\n",
       "    </tr>\n",
       "    <tr>\n",
       "      <th>5</th>\n",
       "      <td>17.0</td>\n",
       "      <td>8</td>\n",
       "      <td>302.0</td>\n",
       "      <td>140</td>\n",
       "      <td>3449</td>\n",
       "      <td>10.5</td>\n",
       "      <td>70</td>\n",
       "      <td>1</td>\n",
       "      <td>ford torino</td>\n",
       "      <td>0</td>\n",
       "    </tr>\n",
       "  </tbody>\n",
       "</table>\n",
       "</div>"
      ],
      "text/plain": [
       "    mpg  cylinders  displacement  horsepower  weight  acceleration  year  \\\n",
       "1  18.0          8         307.0         130    3504          12.0    70   \n",
       "2  15.0          8         350.0         165    3693          11.5    70   \n",
       "3  18.0          8         318.0         150    3436          11.0    70   \n",
       "4  16.0          8         304.0         150    3433          12.0    70   \n",
       "5  17.0          8         302.0         140    3449          10.5    70   \n",
       "\n",
       "   origin                       name  mpg01  \n",
       "1       1  chevrolet chevelle malibu      0  \n",
       "2       1          buick skylark 320      0  \n",
       "3       1         plymouth satellite      0  \n",
       "4       1              amc rebel sst      0  \n",
       "5       1                ford torino      0  "
      ]
     },
     "execution_count": 5,
     "metadata": {},
     "output_type": "execute_result"
    }
   ],
   "source": [
    "median_mpg = Auto_['mpg'].median()\n",
    "Auto__ = Auto_.copy()\n",
    "Auto__['mpg01'] = (Auto_['mpg']>median_mpg) * 1\n",
    "Auto__.head(5)"
   ]
  },
  {
   "cell_type": "code",
   "execution_count": 6,
   "metadata": {},
   "outputs": [
    {
     "name": "stdout",
     "output_type": "stream",
     "text": [
      "<class 'pandas.core.frame.DataFrame'>\n",
      "Int64Index: 392 entries, 1 to 397\n",
      "Data columns (total 10 columns):\n",
      "mpg             392 non-null float64\n",
      "cylinders       392 non-null int64\n",
      "displacement    392 non-null float64\n",
      "horsepower      392 non-null int64\n",
      "weight          392 non-null int64\n",
      "acceleration    392 non-null float64\n",
      "year            392 non-null int64\n",
      "origin          392 non-null int64\n",
      "name            392 non-null object\n",
      "mpg01           392 non-null int32\n",
      "dtypes: float64(3), int32(1), int64(5), object(1)\n",
      "memory usage: 32.2+ KB\n"
     ]
    }
   ],
   "source": [
    "Auto__.info()"
   ]
  },
  {
   "cell_type": "markdown",
   "metadata": {},
   "source": [
    "## quantify the 'name' col  by its brands"
   ]
  },
  {
   "cell_type": "markdown",
   "metadata": {},
   "source": [
    "* transform 'name' to its 'brand'"
   ]
  },
  {
   "cell_type": "code",
   "execution_count": 7,
   "metadata": {},
   "outputs": [],
   "source": [
    "try:\n",
    "    Auto__['brand'] = Auto_['name'].apply(lambda x: x.split()[0])\n",
    "    Auto__.drop('name',axis=1,inplace=True)\n",
    "    pass\n",
    "except Exception as e:\n",
    "    pass"
   ]
  },
  {
   "cell_type": "markdown",
   "metadata": {},
   "source": [
    "* categorize 'brand'\n",
    "    * one way is to use \n",
    "    from sklearn.preprocessing import LabelEncoder it won't keep the original name if we rerun the code\n",
    "    * another way is to define a dict"
   ]
  },
  {
   "cell_type": "code",
   "execution_count": 8,
   "metadata": {},
   "outputs": [],
   "source": [
    "def brand_index(brands):\n",
    "    brand_set = sorted(set(brands))\n",
    "    brand_dict = {}\n",
    "    for idx,brand in enumerate(brand_set):\n",
    "        brand_dict[brand] = idx\n",
    "    return brand_dict\n",
    "    "
   ]
  },
  {
   "cell_type": "code",
   "execution_count": 9,
   "metadata": {},
   "outputs": [],
   "source": [
    "brand_dict = brand_index(Auto__['brand'])"
   ]
  },
  {
   "cell_type": "code",
   "execution_count": 10,
   "metadata": {},
   "outputs": [
    {
     "data": {
      "text/html": [
       "<div>\n",
       "<style scoped>\n",
       "    .dataframe tbody tr th:only-of-type {\n",
       "        vertical-align: middle;\n",
       "    }\n",
       "\n",
       "    .dataframe tbody tr th {\n",
       "        vertical-align: top;\n",
       "    }\n",
       "\n",
       "    .dataframe thead th {\n",
       "        text-align: right;\n",
       "    }\n",
       "</style>\n",
       "<table border=\"1\" class=\"dataframe\">\n",
       "  <thead>\n",
       "    <tr style=\"text-align: right;\">\n",
       "      <th></th>\n",
       "      <th>mpg</th>\n",
       "      <th>cylinders</th>\n",
       "      <th>displacement</th>\n",
       "      <th>horsepower</th>\n",
       "      <th>weight</th>\n",
       "      <th>acceleration</th>\n",
       "      <th>year</th>\n",
       "      <th>origin</th>\n",
       "      <th>mpg01</th>\n",
       "      <th>brand</th>\n",
       "    </tr>\n",
       "  </thead>\n",
       "  <tbody>\n",
       "    <tr>\n",
       "      <th>1</th>\n",
       "      <td>18.0</td>\n",
       "      <td>8</td>\n",
       "      <td>307.0</td>\n",
       "      <td>130</td>\n",
       "      <td>3504</td>\n",
       "      <td>12.0</td>\n",
       "      <td>70</td>\n",
       "      <td>1</td>\n",
       "      <td>0</td>\n",
       "      <td>7</td>\n",
       "    </tr>\n",
       "    <tr>\n",
       "      <th>2</th>\n",
       "      <td>15.0</td>\n",
       "      <td>8</td>\n",
       "      <td>350.0</td>\n",
       "      <td>165</td>\n",
       "      <td>3693</td>\n",
       "      <td>11.5</td>\n",
       "      <td>70</td>\n",
       "      <td>1</td>\n",
       "      <td>0</td>\n",
       "      <td>3</td>\n",
       "    </tr>\n",
       "    <tr>\n",
       "      <th>3</th>\n",
       "      <td>18.0</td>\n",
       "      <td>8</td>\n",
       "      <td>318.0</td>\n",
       "      <td>150</td>\n",
       "      <td>3436</td>\n",
       "      <td>11.0</td>\n",
       "      <td>70</td>\n",
       "      <td>1</td>\n",
       "      <td>0</td>\n",
       "      <td>25</td>\n",
       "    </tr>\n",
       "    <tr>\n",
       "      <th>4</th>\n",
       "      <td>16.0</td>\n",
       "      <td>8</td>\n",
       "      <td>304.0</td>\n",
       "      <td>150</td>\n",
       "      <td>3433</td>\n",
       "      <td>12.0</td>\n",
       "      <td>70</td>\n",
       "      <td>1</td>\n",
       "      <td>0</td>\n",
       "      <td>0</td>\n",
       "    </tr>\n",
       "    <tr>\n",
       "      <th>5</th>\n",
       "      <td>17.0</td>\n",
       "      <td>8</td>\n",
       "      <td>302.0</td>\n",
       "      <td>140</td>\n",
       "      <td>3449</td>\n",
       "      <td>10.5</td>\n",
       "      <td>70</td>\n",
       "      <td>1</td>\n",
       "      <td>0</td>\n",
       "      <td>13</td>\n",
       "    </tr>\n",
       "  </tbody>\n",
       "</table>\n",
       "</div>"
      ],
      "text/plain": [
       "    mpg  cylinders  displacement  horsepower  weight  acceleration  year  \\\n",
       "1  18.0          8         307.0         130    3504          12.0    70   \n",
       "2  15.0          8         350.0         165    3693          11.5    70   \n",
       "3  18.0          8         318.0         150    3436          11.0    70   \n",
       "4  16.0          8         304.0         150    3433          12.0    70   \n",
       "5  17.0          8         302.0         140    3449          10.5    70   \n",
       "\n",
       "   origin  mpg01  brand  \n",
       "1       1      0      7  \n",
       "2       1      0      3  \n",
       "3       1      0     25  \n",
       "4       1      0      0  \n",
       "5       1      0     13  "
      ]
     },
     "execution_count": 10,
     "metadata": {},
     "output_type": "execute_result"
    }
   ],
   "source": [
    "Auto__['brand'] = Auto__['brand'].apply(lambda x: brand_dict[x])\n",
    "Auto__.head()"
   ]
  },
  {
   "cell_type": "markdown",
   "metadata": {},
   "source": [
    "## intuitive view"
   ]
  },
  {
   "cell_type": "code",
   "execution_count": 13,
   "metadata": {},
   "outputs": [
    {
     "name": "stderr",
     "output_type": "stream",
     "text": [
      "C:\\Users\\gakki\\AppData\\Local\\conda\\conda\\envs\\ml\\lib\\site-packages\\ipykernel_launcher.py:4: FutureWarning: 'pandas.tools.plotting.scatter_matrix' is deprecated, import 'pandas.plotting.scatter_matrix' instead.\n",
      "  after removing the cwd from sys.path.\n"
     ]
    },
    {
     "data": {
      "image/png": "[encoded data removed]",
      "text/plain": [
       "<matplotlib.figure.Figure at 0x2150c5c7a58>"
      ]
     },
     "metadata": {},
     "output_type": "display_data"
    }
   ],
   "source": [
    "%matplotlib inline\n",
    "from pandas.tools.plotting import scatter_matrix\n",
    "attribute = ['mpg01','origin','year','cylinders','weight','displacement','horsepower']\n",
    "scat = scatter_matrix(Auto__[attribute],figsize=(12,8))"
   ]
  },
  {
   "cell_type": "markdown",
   "metadata": {},
   "source": [
    "** not that informative!**"
   ]
  },
  {
   "cell_type": "code",
   "execution_count": 14,
   "metadata": {},
   "outputs": [],
   "source": [
    "\n",
    "import matplotlib.pyplot as plt\n",
    "plt.style.use('ggplot')"
   ]
  },
  {
   "cell_type": "code",
   "execution_count": 15,
   "metadata": {},
   "outputs": [
    {
     "data": {
      "image/png": "[encoded data removed]",
      "text/plain": [
       "<matplotlib.figure.Figure at 0x21509b90ac8>"
      ]
     },
     "metadata": {},
     "output_type": "display_data"
    }
   ],
   "source": [
    "for num, alpha in zip(range(1, len(Auto__)), Auto__.loc[:, Auto__.columns != 'mpg01']):\n",
    "    plt.subplot(3, 3, num)\n",
    "    plt.hist(Auto__[alpha][Auto__['mpg01']==0], bins=25, alpha=0.5, label='0', color='b')\n",
    "    plt.hist(Auto__[alpha][Auto__['mpg01']==1], bins=25, alpha=0.5, label='1', color='r')\n",
    "    plt.legend(loc='upper right')\n",
    "    plt.title(alpha)\n",
    "plt.tight_layout(pad=0.4, w_pad=0.5, h_pad=1.0)"
   ]
  },
  {
   "cell_type": "markdown",
   "metadata": {},
   "source": [
    "the relationship between `mpg 0` and `mpg 1` is much more clearly"
   ]
  },
  {
   "cell_type": "markdown",
   "metadata": {},
   "source": [
    "## linear correlation"
   ]
  },
  {
   "cell_type": "code",
   "execution_count": 16,
   "metadata": {},
   "outputs": [],
   "source": [
    "corr_matrix = Auto__.corr()"
   ]
  },
  {
   "cell_type": "code",
   "execution_count": 122,
   "metadata": {},
   "outputs": [
    {
     "data": {
      "text/plain": [
       "mpg01           1.000000\n",
       "mpg             0.836939\n",
       "origin          0.513698\n",
       "year            0.429904\n",
       "acceleration    0.346822\n",
       "brand           0.276246\n",
       "horsepower     -0.667053\n",
       "displacement   -0.753477\n",
       "weight         -0.757757\n",
       "cylinders      -0.759194\n",
       "Name: mpg01, dtype: float64"
      ]
     },
     "execution_count": 122,
     "metadata": {},
     "output_type": "execute_result"
    }
   ],
   "source": [
    "corr_matrix['mpg01'].sort_values(ascending=False)"
   ]
  },
  {
   "cell_type": "markdown",
   "metadata": {},
   "source": [
    "## Avoid sample bias"
   ]
  },
  {
   "cell_type": "code",
   "execution_count": 123,
   "metadata": {},
   "outputs": [
    {
     "data": {
      "text/plain": [
       "1    0.5\n",
       "0    0.5\n",
       "Name: mpg01, dtype: float64"
      ]
     },
     "execution_count": 123,
     "metadata": {},
     "output_type": "execute_result"
    }
   ],
   "source": [
    "Auto__['mpg01'].value_counts()/len(Auto__['mpg01'])"
   ]
  },
  {
   "cell_type": "code",
   "execution_count": 124,
   "metadata": {},
   "outputs": [],
   "source": [
    "from sklearn.model_selection import train_test_split\n",
    "train_set, test_set = train_test_split(Auto__, test_size=0.2, random_state=42)"
   ]
  },
  {
   "cell_type": "code",
   "execution_count": 125,
   "metadata": {
    "scrolled": true
   },
   "outputs": [
    {
     "data": {
      "text/plain": [
       "0    0.531646\n",
       "1    0.468354\n",
       "Name: mpg01, dtype: float64"
      ]
     },
     "execution_count": 125,
     "metadata": {},
     "output_type": "execute_result"
    }
   ],
   "source": [
    "test_set['mpg01'].value_counts()/len(test_set['mpg01'])"
   ]
  },
  {
   "cell_type": "markdown",
   "metadata": {},
   "source": [
    "### ！bias exists, use stratefied split"
   ]
  },
  {
   "cell_type": "markdown",
   "metadata": {},
   "source": [
    "it is a sample method that takes the volume of each category into account"
   ]
  },
  {
   "cell_type": "code",
   "execution_count": 126,
   "metadata": {},
   "outputs": [],
   "source": [
    "from sklearn.model_selection import StratifiedShuffleSplit\n",
    "split = StratifiedShuffleSplit(n_splits=1, test_size=0.2, random_state=42)"
   ]
  },
  {
   "cell_type": "code",
   "execution_count": 127,
   "metadata": {},
   "outputs": [],
   "source": [
    "for train_index, test_index in split.split(Auto__,Auto__['mpg01']):\n",
    "    strated_train_set = Auto__.iloc[train_index]\n",
    "    strated_test_set = Auto__.iloc[test_index]"
   ]
  },
  {
   "cell_type": "code",
   "execution_count": 128,
   "metadata": {},
   "outputs": [
    {
     "data": {
      "text/plain": [
       "0    0.506329\n",
       "1    0.493671\n",
       "Name: mpg01, dtype: float64"
      ]
     },
     "execution_count": 128,
     "metadata": {},
     "output_type": "execute_result"
    }
   ],
   "source": [
    "strated_test_set['mpg01'].value_counts()/len(test_set['mpg01'])"
   ]
  },
  {
   "cell_type": "markdown",
   "metadata": {},
   "source": [
    "** much better!**"
   ]
  },
  {
   "cell_type": "code",
   "execution_count": 129,
   "metadata": {},
   "outputs": [],
   "source": [
    "Auto_train_x = strated_train_set.drop([\"mpg\",\"mpg01\"],axis=1)\n",
    "Auto_train_y = strated_train_set[\"mpg01\"].copy()\n",
    "Auto_test_x = strated_test_set.drop([\"mpg\",\"mpg01\"],axis=1)\n",
    "Auto_test_y = strated_test_set[\"mpg01\"].copy()"
   ]
  },
  {
   "cell_type": "markdown",
   "metadata": {},
   "source": [
    "# Logistic Regression"
   ]
  },
  {
   "cell_type": "code",
   "execution_count": 130,
   "metadata": {},
   "outputs": [],
   "source": [
    "from sklearn.linear_model import LogisticRegression\n",
    "import numpy as np"
   ]
  },
  {
   "cell_type": "code",
   "execution_count": 131,
   "metadata": {},
   "outputs": [
    {
     "data": {
      "text/plain": [
       "LogisticRegression(C=1.0, class_weight=None, dual=False, fit_intercept=True,\n",
       "          intercept_scaling=1, max_iter=100, multi_class='ovr', n_jobs=1,\n",
       "          penalty='l2', random_state=None, solver='liblinear', tol=0.0001,\n",
       "          verbose=0, warm_start=False)"
      ]
     },
     "execution_count": 131,
     "metadata": {},
     "output_type": "execute_result"
    }
   ],
   "source": [
    "lin_reg = LogisticRegression()\n",
    "lin_reg.fit(Auto_train_x, Auto_train_y)"
   ]
  },
  {
   "cell_type": "code",
   "execution_count": 132,
   "metadata": {},
   "outputs": [
    {
     "name": "stdout",
     "output_type": "stream",
     "text": [
      "the error rate of Logistic Regression without optimization is:  0.113924050633\n"
     ]
    }
   ],
   "source": [
    "pred_y = lin_reg.predict(Auto_test_x)\n",
    "print(\"the error rate of Logistic Regression without optimization is: \", 1-np.mean(pred_y==Auto_test_y))"
   ]
  },
  {
   "cell_type": "markdown",
   "metadata": {},
   "source": [
    "## Feature engineering"
   ]
  },
  {
   "cell_type": "markdown",
   "metadata": {},
   "source": [
    "### feature scaling"
   ]
  },
  {
   "cell_type": "code",
   "execution_count": 133,
   "metadata": {},
   "outputs": [],
   "source": [
    "from sklearn.preprocessing import MinMaxScaler"
   ]
  },
  {
   "cell_type": "code",
   "execution_count": 134,
   "metadata": {},
   "outputs": [],
   "source": [
    "min_max_scaler = MinMaxScaler()"
   ]
  },
  {
   "cell_type": "code",
   "execution_count": 135,
   "metadata": {},
   "outputs": [
    {
     "data": {
      "text/html": [
       "<div>\n",
       "<style scoped>\n",
       "    .dataframe tbody tr th:only-of-type {\n",
       "        vertical-align: middle;\n",
       "    }\n",
       "\n",
       "    .dataframe tbody tr th {\n",
       "        vertical-align: top;\n",
       "    }\n",
       "\n",
       "    .dataframe thead th {\n",
       "        text-align: right;\n",
       "    }\n",
       "</style>\n",
       "<table border=\"1\" class=\"dataframe\">\n",
       "  <thead>\n",
       "    <tr style=\"text-align: right;\">\n",
       "      <th></th>\n",
       "      <th>0</th>\n",
       "      <th>1</th>\n",
       "      <th>2</th>\n",
       "      <th>3</th>\n",
       "      <th>4</th>\n",
       "      <th>5</th>\n",
       "      <th>6</th>\n",
       "      <th>7</th>\n",
       "    </tr>\n",
       "  </thead>\n",
       "  <tbody>\n",
       "    <tr>\n",
       "      <th>0</th>\n",
       "      <td>0.2</td>\n",
       "      <td>0.186047</td>\n",
       "      <td>0.228261</td>\n",
       "      <td>0.313864</td>\n",
       "      <td>0.440476</td>\n",
       "      <td>0.666667</td>\n",
       "      <td>0.0</td>\n",
       "      <td>0.361111</td>\n",
       "    </tr>\n",
       "    <tr>\n",
       "      <th>1</th>\n",
       "      <td>0.2</td>\n",
       "      <td>0.186047</td>\n",
       "      <td>0.228261</td>\n",
       "      <td>0.356394</td>\n",
       "      <td>0.601190</td>\n",
       "      <td>0.833333</td>\n",
       "      <td>0.0</td>\n",
       "      <td>0.361111</td>\n",
       "    </tr>\n",
       "    <tr>\n",
       "      <th>2</th>\n",
       "      <td>0.2</td>\n",
       "      <td>0.116279</td>\n",
       "      <td>0.266304</td>\n",
       "      <td>0.188546</td>\n",
       "      <td>0.446429</td>\n",
       "      <td>0.166667</td>\n",
       "      <td>1.0</td>\n",
       "      <td>0.833333</td>\n",
       "    </tr>\n",
       "    <tr>\n",
       "      <th>3</th>\n",
       "      <td>0.6</td>\n",
       "      <td>0.338501</td>\n",
       "      <td>0.239130</td>\n",
       "      <td>0.293451</td>\n",
       "      <td>0.416667</td>\n",
       "      <td>0.000000</td>\n",
       "      <td>0.0</td>\n",
       "      <td>0.000000</td>\n",
       "    </tr>\n",
       "    <tr>\n",
       "      <th>4</th>\n",
       "      <td>0.2</td>\n",
       "      <td>0.186047</td>\n",
       "      <td>0.141304</td>\n",
       "      <td>0.223419</td>\n",
       "      <td>0.684524</td>\n",
       "      <td>0.250000</td>\n",
       "      <td>0.0</td>\n",
       "      <td>0.194444</td>\n",
       "    </tr>\n",
       "  </tbody>\n",
       "</table>\n",
       "</div>"
      ],
      "text/plain": [
       "     0         1         2         3         4         5    6         7\n",
       "0  0.2  0.186047  0.228261  0.313864  0.440476  0.666667  0.0  0.361111\n",
       "1  0.2  0.186047  0.228261  0.356394  0.601190  0.833333  0.0  0.361111\n",
       "2  0.2  0.116279  0.266304  0.188546  0.446429  0.166667  1.0  0.833333\n",
       "3  0.6  0.338501  0.239130  0.293451  0.416667  0.000000  0.0  0.000000\n",
       "4  0.2  0.186047  0.141304  0.223419  0.684524  0.250000  0.0  0.194444"
      ]
     },
     "execution_count": 135,
     "metadata": {},
     "output_type": "execute_result"
    }
   ],
   "source": [
    "Auto_train_x = strated_train_set.drop([\"mpg\",\"mpg01\"],axis=1)\n",
    "Auto_train_y = strated_train_set[\"mpg01\"].copy()\n",
    "Auto_test_x = strated_test_set.drop([\"mpg\",\"mpg01\"],axis=1)\n",
    "Auto_test_y = strated_test_set[\"mpg01\"].copy()\n",
    "Auto_train_x = min_max_scaler.fit_transform(Auto_train_x)\n",
    "Auto_train_x\n",
    "\n",
    "pd.DataFrame(Auto_train_x).head()"
   ]
  },
  {
   "cell_type": "code",
   "execution_count": 136,
   "metadata": {},
   "outputs": [
    {
     "name": "stdout",
     "output_type": "stream",
     "text": [
      "the error rate of Logistic Regression without optimization is:  0.101265822785\n"
     ]
    }
   ],
   "source": [
    "lin_reg = LogisticRegression()\n",
    "lin_reg.fit(Auto_train_x, Auto_train_y)\n",
    "Auto_pred_y = lin_reg.predict(min_max_scaler.transform(Auto_test_x))\n",
    "print(\"the error rate of Logistic Regression without optimization is: \", 1-np.mean(Auto_pred_y==Auto_test_y))"
   ]
  },
  {
   "cell_type": "markdown",
   "metadata": {},
   "source": [
    "### feature type transformation"
   ]
  },
  {
   "cell_type": "markdown",
   "metadata": {},
   "source": [
    "the cylinder brand and origin can be seen as a factor, we can use category vectors"
   ]
  },
  {
   "cell_type": "code",
   "execution_count": 137,
   "metadata": {},
   "outputs": [],
   "source": [
    "from sklearn.preprocessing import LabelBinarizer"
   ]
  },
  {
   "cell_type": "code",
   "execution_count": 138,
   "metadata": {},
   "outputs": [
    {
     "data": {
      "text/plain": [
       "array([[1, 0, 0],\n",
       "       [1, 0, 0],\n",
       "       [1, 0, 0],\n",
       "       [1, 0, 0],\n",
       "       [1, 0, 0],\n",
       "       [1, 0, 0],\n",
       "       [1, 0, 0],\n",
       "       [1, 0, 0],\n",
       "       [1, 0, 0],\n",
       "       [1, 0, 0],\n",
       "       [1, 0, 0],\n",
       "       [1, 0, 0],\n",
       "       [1, 0, 0],\n",
       "       [1, 0, 0],\n",
       "       [0, 0, 1],\n",
       "       [1, 0, 0],\n",
       "       [1, 0, 0],\n",
       "       [1, 0, 0],\n",
       "       [0, 0, 1],\n",
       "       [0, 1, 0]], dtype=int32)"
      ]
     },
     "execution_count": 138,
     "metadata": {},
     "output_type": "execute_result"
    }
   ],
   "source": [
    "encoder = LabelBinarizer(sparse_output=True)\n",
    "cylinders_encoded = encoder.fit_transform(Auto__['cylinders'])\n",
    "brand_encoded = encoder.fit_transform(Auto__['brand'])\n",
    "origin_encoded = encoder.fit_transform(Auto__['origin'])\n",
    "origin_encoded[:20].toarray()"
   ]
  },
  {
   "cell_type": "markdown",
   "metadata": {},
   "source": [
    "## pipeline "
   ]
  },
  {
   "cell_type": "code",
   "execution_count": 139,
   "metadata": {},
   "outputs": [],
   "source": [
    "from sklearn.pipeline import FeatureUnion, Pipeline"
   ]
  },
  {
   "cell_type": "markdown",
   "metadata": {},
   "source": [
    "### Transformer"
   ]
  },
  {
   "cell_type": "code",
   "execution_count": 140,
   "metadata": {},
   "outputs": [],
   "source": [
    "from sklearn.base import BaseEstimator, TransformerMixin\n",
    "from sklearn.preprocessing import LabelBinarizer\n",
    "\n",
    "class DataFrameSelector(BaseEstimator, TransformerMixin):\n",
    "    def __init__(self, attribute_names):\n",
    "        self.attribute_names = attribute_names\n",
    "    \n",
    "    def fit(self, X, y=None):\n",
    "        return self\n",
    "    \n",
    "    def transform(self, X): \n",
    "        return X[self.attribute_names]\n",
    "\n",
    "class MedianCategorical(BaseEstimator, TransformerMixin):\n",
    "    def __init__(self, attribute_names):\n",
    "        self.attribute_names = attribute_names\n",
    "    \n",
    "    def fit(self,X, y=None):\n",
    "        self.median = np.median(X[self.attribute_names])\n",
    "        return self\n",
    "    \n",
    "    def transform(self, X, y=None):\n",
    "        return (X[self.attribute_names] > self.median) * 1\n",
    "    \n",
    "class Name2Brand(BaseEstimator, TransformerMixin):\n",
    "    def __init__(self):\n",
    "        pass\n",
    "    \n",
    "    def fit(self, X, y=None):\n",
    "        return self\n",
    "    \n",
    "    def transform(self, X, y=None):\n",
    "        labels = [x.split()[0] for x in X['name']]\n",
    "        return np.c_[labels]\n",
    "    \n",
    "class PipLabelBinarizer(BaseEstimator, TransformerMixin):\n",
    "    def __init__(self,sparse_output=True):\n",
    "        self.sparse_output = sparse_output\n",
    "\n",
    "    \n",
    "    def fit(self, X, y=None):\n",
    "        self.encoder = LabelBinarizer(sparse_output=self.sparse_output)\n",
    "        self.encoder.fit(X)\n",
    "        return self\n",
    "    \n",
    "    def transform(self, X, y=None):\n",
    "        result = self.encoder.transform(X)\n",
    "        return result"
   ]
  },
  {
   "cell_type": "markdown",
   "metadata": {},
   "source": [
    "### pipeline and FeatureUnion"
   ]
  },
  {
   "cell_type": "code",
   "execution_count": 141,
   "metadata": {},
   "outputs": [],
   "source": [
    "label_attribute = ['mpg']\n",
    "num_attribute = ['displacement','horsepower','weight','acceleration','year']\n",
    "cate_attribute = ['cylinders','origin']\n",
    "brand_attribute = ['name']\n",
    "\n",
    "label_pipline = Pipeline([\n",
    "    ('selector', DataFrameSelector(label_attribute)),\n",
    "    ('medianCategorical', MedianCategorical(label_attribute)),\n",
    "])\n",
    "num_pipeline = Pipeline([\n",
    "    ('selector', DataFrameSelector(num_attribute)),\n",
    "    ('min_max_scaler', MinMaxScaler()),\n",
    "])\n",
    "cate_pipeline0 = Pipeline([\n",
    "    ('selector', DataFrameSelector(cate_attribute[0])),\n",
    "    ('PipLabelBinarizer', PipLabelBinarizer(sparse_output=False)),\n",
    "])\n",
    "cate_pipeline1 = Pipeline([\n",
    "    ('selector', DataFrameSelector(cate_attribute[1])),\n",
    "    ('PipLabelBinarizer', PipLabelBinarizer(sparse_output=False)),\n",
    "])\n",
    "brand_pipeline = Pipeline([\n",
    "    ('selector', DataFrameSelector(brand_attribute)),\n",
    "    ('name2brand', Name2Brand()),\n",
    "    ('PipLabelBinarizer', PipLabelBinarizer(sparse_output=False)),\n",
    "])\n",
    "\n",
    "full_pipeline = FeatureUnion([\n",
    "    ('label_pipline',label_pipline),\n",
    "    ('num_pipeline',num_pipeline),\n",
    "    ('cate_pipeline0',cate_pipeline0),\n",
    "    ('cate_pipeline1',cate_pipeline1),\n",
    "    ('brand_pipeline',brand_pipeline),    \n",
    "])"
   ]
  },
  {
   "cell_type": "code",
   "execution_count": 142,
   "metadata": {},
   "outputs": [
    {
     "data": {
      "text/plain": [
       "False    162\n",
       "True     151\n",
       "Name: mpg, dtype: int64"
      ]
     },
     "execution_count": 142,
     "metadata": {},
     "output_type": "execute_result"
    }
   ],
   "source": [
    "from sklearn.model_selection import train_test_split\n",
    "train_set, test_set = train_test_split(Auto_, test_size=0.2, random_state=42)\n",
    "train_set['mpg'].apply(lambda x:x>np.median(train_set['mpg'])).value_counts()"
   ]
  },
  {
   "cell_type": "code",
   "execution_count": 143,
   "metadata": {},
   "outputs": [],
   "source": [
    "train_array = full_pipeline.fit_transform(train_set)\n",
    "train_x = train_array[:,1:]\n",
    "train_y = np.asarray(train_array[:,0], dtype=\"int\")"
   ]
  },
  {
   "cell_type": "code",
   "execution_count": 144,
   "metadata": {},
   "outputs": [
    {
     "data": {
      "text/plain": [
       "LogisticRegression(C=1.0, class_weight=None, dual=False, fit_intercept=True,\n",
       "          intercept_scaling=1, max_iter=100, multi_class='ovr', n_jobs=1,\n",
       "          penalty='l2', random_state=None, solver='liblinear', tol=0.0001,\n",
       "          verbose=0, warm_start=False)"
      ]
     },
     "execution_count": 144,
     "metadata": {},
     "output_type": "execute_result"
    }
   ],
   "source": [
    "lin_reg = LogisticRegression()\n",
    "lin_reg.fit(train_x, train_y)"
   ]
  },
  {
   "cell_type": "code",
   "execution_count": 145,
   "metadata": {},
   "outputs": [
    {
     "name": "stdout",
     "output_type": "stream",
     "text": [
      "error rate without feature engineering is:  0.101265822785\n",
      "error rate with feature engineering is:     0.101265822785\n"
     ]
    },
    {
     "data": {
      "text/plain": [
       "True     43\n",
       "False    36\n",
       "dtype: int64"
      ]
     },
     "execution_count": 145,
     "metadata": {},
     "output_type": "execute_result"
    }
   ],
   "source": [
    "test_array = full_pipeline.transform(test_set)\n",
    "test_x = test_array[:,1:]\n",
    "test_y = test_array[:,0]\n",
    "pred_y = lin_reg.predict(test_x)\n",
    "print(\"error rate without feature engineering is: \", 1-np.mean(Auto_pred_y==Auto_test_y))\n",
    "print(\"error rate with feature engineering is:    \", 1-np.mean(pred_y==test_y))\n",
    "pd.value_counts(test_y==0)"
   ]
  },
  {
   "cell_type": "markdown",
   "metadata": {},
   "source": [
    "### feature reducing"
   ]
  },
  {
   "cell_type": "code",
   "execution_count": 146,
   "metadata": {},
   "outputs": [],
   "source": [
    "from sklearn.pipeline import FeatureUnion, Pipeline\n",
    "label_attribute = ['mpg']\n",
    "num_attribute = ['displacement','horsepower','weight','acceleration','year']\n",
    "cate_attribute = ['cylinders','origin']\n",
    "brand_attribute = ['name']\n",
    "\n",
    "label_pipline = Pipeline([\n",
    "    ('selector', DataFrameSelector(label_attribute)),\n",
    "    ('medianCategorical', MedianCategorical(label_attribute)),\n",
    "])\n",
    "num_pipeline = Pipeline([\n",
    "    ('selector', DataFrameSelector(num_attribute)),\n",
    "    ('min_max_scaler', MinMaxScaler()),\n",
    "])\n",
    "cate_pipeline0 = Pipeline([\n",
    "    ('selector', DataFrameSelector(cate_attribute[0])),\n",
    "    ('PipLabelBinarizer', PipLabelBinarizer(sparse_output=False)),\n",
    "])\n",
    "cate_pipeline1 = Pipeline([\n",
    "    ('selector', DataFrameSelector(cate_attribute[1])),\n",
    "    ('PipLabelBinarizer', PipLabelBinarizer(sparse_output=False)),\n",
    "])\n",
    "brand_pipeline = Pipeline([\n",
    "    ('selector', DataFrameSelector(brand_attribute)),\n",
    "    ('name2brand', Name2Brand()),\n",
    "    ('PipLabelBinarizer', PipLabelBinarizer(sparse_output=False)),\n",
    "])\n",
    "\n",
    "full_pipeline = FeatureUnion([\n",
    "    ('label_pipline',label_pipline),\n",
    "    #('num_pipeline',num_pipeline),\n",
    "    ('cate_pipeline0',cate_pipeline0),\n",
    "    #('cate_pipeline1',cate_pipeline1),\n",
    "])"
   ]
  },
  {
   "cell_type": "code",
   "execution_count": 147,
   "metadata": {},
   "outputs": [
    {
     "data": {
      "text/plain": [
       "array([[0, 0, 0, 1, 0],\n",
       "       [0, 1, 0, 0, 0],\n",
       "       [0, 0, 0, 1, 0],\n",
       "       ..., \n",
       "       [0, 1, 0, 0, 0],\n",
       "       [0, 1, 0, 0, 0],\n",
       "       [0, 0, 0, 0, 1]], dtype=object)"
      ]
     },
     "execution_count": 147,
     "metadata": {},
     "output_type": "execute_result"
    }
   ],
   "source": [
    "train_array = full_pipeline.fit_transform(train_set)\n",
    "train_x = train_array[:,1:]\n",
    "train_y = np.asarray(train_array[:,0], dtype=\"int\")\n",
    "train_x"
   ]
  },
  {
   "cell_type": "code",
   "execution_count": 148,
   "metadata": {},
   "outputs": [
    {
     "data": {
      "text/plain": [
       "LogisticRegression(C=1.0, class_weight=None, dual=False, fit_intercept=True,\n",
       "          intercept_scaling=1, max_iter=100, multi_class='ovr', n_jobs=1,\n",
       "          penalty='l2', random_state=None, solver='liblinear', tol=0.0001,\n",
       "          verbose=0, warm_start=False)"
      ]
     },
     "execution_count": 148,
     "metadata": {},
     "output_type": "execute_result"
    }
   ],
   "source": [
    "lin_reg = LogisticRegression()\n",
    "lin_reg.fit(train_x, train_y)"
   ]
  },
  {
   "cell_type": "code",
   "execution_count": 149,
   "metadata": {},
   "outputs": [
    {
     "name": "stdout",
     "output_type": "stream",
     "text": [
      "error rate without feature engineering is:  0.101265822785\n",
      "error rate with feature engineering is:     0.101265822785\n"
     ]
    },
    {
     "data": {
      "text/plain": [
       "True     43\n",
       "False    36\n",
       "dtype: int64"
      ]
     },
     "execution_count": 149,
     "metadata": {},
     "output_type": "execute_result"
    }
   ],
   "source": [
    "test_array = full_pipeline.transform(test_set)\n",
    "test_x = test_array[:,1:]\n",
    "test_y = test_array[:,0]\n",
    "lr_pred_y = lin_reg.predict(test_x)\n",
    "print(\"error rate without feature engineering is: \", 1-np.mean(Auto_pred_y==Auto_test_y))\n",
    "print(\"error rate with feature engineering is:    \", 1-np.mean(lr_pred_y==test_y))\n",
    "pd.value_counts(test_y==0)"
   ]
  },
  {
   "cell_type": "markdown",
   "metadata": {},
   "source": [
    "**we can see that 'cylinders' helps to decrease the error rate **"
   ]
  },
  {
   "cell_type": "code",
   "execution_count": 150,
   "metadata": {
    "scrolled": true
   },
   "outputs": [
    {
     "data": {
      "text/plain": [
       "<matplotlib.collections.PathCollection at 0x2150a2ced68>"
      ]
     },
     "execution_count": 150,
     "metadata": {},
     "output_type": "execute_result"
    },
    {
     "data": {
      "image/png": "[encoded data removed]",
      "text/plain": [
       "<matplotlib.figure.Figure at 0x2150c1df160>"
      ]
     },
     "metadata": {},
     "output_type": "display_data"
    }
   ],
   "source": [
    "attribute = ['origin','cylinders']\n",
    "colors = {0:'#377eb8',1:'#a8572c'}\n",
    "color = Auto__['mpg01'].apply(lambda x: (x==0)*'#377eb8'+(x==1)*'#a1272c')\n",
    "from collections import defaultdict\n",
    "def twod_count(x,y):\n",
    "    xx = sorted(set(x))\n",
    "    yy = sorted(set(y))\n",
    "    counter_xy = defaultdict(int)\n",
    "    xy = []\n",
    "    for itemx,itemy in zip(x,y):\n",
    "            counter_xy[(itemx,itemy)] += 1\n",
    "    \n",
    "    for itemx,itemy in zip(x,y):\n",
    "        xy.append(counter_xy[(itemx,itemy)]) \n",
    "    return np.array(xy)\n",
    "\n",
    "size_ = twod_count(Auto__[attribute[0]],Auto__[attribute[1]])\n",
    "size__ = [20*4**n for n in (size_-min(size_))/(max(size_)-min(size_))]\n",
    "plt.scatter(Auto__[attribute[0]],Auto__[attribute[1]],color=color,alpha=0.2, s=size__)"
   ]
  },
  {
   "cell_type": "code",
   "execution_count": 151,
   "metadata": {
    "scrolled": true
   },
   "outputs": [],
   "source": [
    "from sklearn.discriminant_analysis import LinearDiscriminantAnalysis"
   ]
  },
  {
   "cell_type": "code",
   "execution_count": 152,
   "metadata": {},
   "outputs": [],
   "source": [
    "lda = LinearDiscriminantAnalysis()"
   ]
  },
  {
   "cell_type": "code",
   "execution_count": 153,
   "metadata": {},
   "outputs": [
    {
     "name": "stderr",
     "output_type": "stream",
     "text": [
      "C:\\Users\\gakki\\AppData\\Local\\conda\\conda\\envs\\ml\\lib\\site-packages\\sklearn\\discriminant_analysis.py:388: UserWarning: Variables are collinear.\n",
      "  warnings.warn(\"Variables are collinear.\")\n"
     ]
    },
    {
     "data": {
      "text/plain": [
       "LinearDiscriminantAnalysis(n_components=None, priors=None, shrinkage=None,\n",
       "              solver='svd', store_covariance=False, tol=0.0001)"
      ]
     },
     "execution_count": 153,
     "metadata": {},
     "output_type": "execute_result"
    }
   ],
   "source": [
    "lda.fit(train_x,train_y)"
   ]
  },
  {
   "cell_type": "code",
   "execution_count": 154,
   "metadata": {},
   "outputs": [
    {
     "name": "stdout",
     "output_type": "stream",
     "text": [
      "error rate with lda is:     0.101265822785\n"
     ]
    }
   ],
   "source": [
    "lda_y = lda.predict(test_x)\n",
    "print(\"error rate with lda is:    \", 1-np.mean(lda_y==test_y))"
   ]
  },
  {
   "cell_type": "code",
   "execution_count": 155,
   "metadata": {},
   "outputs": [],
   "source": [
    "from sklearn.discriminant_analysis import QuadraticDiscriminantAnalysis"
   ]
  },
  {
   "cell_type": "code",
   "execution_count": 156,
   "metadata": {},
   "outputs": [],
   "source": [
    "qda = QuadraticDiscriminantAnalysis()"
   ]
  },
  {
   "cell_type": "code",
   "execution_count": 157,
   "metadata": {},
   "outputs": [
    {
     "name": "stderr",
     "output_type": "stream",
     "text": [
      "C:\\Users\\gakki\\AppData\\Local\\conda\\conda\\envs\\ml\\lib\\site-packages\\sklearn\\discriminant_analysis.py:682: UserWarning: Variables are collinear\n",
      "  warnings.warn(\"Variables are collinear\")\n"
     ]
    },
    {
     "data": {
      "text/plain": [
       "QuadraticDiscriminantAnalysis(priors=None, reg_param=0.0,\n",
       "               store_covariance=False, store_covariances=None, tol=0.0001)"
      ]
     },
     "execution_count": 157,
     "metadata": {},
     "output_type": "execute_result"
    }
   ],
   "source": [
    "qda.fit(train_x,train_y)"
   ]
  },
  {
   "cell_type": "code",
   "execution_count": 158,
   "metadata": {},
   "outputs": [
    {
     "name": "stdout",
     "output_type": "stream",
     "text": [
      "error rate with qda is:     0.101265822785\n"
     ]
    }
   ],
   "source": [
    "qda_y = qda.predict(test_x)\n",
    "print(\"error rate with qda is:    \", 1-np.mean(qda_y==test_y))"
   ]
  },
  {
   "cell_type": "code",
   "execution_count": 159,
   "metadata": {},
   "outputs": [],
   "source": [
    "from sklearn.neighbors import KNeighborsClassifier"
   ]
  },
  {
   "cell_type": "code",
   "execution_count": 160,
   "metadata": {},
   "outputs": [],
   "source": [
    "knn = KNeighborsClassifier(n_neighbors=10)"
   ]
  },
  {
   "cell_type": "code",
   "execution_count": 161,
   "metadata": {},
   "outputs": [
    {
     "data": {
      "text/plain": [
       "KNeighborsClassifier(algorithm='auto', leaf_size=30, metric='minkowski',\n",
       "           metric_params=None, n_jobs=1, n_neighbors=10, p=2,\n",
       "           weights='uniform')"
      ]
     },
     "execution_count": 161,
     "metadata": {},
     "output_type": "execute_result"
    }
   ],
   "source": [
    "knn.fit(train_x,train_y)"
   ]
  },
  {
   "cell_type": "code",
   "execution_count": 162,
   "metadata": {},
   "outputs": [
    {
     "name": "stdout",
     "output_type": "stream",
     "text": [
      "error rate with knn is:     0.101265822785\n"
     ]
    }
   ],
   "source": [
    "knn_y = knn.predict(test_x)\n",
    "print(\"error rate with knn is:    \", 1-np.mean(knn_y==test_y))"
   ]
  }
 ],
 "metadata": {
  "kernelspec": {
   "display_name": "Python 3",
   "language": "python",
   "name": "python3"
  },
  "language_info": {
   "codemirror_mode": {
    "name": "ipython",
    "version": 3
   },
   "file_extension": ".py",
   "mimetype": "text/x-python",
   "name": "python",
   "nbconvert_exporter": "python",
   "pygments_lexer": "ipython3",
   "version": "3.6.3"
  }
 },
 "nbformat": 4,
 "nbformat_minor": 1
}
