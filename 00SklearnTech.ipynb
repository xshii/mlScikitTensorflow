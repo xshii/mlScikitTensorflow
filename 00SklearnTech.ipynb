{
 "cells": [
  {
   "cell_type": "markdown",
   "metadata": {
    "toc": true
   },
   "source": [
    "<h1>Table of Contents<span class=\"tocSkip\"></span></h1>\n",
    "<div class=\"toc\"><ul class=\"toc-item\"><li><span><a href=\"#Introduction\" data-toc-modified-id=\"Introduction-1\"><span class=\"toc-item-num\">1&nbsp;&nbsp;</span>Introduction</a></span><ul class=\"toc-item\"><li><span><a href=\"#Scikit-Learn-Design-Principles\" data-toc-modified-id=\"Scikit-Learn-Design-Principles-1.1\"><span class=\"toc-item-num\">1.1&nbsp;&nbsp;</span>Scikit-Learn Design Principles</a></span></li></ul></li><li><span><a href=\"#Custom-Transformers\" data-toc-modified-id=\"Custom-Transformers-2\"><span class=\"toc-item-num\">2&nbsp;&nbsp;</span>Custom Transformers</a></span></li><li><span><a href=\"#Transformation-Pipelines-pipeline:Pipeline\" data-toc-modified-id=\"Transformation-Pipelines-pipeline:Pipeline-3\"><span class=\"toc-item-num\">3&nbsp;&nbsp;</span>Transformation Pipelines <code>pipeline:Pipeline</code></a></span><ul class=\"toc-item\"><li><span><a href=\"#Combine-the-pipeline-output-pipeline:FeatureUnion\" data-toc-modified-id=\"Combine-the-pipeline-output-pipeline:FeatureUnion-3.1\"><span class=\"toc-item-num\">3.1&nbsp;&nbsp;</span>Combine the pipeline output <code>pipeline:FeatureUnion</code></a></span></li></ul></li><li><span><a href=\"#Store-Model-externals:joblib\" data-toc-modified-id=\"Store-Model-externals:joblib-4\"><span class=\"toc-item-num\">4&nbsp;&nbsp;</span>Store Model <code>externals:joblib</code></a></span></li></ul></div>"
   ]
  },
  {
   "cell_type": "markdown",
   "metadata": {},
   "source": [
    "# Introduction"
   ]
  },
  {
   "cell_type": "markdown",
   "metadata": {},
   "source": [
    "## Scikit-Learn Design Principles"
   ]
  },
  {
   "cell_type": "markdown",
   "metadata": {},
   "source": [
    "* Consistency. All objects share a consistent and simple interface.\n",
    "    * Estimators.`.fit()`\n",
    "    * Transformers. `.transform()`, `.fit_transform()`\n",
    "    * Predictors. `.predict()`, `.score()`\n",
    "* Inspection. All the estimator's hyperparameters are accessible directly via public instance variables, like `imputer.strategy`. All the estimator's kearned parameters are also accessible with an underscore suffix, like `imputer.statistics_`\n",
    "\n",
    "* Nonproliferation of classes. Only `numpy` arrays or `scipy` sparse matrices or build-in python types.\n",
    "* Composition. `Pipeline` estimator.\n",
    "* Sensible defaults. Scikit-learn provides reasonable default values for most parameters."
   ]
  },
  {
   "cell_type": "markdown",
   "metadata": {},
   "source": [
    "# Custom Transformers\n",
    "Scikit-Learn relies on duck typing (not inheritance).\n",
    "\n",
    "All you need is to vreate a class and implement three methods:\n",
    "1. `fit()` return `self`\n",
    "2. `transform()`\n",
    "3. `fit_transform()`\n",
    "\n",
    "You can get the last one for free by siumply adding `TransformerMixin` as a bse class.\n",
    "\n",
    "If you add `BaseEstimator` a a base class, you will get two extra methods `get_params()` and `set_params()` that will be useful for automatic hyperparameter tuning. Don't use `*args` or `**kargs` in `__init__()` function."
   ]
  },
  {
   "cell_type": "code",
   "execution_count": null,
   "metadata": {},
   "outputs": [],
   "source": [
    "from sklearn.base import BaseEstimator, TransformerMixin\n",
    "\n",
    "rooms_ix, bedrooms_ix, population_ix, household_ix = 3, 4, 5, 6\n",
    "\n",
    "class CombinedAttributesAdder(BaseEstimator, TransformerMixin):\n",
    "    def __init__(self, add_bedrooms_per_room = True): # no *args or **kargs\n",
    "        self.add_bedrooms_per_room = add_bedrooms_per_room\n",
    "    \n",
    "    def fit(self, X, y=None):\n",
    "        return self # nothing else to do\n",
    "    def transform(self, X, y=None):\n",
    "        rooms_per_household = X[:, rooms_ix] / X[:, household_ix] \n",
    "        population_per_household = X[:, population_ix] / X[:, household_ix] \n",
    "        if self.add_bedrooms_per_room:\n",
    "            bedrooms_per_room = X[:, bedrooms_ix] / X[:, rooms_ix]\n",
    "            return np.c_[X, rooms_per_household, population_per_household, bedrooms_per_room]\n",
    "        else:\n",
    "            return np.c_[X, rooms_per_household, population_per_household]\n",
    "attr_adder = CombinedAttributesAdder(add_bedrooms_per_room=False)\n",
    "housing_extra_attribs = attr_adder.transform(housing.values)\n"
   ]
  },
  {
   "cell_type": "markdown",
   "metadata": {},
   "source": [
    "#  Transformation Pipelines `pipeline:Pipeline`"
   ]
  },
  {
   "cell_type": "code",
   "execution_count": null,
   "metadata": {},
   "outputs": [],
   "source": [
    "from sklearn.pipeline import Pipeline\n",
    "\n",
    "pipeline_obj = Pipeline([\n",
    "    ('name1', <Transformer1>(hyper=...)),\n",
    "    ('name2',.<Transformer2>()),\n",
    "    ...,\n",
    "])\n",
    "\n",
    "output_ = pipeline_obj.fit_transform(input_)"
   ]
  },
  {
   "cell_type": "markdown",
   "metadata": {},
   "source": [
    "## Combine the pipeline output `pipeline:FeatureUnion` "
   ]
  },
  {
   "cell_type": "code",
   "execution_count": null,
   "metadata": {},
   "outputs": [],
   "source": [
    "from sklearn.pipeline import FeatureUnion\n",
    "\n",
    "featureUnion_obj = FeatureUnion([\n",
    "    ('name1', pipeline_obj1),\n",
    "    ('name2', pipline_obj2),\n",
    "])"
   ]
  },
  {
   "cell_type": "markdown",
   "metadata": {},
   "source": [
    "# Store Model `externals:joblib`"
   ]
  },
  {
   "cell_type": "code",
   "execution_count": null,
   "metadata": {},
   "outputs": [],
   "source": [
    "from sklearn.externals import joblib\n",
    "joblib.dump(my_model, \"my_model.pkl\")\n",
    "# and later...\n",
    "my_model_loaded = joblib.load(\"my_model.pkl\")"
   ]
  }
 ],
 "metadata": {
  "kernelspec": {
   "display_name": "Python [conda env:nb]",
   "language": "python",
   "name": "conda-env-nb-py"
  },
  "language_info": {
   "codemirror_mode": {
    "name": "ipython",
    "version": 3
   },
   "file_extension": ".py",
   "mimetype": "text/x-python",
   "name": "python",
   "nbconvert_exporter": "python",
   "pygments_lexer": "ipython3",
   "version": "3.6.4"
  },
  "toc": {
   "nav_menu": {},
   "number_sections": true,
   "sideBar": true,
   "skip_h1_title": false,
   "title_cell": "Table of Contents",
   "title_sidebar": "Contents",
   "toc_cell": true,
   "toc_position": {},
   "toc_section_display": true,
   "toc_window_display": true
  }
 },
 "nbformat": 4,
 "nbformat_minor": 2
}
