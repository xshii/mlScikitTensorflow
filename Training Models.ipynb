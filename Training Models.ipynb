{
 "cells": [
  {
   "cell_type": "markdown",
   "metadata": {},
   "source": [
    "# Training Models "
   ]
  },
  {
   "cell_type": "markdown",
   "metadata": {},
   "source": [
    "* direct method to train the model\n",
    "* iterative optimization method to train the model\n",
    "    * converge to the direct method"
   ]
  },
  {
   "cell_type": "markdown",
   "metadata": {
    "toc": true
   },
   "source": [
    "<h1>Table of Contents<span class=\"tocSkip\"></span></h1>\n",
    "<div class=\"toc\" style=\"margin-top: 1em;\"><ul class=\"toc-item\"><li><span><a href=\"#Linear-Regression\" data-toc-modified-id=\"Linear-Regression-1\"><span class=\"toc-item-num\">1&nbsp;&nbsp;</span>Linear Regression</a></span><ul class=\"toc-item\"><li><span><a href=\"#target:-minimize-Mean-Square-Error\" data-toc-modified-id=\"target:-minimize-Mean-Square-Error-1.1\"><span class=\"toc-item-num\">1.1&nbsp;&nbsp;</span>target: minimize Mean Square Error</a></span></li><li><span><a href=\"#Normal-Equation\" data-toc-modified-id=\"Normal-Equation-1.2\"><span class=\"toc-item-num\">1.2&nbsp;&nbsp;</span>Normal Equation</a></span><ul class=\"toc-item\"><li><span><a href=\"#LinearRegression---linear_model:LinearRegression\" data-toc-modified-id=\"LinearRegression---linear_model:LinearRegression-1.2.1\"><span class=\"toc-item-num\">1.2.1&nbsp;&nbsp;</span>LinearRegression - <code>linear_model:LinearRegression</code></a></span></li><li><span><a href=\"#Computational-Complexity--of-normal-equation---$O(n^{2.4})\\sim-O({n^3})$\" data-toc-modified-id=\"Computational-Complexity--of-normal-equation---$O(n^{2.4})\\sim-O({n^3})$-1.2.2\"><span class=\"toc-item-num\">1.2.2&nbsp;&nbsp;</span>Computational Complexity  of normal equation - $O(n^{2.4})\\sim O({n^3})$</a></span></li></ul></li><li><span><a href=\"#Gradient-Descent\" data-toc-modified-id=\"Gradient-Descent-1.3\"><span class=\"toc-item-num\">1.3&nbsp;&nbsp;</span>Gradient Descent</a></span><ul class=\"toc-item\"><li><span><a href=\"#Batch-Gradient-Descent\" data-toc-modified-id=\"Batch-Gradient-Descent-1.3.1\"><span class=\"toc-item-num\">1.3.1&nbsp;&nbsp;</span>Batch Gradient Descent</a></span></li><li><span><a href=\"#Stochastic-Gradient-Descent\" data-toc-modified-id=\"Stochastic-Gradient-Descent-1.3.2\"><span class=\"toc-item-num\">1.3.2&nbsp;&nbsp;</span>Stochastic Gradient Descent</a></span></li><li><span><a href=\"#SGDRegressor---linear_model:SGDRegressor\" data-toc-modified-id=\"SGDRegressor---linear_model:SGDRegressor-1.3.3\"><span class=\"toc-item-num\">1.3.3&nbsp;&nbsp;</span>SGDRegressor - <code>linear_model:SGDRegressor</code></a></span></li><li><span><a href=\"#Mini-batch-Gradient-Descent\" data-toc-modified-id=\"Mini-batch-Gradient-Descent-1.3.4\"><span class=\"toc-item-num\">1.3.4&nbsp;&nbsp;</span>Mini-batch Gradient Descent</a></span></li></ul></li></ul></li><li><span><a href=\"#Polynomial-Regression\" data-toc-modified-id=\"Polynomial-Regression-2\"><span class=\"toc-item-num\">2&nbsp;&nbsp;</span>Polynomial Regression</a></span><ul class=\"toc-item\"><li><span><a href=\"#add-new-feature-$x^2$---preprocessing:PolynomialFeatures\" data-toc-modified-id=\"add-new-feature-$x^2$---preprocessing:PolynomialFeatures-2.1\"><span class=\"toc-item-num\">2.1&nbsp;&nbsp;</span>add new feature $x^2$ - <code>preprocessing:PolynomialFeatures</code></a></span></li><li><span><a href=\"#Learning-curves---metrics:mean_squared_error\" data-toc-modified-id=\"Learning-curves---metrics:mean_squared_error-2.2\"><span class=\"toc-item-num\">2.2&nbsp;&nbsp;</span>Learning curves - <code>metrics:mean_squared_error</code></a></span></li><li><span><a href=\"#Bias/Variance-Trade-off\" data-toc-modified-id=\"Bias/Variance-Trade-off-2.3\"><span class=\"toc-item-num\">2.3&nbsp;&nbsp;</span>Bias/Variance Trade-off</a></span></li></ul></li><li><span><a href=\"#Regularized-Linear-Models\" data-toc-modified-id=\"Regularized-Linear-Models-3\"><span class=\"toc-item-num\">3&nbsp;&nbsp;</span>Regularized Linear Models</a></span><ul class=\"toc-item\"><li><span><a href=\"#Ridge-Regression---$\\frac{1}{2}\\alpha-\\sum_{i=1}^{n}-\\theta_i^2-$-linear_model:Ridge\" data-toc-modified-id=\"Ridge-Regression---$\\frac{1}{2}\\alpha-\\sum_{i=1}^{n}-\\theta_i^2-$-linear_model:Ridge-3.1\"><span class=\"toc-item-num\">3.1&nbsp;&nbsp;</span>Ridge Regression - $\\frac{1}{2}\\alpha \\sum_{i=1}^{n} \\theta_i^2 $ <code>linear_model:Ridge</code></a></span><ul class=\"toc-item\"><li><span><a href=\"#Ridge-Regression-closed-form-solution\" data-toc-modified-id=\"Ridge-Regression-closed-form-solution-3.1.1\"><span class=\"toc-item-num\">3.1.1&nbsp;&nbsp;</span>Ridge Regression closed-form solution</a></span></li><li><span><a href=\"#SGD-Ridge-Regression---SGDRegressor(penalty='l2')\" data-toc-modified-id=\"SGD-Ridge-Regression---SGDRegressor(penalty='l2')-3.1.2\"><span class=\"toc-item-num\">3.1.2&nbsp;&nbsp;</span>SGD Ridge Regression - <code>SGDRegressor(penalty='l2')</code></a></span></li></ul></li><li><span><a href=\"#Lasso-Regression---$\\alpha-\\sum_{i=1}^{n}-|\\theta_i|-$-linear_model:Lasso\" data-toc-modified-id=\"Lasso-Regression---$\\alpha-\\sum_{i=1}^{n}-|\\theta_i|-$-linear_model:Lasso-3.2\"><span class=\"toc-item-num\">3.2&nbsp;&nbsp;</span>Lasso Regression - $\\alpha \\sum_{i=1}^{n} |\\theta_i| $ <code>linear_model:Lasso</code></a></span><ul class=\"toc-item\"><li><span><a href=\"#SGD-Lasso-Regression----SGDRegressor(penalty='l1')\" data-toc-modified-id=\"SGD-Lasso-Regression----SGDRegressor(penalty='l1')-3.2.1\"><span class=\"toc-item-num\">3.2.1&nbsp;&nbsp;</span>SGD Lasso Regression  - <code>SGDRegressor(penalty='l1')</code></a></span></li></ul></li><li><span><a href=\"#Elastic-Net---$r∗Lasso+(1−r)∗Ridge$-linear_model:ElasticNet\" data-toc-modified-id=\"Elastic-Net---$r∗Lasso+(1−r)∗Ridge$-linear_model:ElasticNet-3.3\"><span class=\"toc-item-num\">3.3&nbsp;&nbsp;</span>Elastic Net - $r∗Lasso+(1−r)∗Ridge$ <code>linear_model:ElasticNet</code></a></span></li><li><span><a href=\"#Early-Stopping---test-with-base:clone\" data-toc-modified-id=\"Early-Stopping---test-with-base:clone-3.4\"><span class=\"toc-item-num\">3.4&nbsp;&nbsp;</span>Early Stopping - test with <code>base:clone</code></a></span><ul class=\"toc-item\"><li><span><a href=\"#SGD-Early-stop---SGDRegressor(warm_start=True)\" data-toc-modified-id=\"SGD-Early-stop---SGDRegressor(warm_start=True)-3.4.1\"><span class=\"toc-item-num\">3.4.1&nbsp;&nbsp;</span>SGD Early stop - <code>SGDRegressor(warm_start=True)</code></a></span></li></ul></li></ul></li><li><span><a href=\"#Logistic-Regression---linear_model:LogisticRegression\" data-toc-modified-id=\"Logistic-Regression---linear_model:LogisticRegression-4\"><span class=\"toc-item-num\">4&nbsp;&nbsp;</span>Logistic Regression  -<code>linear_model:LogisticRegression</code></a></span><ul class=\"toc-item\"><li><span><a href=\"#Logistic-function-&amp;-Estimate-probabilities\" data-toc-modified-id=\"Logistic-function-&amp;-Estimate-probabilities-4.1\"><span class=\"toc-item-num\">4.1&nbsp;&nbsp;</span>Logistic function &amp; Estimate probabilities</a></span></li><li><span><a href=\"#Cost-function\" data-toc-modified-id=\"Cost-function-4.2\"><span class=\"toc-item-num\">4.2&nbsp;&nbsp;</span>Cost function</a></span></li><li><span><a href=\"#A-real-binary-classification-problem-with-LR\" data-toc-modified-id=\"A-real-binary-classification-problem-with-LR-4.3\"><span class=\"toc-item-num\">4.3&nbsp;&nbsp;</span>A real binary classification problem with LR</a></span><ul class=\"toc-item\"><li><span><a href=\"#dataset---datasets:.load_iris()\" data-toc-modified-id=\"dataset---datasets:.load_iris()-4.3.1\"><span class=\"toc-item-num\">4.3.1&nbsp;&nbsp;</span>dataset - <code>datasets:.load_iris()</code></a></span></li><li><span><a href=\"#create-a-binary-class---.astype(np.int)\" data-toc-modified-id=\"create-a-binary-class---.astype(np.int)-4.3.2\"><span class=\"toc-item-num\">4.3.2&nbsp;&nbsp;</span>create a binary class - <code>.astype(np.int)</code></a></span></li><li><span><a href=\"#train-the-LogisticRegression-model\" data-toc-modified-id=\"train-the-LogisticRegression-model-4.3.3\"><span class=\"toc-item-num\">4.3.3&nbsp;&nbsp;</span>train the LogisticRegression model</a></span></li><li><span><a href=\"#Decision-boundary\" data-toc-modified-id=\"Decision-boundary-4.3.4\"><span class=\"toc-item-num\">4.3.4&nbsp;&nbsp;</span>Decision boundary</a></span></li></ul></li><li><span><a href=\"#Softmax-Regression\" data-toc-modified-id=\"Softmax-Regression-4.4\"><span class=\"toc-item-num\">4.4&nbsp;&nbsp;</span>Softmax Regression</a></span><ul class=\"toc-item\"><li><span><a href=\"#softmax-function\" data-toc-modified-id=\"softmax-function-4.4.1\"><span class=\"toc-item-num\">4.4.1&nbsp;&nbsp;</span>softmax function</a></span></li><li><span><a href=\"#Cross-entropy\" data-toc-modified-id=\"Cross-entropy-4.4.2\"><span class=\"toc-item-num\">4.4.2&nbsp;&nbsp;</span>Cross entropy</a></span></li><li><span><a href=\"#scikit-softmax---LogisticRegression(multi_class='multinomial',solver='lbfgs',-c=10)\" data-toc-modified-id=\"scikit-softmax---LogisticRegression(multi_class='multinomial',solver='lbfgs',-c=10)-4.4.3\"><span class=\"toc-item-num\">4.4.3&nbsp;&nbsp;</span>scikit softmax - <code>LogisticRegression(multi_class='multinomial',solver='lbfgs', c=10)</code></a></span></li><li><span><a href=\"#decision-boundary\" data-toc-modified-id=\"decision-boundary-4.4.4\"><span class=\"toc-item-num\">4.4.4&nbsp;&nbsp;</span>decision boundary</a></span></li></ul></li></ul></li></ul></div>"
   ]
  },
  {
   "cell_type": "code",
   "execution_count": 1,
   "metadata": {
    "ExecuteTime": {
     "end_time": "2017-11-23T12:47:58.715685Z",
     "start_time": "2017-11-23T12:47:58.236276Z"
    }
   },
   "outputs": [],
   "source": [
    "%matplotlib inline\n",
    "import matplotlib.pyplot as plt\n",
    "import numpy as np"
   ]
  },
  {
   "cell_type": "markdown",
   "metadata": {},
   "source": [
    "## Linear Regression "
   ]
  },
  {
   "cell_type": "markdown",
   "metadata": {},
   "source": [
    "$\\hat{y}=\\theta_0 + \\theta_1x_1+\\cdots+\\theta_nx_n=h_\\theta(\\vec{x})=\\vec{\\theta}^T\\cdot \\vec{x}$  "
   ]
  },
  {
   "cell_type": "markdown",
   "metadata": {},
   "source": [
    "* $\\hat{y}$ the predicted value\n",
    "* $n$ number of features\n",
    "* $x_i$ the $i^{th}$ feature value\n",
    "* $\\theta_j$ the $j^{th}$ model parameter, \n",
    "    * $\\theta_0$ the bias term\n",
    "    * $\\theta_1,\\cdots,\\theta_n$ the feature weights\n",
    "* $h_\\theta$ the hypothesis function"
   ]
  },
  {
   "cell_type": "markdown",
   "metadata": {},
   "source": [
    "### target: minimize Mean Square Error"
   ]
  },
  {
   "cell_type": "markdown",
   "metadata": {},
   "source": [
    "$MSE(x,h_\\theta)=\\frac{1}{m}\\sum_{i=1}^{m}(h_\\theta(x^{(i)})-y^{(i)})^2$"
   ]
  },
  {
   "cell_type": "markdown",
   "metadata": {},
   "source": [
    "###  Normal Equation"
   ]
  },
  {
   "cell_type": "markdown",
   "metadata": {},
   "source": [
    "$ \\theta = (x^Tx)^{-1}x^Ty$\n",
    "\n",
    "* $y = [[y^{(1)}],...,[y^{(m)}]]\\in R^{m\\times1}$ vector"
   ]
  },
  {
   "cell_type": "code",
   "execution_count": 2,
   "metadata": {
    "ExecuteTime": {
     "end_time": "2017-11-23T12:48:00.985923Z",
     "start_time": "2017-11-23T12:48:00.980918Z"
    }
   },
   "outputs": [],
   "source": [
    "import numpy as np\n",
    "X = 2 * np.random.rand(100, 1)\n",
    "y = 4 + 3 * X + np.random.randn(100, 1)"
   ]
  },
  {
   "cell_type": "code",
   "execution_count": 3,
   "metadata": {
    "ExecuteTime": {
     "end_time": "2017-11-23T12:48:01.454335Z",
     "start_time": "2017-11-23T12:48:01.205160Z"
    },
    "scrolled": true
   },
   "outputs": [
    {
     "data": {
      "text/plain": [
       "<matplotlib.collections.PathCollection at 0x2b28219fbe0>"
      ]
     },
     "execution_count": 3,
     "metadata": {},
     "output_type": "execute_result"
    },
    {
     "data": {
      "image/png": "[encoded data removed]",
      "text/plain": [
       "<matplotlib.figure.Figure at 0x2b280107f28>"
      ]
     },
     "metadata": {},
     "output_type": "display_data"
    }
   ],
   "source": [
    "plt.scatter(X,y)"
   ]
  },
  {
   "cell_type": "markdown",
   "metadata": {},
   "source": [
    "* use normal equation"
   ]
  },
  {
   "cell_type": "code",
   "execution_count": 4,
   "metadata": {
    "ExecuteTime": {
     "end_time": "2017-11-23T12:48:01.687500Z",
     "start_time": "2017-11-23T12:48:01.679497Z"
    }
   },
   "outputs": [],
   "source": [
    "X_b = np.c_[np.ones((100, 1)), X] # add x0 = 1 to each instance\n",
    "theta_best = np.linalg.inv(X_b.T.dot(X_b)).dot(X_b.T).dot(y)"
   ]
  },
  {
   "cell_type": "code",
   "execution_count": 5,
   "metadata": {
    "ExecuteTime": {
     "end_time": "2017-11-23T12:48:01.922668Z",
     "start_time": "2017-11-23T12:48:01.916663Z"
    }
   },
   "outputs": [
    {
     "data": {
      "text/plain": [
       "array([[ 3.99081956],\n",
       "       [ 2.93843932]])"
      ]
     },
     "execution_count": 5,
     "metadata": {},
     "output_type": "execute_result"
    }
   ],
   "source": [
    "theta_best"
   ]
  },
  {
   "cell_type": "markdown",
   "metadata": {},
   "source": [
    "* construct a test with $x_0=1$ "
   ]
  },
  {
   "cell_type": "code",
   "execution_count": 6,
   "metadata": {
    "ExecuteTime": {
     "end_time": "2017-11-23T12:48:02.395059Z",
     "start_time": "2017-11-23T12:48:02.386055Z"
    }
   },
   "outputs": [
    {
     "data": {
      "text/plain": [
       "array([[ 3.99081956],\n",
       "       [ 9.8676982 ]])"
      ]
     },
     "execution_count": 6,
     "metadata": {},
     "output_type": "execute_result"
    }
   ],
   "source": [
    "X_new = np.array([[0], [2]])\n",
    "X_new_b = np.c_[np.ones((2, 1)), X_new]\n",
    "y_predict = X_new_b.dot(theta_best)\n",
    "y_predict"
   ]
  },
  {
   "cell_type": "code",
   "execution_count": 7,
   "metadata": {
    "ExecuteTime": {
     "end_time": "2017-11-23T12:48:02.769325Z",
     "start_time": "2017-11-23T12:48:02.621222Z"
    }
   },
   "outputs": [
    {
     "data": {
      "image/png": "[encoded data removed]",
      "text/plain": [
       "<matplotlib.figure.Figure at 0x2b280107ef0>"
      ]
     },
     "metadata": {},
     "output_type": "display_data"
    }
   ],
   "source": [
    "plt.plot(X_new, y_predict, \"r-\")\n",
    "plt.plot(X, y, \"b.\")\n",
    "plt.axis([0, 2, 0, 15])\n",
    "plt.show()"
   ]
  },
  {
   "cell_type": "markdown",
   "metadata": {},
   "source": [
    "#### LinearRegression - `linear_model:LinearRegression`"
   ]
  },
  {
   "cell_type": "code",
   "execution_count": 8,
   "metadata": {
    "ExecuteTime": {
     "end_time": "2017-11-23T12:48:04.176213Z",
     "start_time": "2017-11-23T12:48:03.510739Z"
    }
   },
   "outputs": [
    {
     "data": {
      "text/plain": [
       "(array([ 3.99081956]), array([[ 2.93843932]]))"
      ]
     },
     "execution_count": 8,
     "metadata": {},
     "output_type": "execute_result"
    }
   ],
   "source": [
    "from sklearn.linear_model import LinearRegression\n",
    "lin_reg = LinearRegression()\n",
    "lin_reg.fit(X, y)\n",
    "lin_reg.intercept_, lin_reg.coef_"
   ]
  },
  {
   "cell_type": "code",
   "execution_count": 9,
   "metadata": {
    "ExecuteTime": {
     "end_time": "2017-11-23T12:48:04.189219Z",
     "start_time": "2017-11-23T12:48:04.181214Z"
    }
   },
   "outputs": [
    {
     "data": {
      "text/plain": [
       "array([[ 3.99081956],\n",
       "       [ 9.8676982 ]])"
      ]
     },
     "execution_count": 9,
     "metadata": {},
     "output_type": "execute_result"
    }
   ],
   "source": [
    "lin_reg.predict(X_new)"
   ]
  },
  {
   "cell_type": "markdown",
   "metadata": {},
   "source": [
    "<div class=\"girk\">\n",
    "identical to the result of using normal equation!</div><i class=\"fa fa-lightbulb-o \"></i>"
   ]
  },
  {
   "cell_type": "markdown",
   "metadata": {},
   "source": [
    "#### Computational Complexity  of normal equation - $O(n^{2.4})\\sim O({n^3})$ "
   ]
  },
  {
   "cell_type": "markdown",
   "metadata": {},
   "source": [
    "computing the inverse of $X^TX$will need $O(n^{2.4})\\sim O({n^3})$ "
   ]
  },
  {
   "cell_type": "markdown",
   "metadata": {},
   "source": [
    "### Gradient Descent "
   ]
  },
  {
   "cell_type": "markdown",
   "metadata": {},
   "source": [
    "generic **optimization algorithm** capable of finding optimal solutions to a wide range of problems.it measures the local gradient of the error function with regards to the\n",
    "parameter vector $\\theta$, and it goes in the direction of **descending** gradient"
   ]
  },
  {
   "cell_type": "markdown",
   "metadata": {},
   "source": [
    "* **learning rate** the size of each step \n",
    "* **global minimum** vs. **local minimum** \n",
    "    * **convex** function only has one **global minimum**\n",
    "* **partial derivatives** $\\frac{\\partial\\text{cost function}}{\\partial{\\theta_j}}$"
   ]
  },
  {
   "cell_type": "markdown",
   "metadata": {},
   "source": [
    "<div class=\"burk\">\n",
    "when using Gradient Descent, all features should have a similar scale or it will take much longer to converge.</div><i class=\"fa fa-lightbulb-o \"></i>"
   ]
  },
  {
   "cell_type": "markdown",
   "metadata": {},
   "source": [
    "#### Batch Gradient Descent "
   ]
  },
  {
   "cell_type": "markdown",
   "metadata": {},
   "source": [
    "for linear regression the cost function is MSE    \n",
    "\n",
    "\n",
    "$\\frac{\\partial}{\\partial{\\theta_j}}MSE(\\theta)=\\frac{2}{m}\\sum(\\theta^Tx^{(i)}-y^{(i)})x_j^{(i)}$\n",
    "\n",
    "$\\nabla_\\theta MSE(\\theta)=\\frac{2}{m}X^T(X\\theta-y)\\Longrightarrow$ it uses the **whole batch** of training\n",
    "data at every step."
   ]
  },
  {
   "cell_type": "markdown",
   "metadata": {},
   "source": [
    "$\\theta^{next} = \\theta - \\eta\\nabla\\theta MSE(\\theta)$"
   ]
  },
  {
   "cell_type": "code",
   "execution_count": 10,
   "metadata": {
    "ExecuteTime": {
     "end_time": "2017-11-23T12:48:11.358677Z",
     "start_time": "2017-11-23T12:48:11.340648Z"
    }
   },
   "outputs": [],
   "source": [
    "eta = 0.1 # learning rate\n",
    "n_iterations = 1000\n",
    "m = 100\n",
    "theta = np.random.randn(2,1) # random initialization\n",
    "for iteration in range(n_iterations):\n",
    "    gradients = 2/m * X_b.T.dot(X_b.dot(theta) - y)\n",
    "    theta = theta - eta * gradients"
   ]
  },
  {
   "cell_type": "code",
   "execution_count": 11,
   "metadata": {
    "ExecuteTime": {
     "end_time": "2017-11-23T12:48:11.923527Z",
     "start_time": "2017-11-23T12:48:11.918525Z"
    }
   },
   "outputs": [
    {
     "data": {
      "text/plain": [
       "array([[ 3.99081956],\n",
       "       [ 2.93843932]])"
      ]
     },
     "execution_count": 11,
     "metadata": {},
     "output_type": "execute_result"
    }
   ],
   "source": [
    "theta"
   ]
  },
  {
   "cell_type": "markdown",
   "metadata": {},
   "source": [
    "* **tolerance** stop if `gradients<tol`\n",
    "* convergence rate = $O(\\frac{1}{iterations})$ :| ofc"
   ]
  },
  {
   "cell_type": "markdown",
   "metadata": {},
   "source": [
    "#### Stochastic Gradient Descent "
   ]
  },
  {
   "cell_type": "markdown",
   "metadata": {},
   "source": [
    "only take one train sample in each iteration\n",
    "* <span class=\"girk\">lower the learning rate when it is closed to the optimal normally according to the iterations</span>"
   ]
  },
  {
   "cell_type": "code",
   "execution_count": 12,
   "metadata": {
    "ExecuteTime": {
     "end_time": "2017-11-23T12:48:13.421558Z",
     "start_time": "2017-11-23T12:48:13.343502Z"
    }
   },
   "outputs": [],
   "source": [
    "n_epochs = 50\n",
    "t0, t1 = 5, 50 # learning schedule hyperparameters\n",
    "def learning_schedule(t):\n",
    "    return t0 / (t + t1)\n",
    "theta = np.random.randn(2,1) # random initialization\n",
    "for epoch in range(n_epochs):\n",
    "    for i in range(m):\n",
    "        random_index = np.random.randint(m)\n",
    "        xi = X_b[random_index:random_index+1]\n",
    "        yi = y[random_index:random_index+1]\n",
    "        gradients = 2 * xi.T.dot(xi.dot(theta) - yi)\n",
    "        eta = learning_schedule(epoch * m + i)\n",
    "        theta = theta - eta * gradients"
   ]
  },
  {
   "cell_type": "code",
   "execution_count": 13,
   "metadata": {
    "ExecuteTime": {
     "end_time": "2017-11-23T12:48:13.630784Z",
     "start_time": "2017-11-23T12:48:13.624780Z"
    }
   },
   "outputs": [
    {
     "data": {
      "text/plain": [
       "array([[ 3.92022238],\n",
       "       [ 2.97624164]])"
      ]
     },
     "execution_count": 13,
     "metadata": {},
     "output_type": "execute_result"
    }
   ],
   "source": [
    "theta"
   ]
  },
  {
   "cell_type": "markdown",
   "metadata": {},
   "source": [
    "#### SGDRegressor - `linear_model:SGDRegressor`"
   ]
  },
  {
   "cell_type": "code",
   "execution_count": 14,
   "metadata": {
    "ExecuteTime": {
     "end_time": "2017-11-23T12:48:14.554252Z",
     "start_time": "2017-11-23T12:48:14.536244Z"
    }
   },
   "outputs": [
    {
     "name": "stderr",
     "output_type": "stream",
     "text": [
      "C:\\Users\\gakki\\AppData\\Local\\conda\\conda\\envs\\ml\\lib\\site-packages\\sklearn\\linear_model\\stochastic_gradient.py:117: DeprecationWarning: n_iter parameter is deprecated in 0.19 and will be removed in 0.21. Use max_iter and tol instead.\n",
      "  DeprecationWarning)\n"
     ]
    },
    {
     "data": {
      "text/plain": [
       "SGDRegressor(alpha=0.0001, average=False, epsilon=0.1, eta0=0.1,\n",
       "       fit_intercept=True, l1_ratio=0.15, learning_rate='invscaling',\n",
       "       loss='squared_loss', max_iter=None, n_iter=50, penalty=None,\n",
       "       power_t=0.25, random_state=None, shuffle=True, tol=None, verbose=0,\n",
       "       warm_start=False)"
      ]
     },
     "execution_count": 14,
     "metadata": {},
     "output_type": "execute_result"
    }
   ],
   "source": [
    "from sklearn.linear_model import SGDRegressor\n",
    "sgd_reg = SGDRegressor(n_iter=50, penalty=None, eta0=0.1)\n",
    "sgd_reg.fit(X, y.ravel())"
   ]
  },
  {
   "cell_type": "code",
   "execution_count": 15,
   "metadata": {
    "ExecuteTime": {
     "end_time": "2017-11-23T12:48:14.892617Z",
     "start_time": "2017-11-23T12:48:14.886615Z"
    }
   },
   "outputs": [
    {
     "data": {
      "text/plain": [
       "(array([ 3.90679286]), array([ 2.83845415]))"
      ]
     },
     "execution_count": 15,
     "metadata": {},
     "output_type": "execute_result"
    }
   ],
   "source": [
    "sgd_reg.intercept_, sgd_reg.coef_"
   ]
  },
  {
   "cell_type": "markdown",
   "metadata": {},
   "source": [
    "#### Mini-batch Gradient Descent "
   ]
  },
  {
   "cell_type": "markdown",
   "metadata": {},
   "source": [
    "computes the gradients on **small random sets** of instances"
   ]
  },
  {
   "cell_type": "markdown",
   "metadata": {},
   "source": [
    "* pro: you can\n",
    "get a performance boost from hardware optimization of **matrix operations**, especially\n",
    "when using **GPUs**.\n",
    "* con: it may be\n",
    "harder for it to escape from local minima (not the problem for LR)"
   ]
  },
  {
   "cell_type": "markdown",
   "metadata": {},
   "source": [
    "## Polynomial Regression "
   ]
  },
  {
   "cell_type": "markdown",
   "metadata": {},
   "source": [
    "* construct a new data set $y=0.5x_1^2+x_1+2+\\epsilon$"
   ]
  },
  {
   "cell_type": "code",
   "execution_count": 16,
   "metadata": {
    "ExecuteTime": {
     "end_time": "2017-11-23T12:48:17.944760Z",
     "start_time": "2017-11-23T12:48:17.809658Z"
    }
   },
   "outputs": [
    {
     "data": {
      "text/plain": [
       "<matplotlib.collections.PathCollection at 0x2b283a0cf60>"
      ]
     },
     "execution_count": 16,
     "metadata": {},
     "output_type": "execute_result"
    },
    {
     "data": {
      "image/png": "[encoded data removed]",
      "text/plain": [
       "<matplotlib.figure.Figure at 0x2b2839e4358>"
      ]
     },
     "metadata": {},
     "output_type": "display_data"
    }
   ],
   "source": [
    "m = 100\n",
    "X = 6 * np.random.rand(m, 1) - 3\n",
    "y = 0.5 * X**2 + X + 2 + np.random.randn(m, 1)\n",
    "plt.scatter(X,y)"
   ]
  },
  {
   "cell_type": "markdown",
   "metadata": {},
   "source": [
    "###  add new feature $x^2$ - `preprocessing:PolynomialFeatures`"
   ]
  },
  {
   "cell_type": "code",
   "execution_count": 17,
   "metadata": {
    "ExecuteTime": {
     "end_time": "2017-11-23T12:48:18.346104Z",
     "start_time": "2017-11-23T12:48:18.338101Z"
    }
   },
   "outputs": [],
   "source": [
    "from sklearn.preprocessing import PolynomialFeatures\n",
    "poly_features = PolynomialFeatures(degree=2, include_bias=False)\n",
    "X_poly = poly_features.fit_transform(X)\n",
    "m = 30\n",
    "X_val = 6 * np.random.rand(m, 1) - 3\n",
    "y_val = 0.5 * X_val**2 + X_val + 2 + np.random.randn(m, 1)\n",
    "X_val_poly = poly_features.fit_transform(X_val)"
   ]
  },
  {
   "cell_type": "code",
   "execution_count": 18,
   "metadata": {
    "ExecuteTime": {
     "end_time": "2017-11-23T12:48:18.582397Z",
     "start_time": "2017-11-23T12:48:18.576392Z"
    }
   },
   "outputs": [
    {
     "data": {
      "text/plain": [
       "array([ 0.52558756])"
      ]
     },
     "execution_count": 18,
     "metadata": {},
     "output_type": "execute_result"
    }
   ],
   "source": [
    "X[0]"
   ]
  },
  {
   "cell_type": "code",
   "execution_count": 19,
   "metadata": {
    "ExecuteTime": {
     "end_time": "2017-11-23T12:48:18.821742Z",
     "start_time": "2017-11-23T12:48:18.813758Z"
    }
   },
   "outputs": [
    {
     "data": {
      "text/plain": [
       "array([ 0.52558756,  0.27624229])"
      ]
     },
     "execution_count": 19,
     "metadata": {},
     "output_type": "execute_result"
    }
   ],
   "source": [
    "X_poly[0]"
   ]
  },
  {
   "cell_type": "code",
   "execution_count": 20,
   "metadata": {
    "ExecuteTime": {
     "end_time": "2017-11-23T12:48:19.072982Z",
     "start_time": "2017-11-23T12:48:19.059972Z"
    }
   },
   "outputs": [
    {
     "data": {
      "text/plain": [
       "(array([ 2.0338111]), array([[ 0.96110666,  0.5106581 ]]))"
      ]
     },
     "execution_count": 20,
     "metadata": {},
     "output_type": "execute_result"
    }
   ],
   "source": [
    "lin_reg = LinearRegression()\n",
    "lin_reg.fit(X_poly, y)\n",
    "lin_reg.intercept_, lin_reg.coef_"
   ]
  },
  {
   "cell_type": "markdown",
   "metadata": {},
   "source": [
    "###  Learning curves - `metrics:mean_squared_error`"
   ]
  },
  {
   "cell_type": "markdown",
   "metadata": {},
   "source": [
    "performance on the **training set** and the **validation set** as a function of the training **set size**"
   ]
  },
  {
   "cell_type": "code",
   "execution_count": 21,
   "metadata": {
    "ExecuteTime": {
     "end_time": "2017-11-23T12:48:20.733381Z",
     "start_time": "2017-11-23T12:48:20.713366Z"
    }
   },
   "outputs": [],
   "source": [
    "from sklearn.metrics import mean_squared_error\n",
    "from sklearn.model_selection import train_test_split\n",
    "def plot_learning_curves(model, X, y):\n",
    "    X_train, X_val, y_train, y_val = train_test_split(X, y, test_size=0.2)\n",
    "    train_errors, val_errors = [], []\n",
    "    for m in range(1, len(X_train)):\n",
    "        model.fit(X_train[:m], y_train[:m])\n",
    "        y_train_predict = model.predict(X_train[:m])\n",
    "        y_val_predict = model.predict(X_val)\n",
    "        train_errors.append(mean_squared_error(y_train_predict, y_train[:m]))\n",
    "        val_errors.append(mean_squared_error(y_val_predict, y_val))\n",
    "    plt.plot(np.sqrt(train_errors), \"r-+\", linewidth=2, label=\"train\")\n",
    "    plt.plot(np.sqrt(val_errors), \"b-\", linewidth=3, label=\"val\")"
   ]
  },
  {
   "cell_type": "code",
   "execution_count": 22,
   "metadata": {
    "ExecuteTime": {
     "end_time": "2017-11-23T12:48:21.379126Z",
     "start_time": "2017-11-23T12:48:21.174011Z"
    }
   },
   "outputs": [
    {
     "data": {
      "image/png": "[encoded data removed]",
      "text/plain": [
       "<matplotlib.figure.Figure at 0x2b2839e44a8>"
      ]
     },
     "metadata": {},
     "output_type": "display_data"
    }
   ],
   "source": [
    "lin_reg = LinearRegression()\n",
    "plot_learning_curves(lin_reg, X, y)"
   ]
  },
  {
   "cell_type": "code",
   "execution_count": 23,
   "metadata": {
    "ExecuteTime": {
     "end_time": "2017-11-23T12:48:23.367697Z",
     "start_time": "2017-11-23T12:48:23.029457Z"
    }
   },
   "outputs": [
    {
     "data": {
      "text/plain": [
       "(0, 3)"
      ]
     },
     "execution_count": 23,
     "metadata": {},
     "output_type": "execute_result"
    },
    {
     "data": {
      "image/png": "[encoded data removed]",
      "text/plain": [
       "<matplotlib.figure.Figure at 0x2b283a99518>"
      ]
     },
     "metadata": {},
     "output_type": "display_data"
    }
   ],
   "source": [
    "from sklearn.pipeline import Pipeline\n",
    "polynomial_regression = Pipeline((\n",
    "(\"poly_features\", PolynomialFeatures(degree=10, include_bias=False)),\n",
    "(\"sgd_reg\", LinearRegression()),\n",
    "))\n",
    "plot_learning_curves(polynomial_regression, X, y)\n",
    "plt.ylim(0,3)"
   ]
  },
  {
   "cell_type": "markdown",
   "metadata": {},
   "source": [
    "### Bias/Variance Trade-off "
   ]
  },
  {
   "cell_type": "markdown",
   "metadata": {},
   "source": [
    "$generalization\\_error = Bias + Variance + Irreducible\\_error$\n",
    "* **bias** wrong assumptions, higher means underfit\n",
    "* **variance** data-sensitive. Many defrees of freedom, higher means overfit\n",
    "* **irreducible error** noisiness of the data."
   ]
  },
  {
   "cell_type": "markdown",
   "metadata": {},
   "source": [
    "## Regularized Linear Models"
   ]
  },
  {
   "cell_type": "markdown",
   "metadata": {},
   "source": [
    "* it should have optimization-friendly derivatives\n",
    "* the data should be scaled `preprocessing:StandardScaler`"
   ]
  },
  {
   "cell_type": "code",
   "execution_count": 24,
   "metadata": {
    "ExecuteTime": {
     "end_time": "2017-11-23T12:48:30.887293Z",
     "start_time": "2017-11-23T12:48:30.882290Z"
    }
   },
   "outputs": [],
   "source": [
    "from sklearn.preprocessing import StandardScaler\n",
    "stdScaler = StandardScaler()\n",
    "X_train_poly_scaled = stdScaler.fit_transform(X_poly)\n",
    "X_val_poly_scaled = stdScaler.fit_transform(X_val_poly)"
   ]
  },
  {
   "cell_type": "code",
   "execution_count": 25,
   "metadata": {
    "ExecuteTime": {
     "end_time": "2017-11-23T12:48:31.888006Z",
     "start_time": "2017-11-23T12:48:31.681858Z"
    }
   },
   "outputs": [
    {
     "data": {
      "text/plain": [
       "<matplotlib.collections.PathCollection at 0x2b284ad0a58>"
      ]
     },
     "execution_count": 25,
     "metadata": {},
     "output_type": "execute_result"
    },
    {
     "data": {
      "image/png": "[encoded data removed]",
      "text/plain": [
       "<matplotlib.figure.Figure at 0x2b283a5b2e8>"
      ]
     },
     "metadata": {},
     "output_type": "display_data"
    }
   ],
   "source": [
    "plt.scatter(X_train_poly_scaled[:,0],y)"
   ]
  },
  {
   "cell_type": "markdown",
   "metadata": {},
   "source": [
    "### Ridge Regression - $\\frac{1}{2}\\alpha \\sum_{i=1}^{n} \\theta_i^2 $ `linear_model:Ridge`"
   ]
  },
  {
   "cell_type": "markdown",
   "metadata": {},
   "source": [
    "also called *Tikhonov regularization*, add **regularization** term to cost function to keep the model weights as small as possible"
   ]
  },
  {
   "cell_type": "markdown",
   "metadata": {},
   "source": [
    "\n",
    "* **regularization** term = $\\frac{1}{2}\\alpha \\sum_{i=1}^{n} \\theta_i^2 $\n",
    "    * $\\alpha$ hyperparameter measures the degree of regularization, \n",
    "        * $\\alpha=0$ no regularization\n",
    "        * $\\alpha>>0$ the weights are close to 0.\n",
    "    * the bias term $\\theta_0$ is not regularized $i=1,...,n$ \n",
    "\n",
    "now the cost function becomes\n",
    "\n",
    "$J(\\theta)=MSE(\\theta)+\\frac{1}{2}\\alpha \\sum \\theta_i^2$"
   ]
  },
  {
   "cell_type": "markdown",
   "metadata": {},
   "source": [
    "#### Ridge Regression closed-form solution "
   ]
  },
  {
   "cell_type": "markdown",
   "metadata": {},
   "source": [
    "$\\theta = (X^TX+\\alpha A)^{-1}X^Ty$\n",
    "\n",
    "where $A=I-e_{00}$"
   ]
  },
  {
   "cell_type": "code",
   "execution_count": 26,
   "metadata": {
    "ExecuteTime": {
     "end_time": "2017-11-23T12:48:34.273061Z",
     "start_time": "2017-11-23T12:48:34.256050Z"
    }
   },
   "outputs": [
    {
     "data": {
      "text/plain": [
       "array([[ 4.90873157]])"
      ]
     },
     "execution_count": 26,
     "metadata": {},
     "output_type": "execute_result"
    }
   ],
   "source": [
    "from sklearn.linear_model import Ridge\n",
    "ridge_reg = Ridge(alpha=1, solver=\"cholesky\") # or sag to use Stochastic Average GD\n",
    "ridge_reg.fit(X, y)\n",
    "ridge_reg.predict([[1.5]])"
   ]
  },
  {
   "cell_type": "markdown",
   "metadata": {},
   "source": [
    "#### SGD Ridge Regression - `SGDRegressor(penalty='l2')` "
   ]
  },
  {
   "cell_type": "markdown",
   "metadata": {},
   "source": [
    "$regularization=\\frac{1}{2}\\sum(\\theta_i)^2$"
   ]
  },
  {
   "cell_type": "code",
   "execution_count": 27,
   "metadata": {
    "ExecuteTime": {
     "end_time": "2017-11-23T12:48:36.034198Z",
     "start_time": "2017-11-23T12:48:36.024191Z"
    }
   },
   "outputs": [
    {
     "name": "stderr",
     "output_type": "stream",
     "text": [
      "C:\\Users\\gakki\\AppData\\Local\\conda\\conda\\envs\\ml\\lib\\site-packages\\sklearn\\linear_model\\stochastic_gradient.py:128: FutureWarning: max_iter and tol parameters have been added in <class 'sklearn.linear_model.stochastic_gradient.SGDRegressor'> in 0.19. If both are left unset, they default to max_iter=5 and tol=None. If tol is not None, max_iter defaults to max_iter=1000. From 0.21, default max_iter will be 1000, and default tol will be 1e-3.\n",
      "  \"and default tol will be 1e-3.\" % type(self), FutureWarning)\n"
     ]
    },
    {
     "data": {
      "text/plain": [
       "array([ 3.97954537])"
      ]
     },
     "execution_count": 27,
     "metadata": {},
     "output_type": "execute_result"
    }
   ],
   "source": [
    "sgd_reg = SGDRegressor(penalty=\"l2\")\n",
    "sgd_reg.fit(X, y.ravel())\n",
    "sgd_reg.predict([[1.5]])"
   ]
  },
  {
   "cell_type": "markdown",
   "metadata": {},
   "source": [
    "### Lasso Regression - $\\alpha \\sum_{i=1}^{n} |\\theta_i| $ `linear_model:Lasso`"
   ]
  },
  {
   "cell_type": "markdown",
   "metadata": {},
   "source": [
    "*Least Absolute Shrinkage and Selection Operator Regression*\n",
    "\n",
    "$regularization=\\alpha \\sum_{i=1}^{n} |\\theta_i| $\n",
    "\n",
    "* completely *eliminate* the weights of the *least* important features\n",
    "* automatically performs **feature selection** and outputs a sparse model\n",
    "* non-differentiable at $\\theta_i=0$ use subgradient vector\n",
    "\n",
    "<span class=\"burk\">! it may behave erratically when</span>\n",
    "* the number of features is greater than the number of training instances\n",
    "* several features are strongly correlated."
   ]
  },
  {
   "cell_type": "markdown",
   "metadata": {},
   "source": [
    "$g(\\theta,J)=\\nabla_\\theta MSE(\\theta)+\\alpha (sign(\\theta_1),....,sign(\\theta_n))^T$\n",
    "\n",
    "* $sign(\\theta_i)=0$ if $\\theta_i=0$"
   ]
  },
  {
   "cell_type": "code",
   "execution_count": 28,
   "metadata": {
    "ExecuteTime": {
     "end_time": "2017-11-23T12:48:37.879957Z",
     "start_time": "2017-11-23T12:48:37.869950Z"
    }
   },
   "outputs": [
    {
     "data": {
      "text/plain": [
       "array([ 4.85669133])"
      ]
     },
     "execution_count": 28,
     "metadata": {},
     "output_type": "execute_result"
    }
   ],
   "source": [
    "from sklearn.linear_model import Lasso\n",
    "lasso_reg = Lasso(alpha=0.1)\n",
    "lasso_reg.fit(X, y)\n",
    "lasso_reg.predict([[1.5]])"
   ]
  },
  {
   "cell_type": "markdown",
   "metadata": {},
   "source": [
    "####  SGD Lasso Regression  - `SGDRegressor(penalty='l1')` "
   ]
  },
  {
   "cell_type": "code",
   "execution_count": 29,
   "metadata": {
    "ExecuteTime": {
     "end_time": "2017-11-23T12:48:38.924084Z",
     "start_time": "2017-11-23T12:48:38.914077Z"
    }
   },
   "outputs": [
    {
     "name": "stderr",
     "output_type": "stream",
     "text": [
      "C:\\Users\\gakki\\AppData\\Local\\conda\\conda\\envs\\ml\\lib\\site-packages\\sklearn\\linear_model\\stochastic_gradient.py:128: FutureWarning: max_iter and tol parameters have been added in <class 'sklearn.linear_model.stochastic_gradient.SGDRegressor'> in 0.19. If both are left unset, they default to max_iter=5 and tol=None. If tol is not None, max_iter defaults to max_iter=1000. From 0.21, default max_iter will be 1000, and default tol will be 1e-3.\n",
      "  \"and default tol will be 1e-3.\" % type(self), FutureWarning)\n",
      "C:\\Users\\gakki\\AppData\\Local\\conda\\conda\\envs\\ml\\lib\\site-packages\\sklearn\\utils\\validation.py:578: DataConversionWarning: A column-vector y was passed when a 1d array was expected. Please change the shape of y to (n_samples, ), for example using ravel().\n",
      "  y = column_or_1d(y, warn=True)\n"
     ]
    },
    {
     "data": {
      "text/plain": [
       "array([ 3.99005449])"
      ]
     },
     "execution_count": 29,
     "metadata": {},
     "output_type": "execute_result"
    }
   ],
   "source": [
    "sgd_lasso = SGDRegressor(penalty='l1')\n",
    "sgd_lasso.fit(X,y)\n",
    "sgd_lasso.predict([[1.5]])"
   ]
  },
  {
   "cell_type": "markdown",
   "metadata": {},
   "source": [
    "### Elastic Net - $r∗Lasso+(1−r)∗Ridge$ `linear_model:ElasticNet`"
   ]
  },
  {
   "cell_type": "markdown",
   "metadata": {},
   "source": [
    "a middle ground between Ridge Regression and Lasso Regression\n",
    "\n",
    "$regularization = r*Lasso+(1-r)*Ridge$\n",
    "\n",
    "* **Elastic Net** is preferred over **Lasso** in general"
   ]
  },
  {
   "cell_type": "code",
   "execution_count": 30,
   "metadata": {
    "ExecuteTime": {
     "end_time": "2017-11-23T12:48:40.947186Z",
     "start_time": "2017-11-23T12:48:40.939180Z"
    }
   },
   "outputs": [
    {
     "data": {
      "text/plain": [
       "array([ 4.85773993])"
      ]
     },
     "execution_count": 30,
     "metadata": {},
     "output_type": "execute_result"
    }
   ],
   "source": [
    "from sklearn.linear_model import ElasticNet\n",
    "elastic_net = ElasticNet(alpha=0.1, l1_ratio=0.5)\n",
    "elastic_net.fit(X, y)\n",
    "elastic_net.predict([[1.5]])"
   ]
  },
  {
   "cell_type": "markdown",
   "metadata": {},
   "source": [
    "###  Early Stopping - test with `base:clone`"
   ]
  },
  {
   "cell_type": "markdown",
   "metadata": {},
   "source": [
    "regularize iterative learning algorithm such as GD:\n",
    "\n",
    "* stop training as soon as the validation error reaches a minimum  "
   ]
  },
  {
   "cell_type": "markdown",
   "metadata": {},
   "source": [
    "#### SGD Early stop - `SGDRegressor(warm_start=True)`"
   ]
  },
  {
   "cell_type": "markdown",
   "metadata": {},
   "source": [
    "`warm_start=True` means that when the `fit()` method is called, it just **continues**training where it left off instead of restarting from scratch"
   ]
  },
  {
   "cell_type": "code",
   "execution_count": 31,
   "metadata": {
    "ExecuteTime": {
     "end_time": "2017-11-23T12:48:44.471717Z",
     "start_time": "2017-11-23T12:48:43.865231Z"
    }
   },
   "outputs": [],
   "source": [
    "from sklearn.base import clone\n",
    "sgd_reg = SGDRegressor(\n",
    "    max_iter=100,\n",
    "    warm_start=True,\n",
    "    penalty=None,\n",
    "    learning_rate=\"constant\",\n",
    "    eta0=0.0005)\n",
    "minimum_val_error = float(\"inf\")\n",
    "best_epoch = None\n",
    "best_model = None\n",
    "val_error_save = []\n",
    "train_val_error = []\n",
    "for epoch in range(1000):\n",
    "    sgd_reg.fit(X_train_poly_scaled[i-1:i],y[i])\n",
    "    y_val_predict = sgd_reg.predict(X_val_poly_scaled)\n",
    "    train_y_val_pred = sgd_reg.predict(X_train_poly_scaled[1:i+1])\n",
    "    train_val_error.append(mean_squared_error(y[1:i+1],train_y_val_pred))\n",
    "    val_error = mean_squared_error(y_val_predict,y_val)\n",
    "    val_error_save.append(val_error)\n",
    "    if val_error<minimum_val_error:\n",
    "        minimum_val_error = val_error\n",
    "        best_epoch = epoch\n",
    "        best_model = clone(sgd_reg)"
   ]
  },
  {
   "cell_type": "code",
   "execution_count": 32,
   "metadata": {
    "ExecuteTime": {
     "end_time": "2017-11-23T12:48:45.040427Z",
     "start_time": "2017-11-23T12:48:45.034424Z"
    }
   },
   "outputs": [
    {
     "data": {
      "text/plain": [
       "331"
      ]
     },
     "execution_count": 32,
     "metadata": {},
     "output_type": "execute_result"
    }
   ],
   "source": [
    "best_epoch"
   ]
  },
  {
   "cell_type": "code",
   "execution_count": 33,
   "metadata": {
    "ExecuteTime": {
     "end_time": "2017-11-23T12:48:48.160392Z",
     "start_time": "2017-11-23T12:48:48.038307Z"
    }
   },
   "outputs": [
    {
     "data": {
      "text/plain": [
       "[<matplotlib.lines.Line2D at 0x2b284adea20>]"
      ]
     },
     "execution_count": 33,
     "metadata": {},
     "output_type": "execute_result"
    },
    {
     "data": {
      "image/png": "[encoded data removed]",
      "text/plain": [
       "<matplotlib.figure.Figure at 0x2b284adef28>"
      ]
     },
     "metadata": {},
     "output_type": "display_data"
    }
   ],
   "source": [
    "plt.plot(val_error_save)\n",
    "plt.plot(train_val_error,'r--')"
   ]
  },
  {
   "cell_type": "markdown",
   "metadata": {},
   "source": [
    "## Logistic Regression  -`linear_model:LogisticRegression`"
   ]
  },
  {
   "cell_type": "markdown",
   "metadata": {},
   "source": [
    "### Logistic function & Estimate probabilities "
   ]
  },
  {
   "cell_type": "markdown",
   "metadata": {},
   "source": [
    "* Logistic function\n",
    "    * $h_\\theta(x)=\\sigma(\\theta^Tx)=\\frac{1}{1+\\exp(-\\theta^Tx)}$\n",
    "    * $-\\theta^Tx\\geq 0 \\Longrightarrow h_\\theta(x)\\geq 0.5\\Longrightarrow \\hat{y}=1$ \n",
    "    * $-\\theta^Tx< 0 \\Longrightarrow h_\\theta(x)< 0.5\\Longrightarrow \\hat{y}=0$ "
   ]
  },
  {
   "cell_type": "code",
   "execution_count": 34,
   "metadata": {
    "ExecuteTime": {
     "end_time": "2017-11-23T12:48:59.472651Z",
     "start_time": "2017-11-23T12:48:59.333533Z"
    }
   },
   "outputs": [
    {
     "data": {
      "image/png": "[encoded data removed]",
      "text/plain": [
       "<matplotlib.figure.Figure at 0x2b283a88b00>"
      ]
     },
     "metadata": {},
     "output_type": "display_data"
    }
   ],
   "source": [
    "x = np.arange(-10,10,0.1)\n",
    "y = 1/(1+np.exp(-x))\n",
    "plt.plot(x,y)\n",
    "plt.grid()"
   ]
  },
  {
   "cell_type": "markdown",
   "metadata": {},
   "source": [
    "### Cost function"
   ]
  },
  {
   "cell_type": "markdown",
   "metadata": {},
   "source": [
    "$J(\\theta)=-\\frac{1}{m}\\sum_{i=1}^{m}(y^{(i)}\\log(h_\\theta (x^{(i)}))+(1-y^{(i)})\\log(1-h_\\theta(x^{(i)})))$\n",
    "\n",
    "$\\frac{\\partial}{\\partial\\theta_j}J(\\theta)=\\frac{1}{m}\\sum_{i=1}^{m}(h_\\theta(x^{(i)})-y^{(i)})x_j^{(i)}$"
   ]
  },
  {
   "cell_type": "markdown",
   "metadata": {},
   "source": [
    "### A real binary classification problem with LR"
   ]
  },
  {
   "cell_type": "markdown",
   "metadata": {},
   "source": [
    "#### dataset - `datasets:.load_iris()`"
   ]
  },
  {
   "cell_type": "markdown",
   "metadata": {},
   "source": [
    "Flowers of three iris plant species"
   ]
  },
  {
   "cell_type": "code",
   "execution_count": 35,
   "metadata": {
    "ExecuteTime": {
     "end_time": "2017-11-23T12:49:02.058483Z",
     "start_time": "2017-11-23T12:49:01.977425Z"
    }
   },
   "outputs": [
    {
     "data": {
      "text/plain": [
       "['data', 'target', 'target_names', 'DESCR', 'feature_names']"
      ]
     },
     "execution_count": 35,
     "metadata": {},
     "output_type": "execute_result"
    }
   ],
   "source": [
    "from sklearn import datasets\n",
    "iris = datasets.load_iris()\n",
    "list(iris.keys())"
   ]
  },
  {
   "cell_type": "markdown",
   "metadata": {},
   "source": [
    "#### create a binary class - `.astype(np.int)` "
   ]
  },
  {
   "cell_type": "code",
   "execution_count": 36,
   "metadata": {
    "ExecuteTime": {
     "end_time": "2017-11-23T12:49:03.106248Z",
     "start_time": "2017-11-23T12:49:03.102248Z"
    }
   },
   "outputs": [],
   "source": [
    "X = iris[\"data\"][:, 3:] # petal width\n",
    "y = (iris[\"target\"] == 2).astype(np.int) # 1 if Iris-Virginica, else 0"
   ]
  },
  {
   "cell_type": "markdown",
   "metadata": {},
   "source": [
    "#### train the LogisticRegression model\n",
    "* <span class=\"burk\">Scitkit-Learn actually adds an $ ℓ2$ penalty by default.</span>\n",
    "* The hyperparameter controlling the regularization LogisticRegression model is not alpha (as in other linear models), but its inverse: $C=1/\\alpha$."
   ]
  },
  {
   "cell_type": "code",
   "execution_count": 39,
   "metadata": {
    "ExecuteTime": {
     "end_time": "2017-11-23T12:53:18.443998Z",
     "start_time": "2017-11-23T12:53:18.435992Z"
    },
    "scrolled": true
   },
   "outputs": [
    {
     "data": {
      "text/plain": [
       "LogisticRegression(C=1.0, class_weight=None, dual=False, fit_intercept=True,\n",
       "          intercept_scaling=1, max_iter=100, multi_class='ovr', n_jobs=1,\n",
       "          penalty='l2', random_state=None, solver='liblinear', tol=0.0001,\n",
       "          verbose=0, warm_start=False)"
      ]
     },
     "execution_count": 39,
     "metadata": {},
     "output_type": "execute_result"
    }
   ],
   "source": [
    "from sklearn.linear_model import LogisticRegression\n",
    "log_reg = LogisticRegression()\n",
    "log_reg.fit(X, y)"
   ]
  },
  {
   "cell_type": "markdown",
   "metadata": {},
   "source": [
    "#### Decision boundary"
   ]
  },
  {
   "cell_type": "code",
   "execution_count": 40,
   "metadata": {
    "ExecuteTime": {
     "end_time": "2017-11-23T12:53:19.509984Z",
     "start_time": "2017-11-23T12:53:19.325852Z"
    }
   },
   "outputs": [
    {
     "data": {
      "text/plain": [
       "Text(0,0.5,'probability')"
      ]
     },
     "execution_count": 40,
     "metadata": {},
     "output_type": "execute_result"
    },
    {
     "data": {
      "image/png": "[encoded data removed]",
      "text/plain": [
       "<matplotlib.figure.Figure at 0x2b2827fbb00>"
      ]
     },
     "metadata": {},
     "output_type": "display_data"
    }
   ],
   "source": [
    "X_new = np.linspace(0, 3, 1000).reshape(-1, 1)\n",
    "y_proba = log_reg.predict_proba(X_new)\n",
    "plt.plot(X_new, y_proba[:, 1], \"g-\", label=\"Iris-Virginica\")\n",
    "plt.plot(X_new, y_proba[:, 0], \"b--\", label=\"Not Iris-Virginica\")\n",
    "plt.plot([1.61,1.61],[0,1],'-.',label='Decision boundary')\n",
    "plt.legend()\n",
    "plt.xlabel('Petal width(cm)')\n",
    "plt.ylabel('probability')"
   ]
  },
  {
   "cell_type": "markdown",
   "metadata": {},
   "source": [
    "### Softmax Regression \n",
    "* multiclass classifier predicts **only one class** at a time"
   ]
  },
  {
   "cell_type": "markdown",
   "metadata": {},
   "source": [
    "####  softmax function\n",
    "* also called the *normalized exponential*\n",
    "* **Softmax score** \n",
    "    * $s_k(x)=\\theta_k^Tx$ \n",
    "    * all the vectors $\\theta_k$ are stores as rows in *parameter matrix* $\\Theta$\n",
    "* **Softmax function**\n",
    "    * $p_k=\\frac{\\exp{s_k(x)}}{\\sum_j=1^K\\exp{s_j(x)}}$\n",
    "    * $K$ is the number of classes $y=1,2,...,K$\n",
    "* **Softmax Regression classfier prediction**\n",
    "    * $\\hat{y}=\\arg\\max_k p_k=\\arg\\max_ks_k(x)=\\arg\\max_k (\\theta_k^Tx)$"
   ]
  },
  {
   "cell_type": "markdown",
   "metadata": {},
   "source": [
    "#### Cross entropy \n",
    "The objective is to have a model that estimates a high\n",
    "probability for the target class (and consequently a low probability for the other\n",
    "classes). **Minimizing the cost function!**"
   ]
  },
  {
   "cell_type": "markdown",
   "metadata": {},
   "source": [
    "* **Cross entropy cost function**\n",
    "    * $J(\\Theta)=-\\frac{1}{m}\\sum_{i=1}^{m}\\sum_{k=1}^Ky_k^{(i)}\\log(p_k^{(i)})$\n",
    "    * $y_k^{(i)}=1$ if the target class for the $i^{th}$ instance is $k$; otherwise, it is equal to $0$ \n",
    "* **cross entropy** between two probability distributions $p$ and $q$ is defined as \n",
    "    * $H(p,q)=-\\sum_xp(x)\\log{q(x)}$\n",
    "    * given wrong assumptions, cross entropy will be greater by an amount call the *Kullback-Leibler divergence*\n",
    "* **Cross entropy** gradient vector for class $k$\n",
    "    * $\\nabla_{\\theta_k} J(\\Theta)=\\frac{1}{m}(p_k^{(i)}-y_k^{(i)})x^{(i)}$"
   ]
  },
  {
   "cell_type": "markdown",
   "metadata": {},
   "source": [
    "####  scikit softmax - `LogisticRegression(multi_class='multinomial',solver='lbfgs', c=10)`"
   ]
  },
  {
   "cell_type": "markdown",
   "metadata": {},
   "source": [
    "* set the `multi_class` hyperparameter to `'multinomial'` to switch it to Softmax Regression instead.\n",
    "* must also specify a solver that supports Softmax Regression, such as the `'lbfgs'` solver\n",
    "    * it also applies $l2$ regularization by default, controlled by $C$"
   ]
  },
  {
   "cell_type": "code",
   "execution_count": 44,
   "metadata": {
    "ExecuteTime": {
     "end_time": "2017-11-23T13:30:05.972749Z",
     "start_time": "2017-11-23T13:30:05.948715Z"
    }
   },
   "outputs": [
    {
     "data": {
      "text/plain": [
       "LogisticRegression(C=10, class_weight=None, dual=False, fit_intercept=True,\n",
       "          intercept_scaling=1, max_iter=100, multi_class='multinomial',\n",
       "          n_jobs=1, penalty='l2', random_state=None, solver='lbfgs',\n",
       "          tol=0.0001, verbose=0, warm_start=False)"
      ]
     },
     "execution_count": 44,
     "metadata": {},
     "output_type": "execute_result"
    }
   ],
   "source": [
    "X = iris[\"data\"][:, (2, 3)] # petal length, petal width\n",
    "y = iris[\"target\"]\n",
    "softmax_reg = LogisticRegression(multi_class=\"multinomial\",solver=\"lbfgs\", C=10)\n",
    "softmax_reg.fit(X, y)"
   ]
  },
  {
   "cell_type": "code",
   "execution_count": 42,
   "metadata": {
    "ExecuteTime": {
     "end_time": "2017-11-23T13:28:00.127619Z",
     "start_time": "2017-11-23T13:28:00.118613Z"
    }
   },
   "outputs": [
    {
     "data": {
      "text/plain": [
       "array([2])"
      ]
     },
     "execution_count": 42,
     "metadata": {},
     "output_type": "execute_result"
    }
   ],
   "source": [
    "softmax_reg.predict([[5, 2]])"
   ]
  },
  {
   "cell_type": "code",
   "execution_count": 43,
   "metadata": {
    "ExecuteTime": {
     "end_time": "2017-11-23T13:28:06.438069Z",
     "start_time": "2017-11-23T13:28:06.431083Z"
    }
   },
   "outputs": [
    {
     "data": {
      "text/plain": [
       "array([[  6.33134077e-07,   5.75276067e-02,   9.42471760e-01]])"
      ]
     },
     "execution_count": 43,
     "metadata": {},
     "output_type": "execute_result"
    }
   ],
   "source": [
    "softmax_reg.predict_proba([[5, 2]])"
   ]
  },
  {
   "cell_type": "markdown",
   "metadata": {},
   "source": [
    "#### decision boundary\n",
    "* the decision boundaries between any two classes are linear."
   ]
  },
  {
   "cell_type": "code",
   "execution_count": null,
   "metadata": {},
   "outputs": [],
   "source": []
  }
 ],
 "metadata": {
  "kernelspec": {
   "display_name": "Python 3",
   "language": "python",
   "name": "python3"
  },
  "language_info": {
   "codemirror_mode": {
    "name": "ipython",
    "version": 3
   },
   "file_extension": ".py",
   "mimetype": "text/x-python",
   "name": "python",
   "nbconvert_exporter": "python",
   "pygments_lexer": "ipython3",
   "version": "3.6.3"
  },
  "toc": {
   "nav_menu": {},
   "number_sections": true,
   "sideBar": true,
   "skip_h1_title": true,
   "toc_cell": true,
   "toc_position": {},
   "toc_section_display": "block",
   "toc_window_display": false
  }
 },
 "nbformat": 4,
 "nbformat_minor": 2
}
