{
 "cells": [
  {
   "cell_type": "markdown",
   "metadata": {},
   "source": [
    "# Training Models "
   ]
  },
  {
   "cell_type": "markdown",
   "metadata": {},
   "source": [
    "* direct method to train the model\n",
    "* iterative optimization method to train the model\n",
    "    * converge to the direct method"
   ]
  },
  {
   "cell_type": "markdown",
   "metadata": {
    "toc": true
   },
   "source": [
    "<h1>Table of Contents<span class=\"tocSkip\"></span></h1>\n",
    "<div class=\"toc\" style=\"margin-top: 1em;\"><ul class=\"toc-item\"><li><span><a href=\"#Linear-Regression\" data-toc-modified-id=\"Linear-Regression-1\"><span class=\"toc-item-num\">1&nbsp;&nbsp;</span>Linear Regression</a></span><ul class=\"toc-item\"><li><span><a href=\"#target:-minimize-Mean-Square-Error\" data-toc-modified-id=\"target:-minimize-Mean-Square-Error-1.1\"><span class=\"toc-item-num\">1.1&nbsp;&nbsp;</span>target: minimize Mean Square Error</a></span></li><li><span><a href=\"#Normal-Equation\" data-toc-modified-id=\"Normal-Equation-1.2\"><span class=\"toc-item-num\">1.2&nbsp;&nbsp;</span>Normal Equation</a></span><ul class=\"toc-item\"><li><span><a href=\"#LinearRegression---linear_model:LinearRegression\" data-toc-modified-id=\"LinearRegression---linear_model:LinearRegression-1.2.1\"><span class=\"toc-item-num\">1.2.1&nbsp;&nbsp;</span>LinearRegression - <code>linear_model:LinearRegression</code></a></span></li><li><span><a href=\"#Computational-Complexity--of-normal-equation---$O(n^{2.4})\\sim-O({n^3})$\" data-toc-modified-id=\"Computational-Complexity--of-normal-equation---$O(n^{2.4})\\sim-O({n^3})$-1.2.2\"><span class=\"toc-item-num\">1.2.2&nbsp;&nbsp;</span>Computational Complexity  of normal equation - $O(n^{2.4})\\sim O({n^3})$</a></span></li></ul></li><li><span><a href=\"#Gradient-Descent\" data-toc-modified-id=\"Gradient-Descent-1.3\"><span class=\"toc-item-num\">1.3&nbsp;&nbsp;</span>Gradient Descent</a></span><ul class=\"toc-item\"><li><span><a href=\"#Batch-Gradient-Descent\" data-toc-modified-id=\"Batch-Gradient-Descent-1.3.1\"><span class=\"toc-item-num\">1.3.1&nbsp;&nbsp;</span>Batch Gradient Descent</a></span></li><li><span><a href=\"#Stochastic-Gradient-Descent\" data-toc-modified-id=\"Stochastic-Gradient-Descent-1.3.2\"><span class=\"toc-item-num\">1.3.2&nbsp;&nbsp;</span>Stochastic Gradient Descent</a></span></li><li><span><a href=\"#SGDRegressor---linear_model:SGDRegressor\" data-toc-modified-id=\"SGDRegressor---linear_model:SGDRegressor-1.3.3\"><span class=\"toc-item-num\">1.3.3&nbsp;&nbsp;</span>SGDRegressor - <code>linear_model:SGDRegressor</code></a></span></li><li><span><a href=\"#Mini-batch-Gradient-Descent\" data-toc-modified-id=\"Mini-batch-Gradient-Descent-1.3.4\"><span class=\"toc-item-num\">1.3.4&nbsp;&nbsp;</span>Mini-batch Gradient Descent</a></span></li></ul></li></ul></li><li><span><a href=\"#Polynomial-Regression\" data-toc-modified-id=\"Polynomial-Regression-2\"><span class=\"toc-item-num\">2&nbsp;&nbsp;</span>Polynomial Regression</a></span><ul class=\"toc-item\"><li><span><a href=\"#add-new-feature-$x^2$---preprocessing:PolynomialFeatures\" data-toc-modified-id=\"add-new-feature-$x^2$---preprocessing:PolynomialFeatures-2.1\"><span class=\"toc-item-num\">2.1&nbsp;&nbsp;</span>add new feature $x^2$ - <code>preprocessing:PolynomialFeatures</code></a></span></li><li><span><a href=\"#Learning-curves---metrics:mean_squared_error\" data-toc-modified-id=\"Learning-curves---metrics:mean_squared_error-2.2\"><span class=\"toc-item-num\">2.2&nbsp;&nbsp;</span>Learning curves - <code>metrics:mean_squared_error</code></a></span></li><li><span><a href=\"#Bias/Variance-Trade-off\" data-toc-modified-id=\"Bias/Variance-Trade-off-2.3\"><span class=\"toc-item-num\">2.3&nbsp;&nbsp;</span>Bias/Variance Trade-off</a></span></li></ul></li><li><span><a href=\"#Regularized-Linear-Models\" data-toc-modified-id=\"Regularized-Linear-Models-3\"><span class=\"toc-item-num\">3&nbsp;&nbsp;</span>Regularized Linear Models</a></span><ul class=\"toc-item\"><li><span><a href=\"#Ridge-Regression---$\\frac{1}{2}\\alpha-\\sum_{i=1}^{n}-\\theta_i^2-$-linear_model:Ridge\" data-toc-modified-id=\"Ridge-Regression---$\\frac{1}{2}\\alpha-\\sum_{i=1}^{n}-\\theta_i^2-$-linear_model:Ridge-3.1\"><span class=\"toc-item-num\">3.1&nbsp;&nbsp;</span>Ridge Regression - $\\frac{1}{2}\\alpha \\sum_{i=1}^{n} \\theta_i^2 $ <code>linear_model:Ridge</code></a></span><ul class=\"toc-item\"><li><span><a href=\"#Ridge-Regression-closed-form-solution\" data-toc-modified-id=\"Ridge-Regression-closed-form-solution-3.1.1\"><span class=\"toc-item-num\">3.1.1&nbsp;&nbsp;</span>Ridge Regression closed-form solution</a></span></li><li><span><a href=\"#SGD-Ridge-Regression---SGDRegressor(penalty='l2')\" data-toc-modified-id=\"SGD-Ridge-Regression---SGDRegressor(penalty='l2')-3.1.2\"><span class=\"toc-item-num\">3.1.2&nbsp;&nbsp;</span>SGD Ridge Regression - <code>SGDRegressor(penalty='l2')</code></a></span></li></ul></li><li><span><a href=\"#Lasso-Regression---$\\alpha-\\sum_{i=1}^{n}-|\\theta_i|-$-linear_model:Lasso\" data-toc-modified-id=\"Lasso-Regression---$\\alpha-\\sum_{i=1}^{n}-|\\theta_i|-$-linear_model:Lasso-3.2\"><span class=\"toc-item-num\">3.2&nbsp;&nbsp;</span>Lasso Regression - $\\alpha \\sum_{i=1}^{n} |\\theta_i| $ <code>linear_model:Lasso</code></a></span><ul class=\"toc-item\"><li><span><a href=\"#SGD-Lasso-Regression----SGDRegressor(penalty='l1')\" data-toc-modified-id=\"SGD-Lasso-Regression----SGDRegressor(penalty='l1')-3.2.1\"><span class=\"toc-item-num\">3.2.1&nbsp;&nbsp;</span>SGD Lasso Regression  - <code>SGDRegressor(penalty='l1')</code></a></span></li></ul></li><li><span><a href=\"#Elastic-Net---$r∗Lasso+(1−r)∗Ridge$-linear_model:ElasticNet\" data-toc-modified-id=\"Elastic-Net---$r∗Lasso+(1−r)∗Ridge$-linear_model:ElasticNet-3.3\"><span class=\"toc-item-num\">3.3&nbsp;&nbsp;</span>Elastic Net - $r∗Lasso+(1−r)∗Ridge$ <code>linear_model:ElasticNet</code></a></span></li><li><span><a href=\"#Early-Stopping\" data-toc-modified-id=\"Early-Stopping-3.4\"><span class=\"toc-item-num\">3.4&nbsp;&nbsp;</span>Early Stopping</a></span></li></ul></li></ul></div>"
   ]
  },
  {
   "cell_type": "code",
   "execution_count": 12,
   "metadata": {
    "ExecuteTime": {
     "end_time": "2017-11-22T16:10:32.622909Z",
     "start_time": "2017-11-22T16:10:32.615907Z"
    }
   },
   "outputs": [],
   "source": [
    "%matplotlib inline\n",
    "import matplotlib.pyplot as plt\n",
    "import numpy as np"
   ]
  },
  {
   "cell_type": "markdown",
   "metadata": {},
   "source": [
    "## Linear Regression "
   ]
  },
  {
   "cell_type": "markdown",
   "metadata": {},
   "source": [
    "$\\hat{y}=\\theta_0 + \\theta_1x_1+\\cdots+\\theta_nx_n=h_\\theta(\\vec{x})=\\vec{\\theta}^T\\cdot \\vec{x}$  "
   ]
  },
  {
   "cell_type": "markdown",
   "metadata": {},
   "source": [
    "* $\\hat{y}$ the predicted value\n",
    "* $n$ number of features\n",
    "* $x_i$ the $i^{th}$ feature value\n",
    "* $\\theta_j$ the $j^{th}$ model parameter, \n",
    "    * $\\theta_0$ the bias term\n",
    "    * $\\theta_1,\\cdots,\\theta_n$ the feature weights\n",
    "* $h_\\theta$ the hypothesis function"
   ]
  },
  {
   "cell_type": "markdown",
   "metadata": {},
   "source": [
    "### target: minimize Mean Square Error"
   ]
  },
  {
   "cell_type": "markdown",
   "metadata": {},
   "source": [
    "$MSE(x,h_\\theta)=\\frac{1}{m}\\sum_{i=1}^{m}(h_\\theta(x^{(i)})-y^{(i)})^2$"
   ]
  },
  {
   "cell_type": "markdown",
   "metadata": {},
   "source": [
    "###  Normal Equation"
   ]
  },
  {
   "cell_type": "markdown",
   "metadata": {},
   "source": [
    "$ \\theta = (x^Tx)^{-1}x^Ty$\n",
    "\n",
    "* $y = [[y^{(1)}],...,[y^{(m)}]]\\in R^{m\\times1}$ vector"
   ]
  },
  {
   "cell_type": "code",
   "execution_count": 5,
   "metadata": {
    "ExecuteTime": {
     "end_time": "2017-11-22T16:09:51.380705Z",
     "start_time": "2017-11-22T16:09:51.375703Z"
    }
   },
   "outputs": [],
   "source": [
    "import numpy as np\n",
    "X = 2 * np.random.rand(100, 1)\n",
    "y = 4 + 3 * X + np.random.randn(100, 1)"
   ]
  },
  {
   "cell_type": "code",
   "execution_count": 15,
   "metadata": {
    "ExecuteTime": {
     "end_time": "2017-11-22T16:11:25.380329Z",
     "start_time": "2017-11-22T16:11:25.240233Z"
    },
    "scrolled": true
   },
   "outputs": [
    {
     "data": {
      "text/plain": [
       "<matplotlib.collections.PathCollection at 0x2c8b8578358>"
      ]
     },
     "execution_count": 15,
     "metadata": {},
     "output_type": "execute_result"
    },
    {
     "data": {
      "image/png": "[encoded data removed]",
      "text/plain": [
       "<matplotlib.figure.Figure at 0x2c8b80ae518>"
      ]
     },
     "metadata": {},
     "output_type": "display_data"
    }
   ],
   "source": [
    "plt.scatter(X,y)"
   ]
  },
  {
   "cell_type": "markdown",
   "metadata": {},
   "source": [
    "* use normal equation"
   ]
  },
  {
   "cell_type": "code",
   "execution_count": 28,
   "metadata": {
    "ExecuteTime": {
     "end_time": "2017-11-22T16:29:11.519275Z",
     "start_time": "2017-11-22T16:29:11.513272Z"
    }
   },
   "outputs": [],
   "source": [
    "X_b = np.c_[np.ones((100, 1)), X] # add x0 = 1 to each instance\n",
    "theta_best = np.linalg.inv(X_b.T.dot(X_b)).dot(X_b.T).dot(y)"
   ]
  },
  {
   "cell_type": "code",
   "execution_count": 18,
   "metadata": {
    "ExecuteTime": {
     "end_time": "2017-11-22T16:11:41.316734Z",
     "start_time": "2017-11-22T16:11:41.311733Z"
    }
   },
   "outputs": [
    {
     "data": {
      "text/plain": [
       "array([[ 4.42226462],\n",
       "       [ 2.69124001]])"
      ]
     },
     "execution_count": 18,
     "metadata": {},
     "output_type": "execute_result"
    }
   ],
   "source": [
    "theta_best"
   ]
  },
  {
   "cell_type": "markdown",
   "metadata": {},
   "source": [
    "* construct a test with $x_0=1$ "
   ]
  },
  {
   "cell_type": "code",
   "execution_count": 20,
   "metadata": {
    "ExecuteTime": {
     "end_time": "2017-11-22T16:12:08.497520Z",
     "start_time": "2017-11-22T16:12:08.488532Z"
    }
   },
   "outputs": [
    {
     "data": {
      "text/plain": [
       "array([[ 4.42226462],\n",
       "       [ 9.80474465]])"
      ]
     },
     "execution_count": 20,
     "metadata": {},
     "output_type": "execute_result"
    }
   ],
   "source": [
    "X_new = np.array([[0], [2]])\n",
    "X_new_b = np.c_[np.ones((2, 1)), X_new]\n",
    "y_predict = X_new_b.dot(theta_best)\n",
    "y_predict"
   ]
  },
  {
   "cell_type": "code",
   "execution_count": 22,
   "metadata": {
    "ExecuteTime": {
     "end_time": "2017-11-22T16:12:29.820131Z",
     "start_time": "2017-11-22T16:12:29.680031Z"
    }
   },
   "outputs": [
    {
     "data": {
      "image/png": "[encoded data removed]",
      "text/plain": [
       "<matplotlib.figure.Figure at 0x2c8b85b3b70>"
      ]
     },
     "metadata": {},
     "output_type": "display_data"
    }
   ],
   "source": [
    "plt.plot(X_new, y_predict, \"r-\")\n",
    "plt.plot(X, y, \"b.\")\n",
    "plt.axis([0, 2, 0, 15])\n",
    "plt.show()"
   ]
  },
  {
   "cell_type": "markdown",
   "metadata": {},
   "source": [
    "#### LinearRegression - `linear_model:LinearRegression`"
   ]
  },
  {
   "cell_type": "code",
   "execution_count": 23,
   "metadata": {
    "ExecuteTime": {
     "end_time": "2017-11-22T16:13:18.115793Z",
     "start_time": "2017-11-22T16:13:17.695495Z"
    }
   },
   "outputs": [
    {
     "data": {
      "text/plain": [
       "(array([ 4.42226462]), array([[ 2.69124001]]))"
      ]
     },
     "execution_count": 23,
     "metadata": {},
     "output_type": "execute_result"
    }
   ],
   "source": [
    "from sklearn.linear_model import LinearRegression\n",
    "lin_reg = LinearRegression()\n",
    "lin_reg.fit(X, y)\n",
    "lin_reg.intercept_, lin_reg.coef_"
   ]
  },
  {
   "cell_type": "code",
   "execution_count": 25,
   "metadata": {
    "ExecuteTime": {
     "end_time": "2017-11-22T16:13:27.494610Z",
     "start_time": "2017-11-22T16:13:27.487606Z"
    }
   },
   "outputs": [
    {
     "data": {
      "text/plain": [
       "array([[ 4.42226462],\n",
       "       [ 9.80474465]])"
      ]
     },
     "execution_count": 25,
     "metadata": {},
     "output_type": "execute_result"
    }
   ],
   "source": [
    "lin_reg.predict(X_new)"
   ]
  },
  {
   "cell_type": "markdown",
   "metadata": {},
   "source": [
    "<div class=\"girk\">\n",
    "identical to the result of using normal equation!</div><i class=\"fa fa-lightbulb-o \"></i>"
   ]
  },
  {
   "cell_type": "markdown",
   "metadata": {},
   "source": [
    "#### Computational Complexity  of normal equation - $O(n^{2.4})\\sim O({n^3})$ "
   ]
  },
  {
   "cell_type": "markdown",
   "metadata": {},
   "source": [
    "computing the inverse of $X^TX$will need $O(n^{2.4})\\sim O({n^3})$ "
   ]
  },
  {
   "cell_type": "markdown",
   "metadata": {},
   "source": [
    "### Gradient Descent "
   ]
  },
  {
   "cell_type": "markdown",
   "metadata": {},
   "source": [
    "generic **optimization algorithm** capable of finding optimal solutions to a wide range of problems.it measures the local gradient of the error function with regards to the\n",
    "parameter vector $\\theta$, and it goes in the direction of **descending** gradient"
   ]
  },
  {
   "cell_type": "markdown",
   "metadata": {},
   "source": [
    "* **learning rate** the size of each step \n",
    "* **global minimum** vs. **local minimum** \n",
    "    * **convex** function only has one **global minimum**\n",
    "* **partial derivatives** $\\frac{\\partial\\text{cost function}}{\\partial{\\theta_j}}$"
   ]
  },
  {
   "cell_type": "markdown",
   "metadata": {},
   "source": [
    "<div class=\"burk\">\n",
    "when using Gradient Descent, all features should have a similar scale or it will take much longer to converge.</div><i class=\"fa fa-lightbulb-o \"></i>"
   ]
  },
  {
   "cell_type": "markdown",
   "metadata": {},
   "source": [
    "#### Batch Gradient Descent "
   ]
  },
  {
   "cell_type": "markdown",
   "metadata": {},
   "source": [
    "for linear regression the cost function is MSE    \n",
    "\n",
    "\n",
    "$\\frac{\\partial}{\\partial{\\theta_j}}MSE(\\theta)=\\frac{2}{m}\\sum(\\theta^Tx^{(i)}-y^{(i)})x_j^{(i)}$\n",
    "\n",
    "$\\nabla_\\theta MSE(\\theta)=\\frac{2}{m}X^T(X\\theta-y)\\Longrightarrow$ it uses the **whole batch** of training\n",
    "data at every step."
   ]
  },
  {
   "cell_type": "markdown",
   "metadata": {},
   "source": [
    "$\\theta^{next} = \\theta - \\eta\\nabla\\theta MSE(\\theta)$"
   ]
  },
  {
   "cell_type": "code",
   "execution_count": 29,
   "metadata": {
    "ExecuteTime": {
     "end_time": "2017-11-22T16:29:18.209133Z",
     "start_time": "2017-11-22T16:29:18.194106Z"
    }
   },
   "outputs": [],
   "source": [
    "eta = 0.1 # learning rate\n",
    "n_iterations = 1000\n",
    "m = 100\n",
    "theta = np.random.randn(2,1) # random initialization\n",
    "for iteration in range(n_iterations):\n",
    "    gradients = 2/m * X_b.T.dot(X_b.dot(theta) - y)\n",
    "    theta = theta - eta * gradients"
   ]
  },
  {
   "cell_type": "code",
   "execution_count": 27,
   "metadata": {
    "ExecuteTime": {
     "end_time": "2017-11-22T16:28:55.879069Z",
     "start_time": "2017-11-22T16:28:55.874069Z"
    }
   },
   "outputs": [
    {
     "data": {
      "text/plain": [
       "array([[ 4.42226462],\n",
       "       [ 2.69124001]])"
      ]
     },
     "execution_count": 27,
     "metadata": {},
     "output_type": "execute_result"
    }
   ],
   "source": [
    "theta"
   ]
  },
  {
   "cell_type": "markdown",
   "metadata": {},
   "source": [
    "* **tolerance** stop if `gradients<tol`\n",
    "* convergence rate = $O(\\frac{1}{iterations})$ :| ofc"
   ]
  },
  {
   "cell_type": "markdown",
   "metadata": {},
   "source": [
    "#### Stochastic Gradient Descent "
   ]
  },
  {
   "cell_type": "markdown",
   "metadata": {},
   "source": [
    "only take one train sample in each iteration\n",
    "* <span class=\"girk\">lower the learning rate when it is closed to the optimal normally according to the iterations</span>"
   ]
  },
  {
   "cell_type": "code",
   "execution_count": 31,
   "metadata": {
    "ExecuteTime": {
     "end_time": "2017-11-22T16:33:02.908490Z",
     "start_time": "2017-11-22T16:33:02.826395Z"
    }
   },
   "outputs": [],
   "source": [
    "n_epochs = 50\n",
    "t0, t1 = 5, 50 # learning schedule hyperparameters\n",
    "def learning_schedule(t):\n",
    "    return t0 / (t + t1)\n",
    "theta = np.random.randn(2,1) # random initialization\n",
    "for epoch in range(n_epochs):\n",
    "    for i in range(m):\n",
    "        random_index = np.random.randint(m)\n",
    "        xi = X_b[random_index:random_index+1]\n",
    "        yi = y[random_index:random_index+1]\n",
    "        gradients = 2 * xi.T.dot(xi.dot(theta) - yi)\n",
    "        eta = learning_schedule(epoch * m + i)\n",
    "        theta = theta - eta * gradients"
   ]
  },
  {
   "cell_type": "code",
   "execution_count": 33,
   "metadata": {
    "ExecuteTime": {
     "end_time": "2017-11-22T16:35:07.159647Z",
     "start_time": "2017-11-22T16:35:07.154644Z"
    }
   },
   "outputs": [
    {
     "data": {
      "text/plain": [
       "array([[ 4.4014046 ],\n",
       "       [ 2.69819117]])"
      ]
     },
     "execution_count": 33,
     "metadata": {},
     "output_type": "execute_result"
    }
   ],
   "source": [
    "theta"
   ]
  },
  {
   "cell_type": "markdown",
   "metadata": {},
   "source": [
    "#### SGDRegressor - `linear_model:SGDRegressor`"
   ]
  },
  {
   "cell_type": "code",
   "execution_count": 34,
   "metadata": {
    "ExecuteTime": {
     "end_time": "2017-11-22T16:36:01.709020Z",
     "start_time": "2017-11-22T16:36:01.690004Z"
    }
   },
   "outputs": [
    {
     "name": "stderr",
     "output_type": "stream",
     "text": [
      "C:\\Users\\gakki\\AppData\\Local\\conda\\conda\\envs\\ml\\lib\\site-packages\\sklearn\\linear_model\\stochastic_gradient.py:117: DeprecationWarning: n_iter parameter is deprecated in 0.19 and will be removed in 0.21. Use max_iter and tol instead.\n",
      "  DeprecationWarning)\n"
     ]
    },
    {
     "data": {
      "text/plain": [
       "SGDRegressor(alpha=0.0001, average=False, epsilon=0.1, eta0=0.1,\n",
       "       fit_intercept=True, l1_ratio=0.15, learning_rate='invscaling',\n",
       "       loss='squared_loss', max_iter=None, n_iter=50, penalty=None,\n",
       "       power_t=0.25, random_state=None, shuffle=True, tol=None, verbose=0,\n",
       "       warm_start=False)"
      ]
     },
     "execution_count": 34,
     "metadata": {},
     "output_type": "execute_result"
    }
   ],
   "source": [
    "from sklearn.linear_model import SGDRegressor\n",
    "sgd_reg = SGDRegressor(n_iter=50, penalty=None, eta0=0.1)\n",
    "sgd_reg.fit(X, y.ravel())"
   ]
  },
  {
   "cell_type": "code",
   "execution_count": 35,
   "metadata": {
    "ExecuteTime": {
     "end_time": "2017-11-22T16:36:36.687934Z",
     "start_time": "2017-11-22T16:36:36.682934Z"
    }
   },
   "outputs": [
    {
     "data": {
      "text/plain": [
       "(array([ 4.4127775]), array([ 2.69198791]))"
      ]
     },
     "execution_count": 35,
     "metadata": {},
     "output_type": "execute_result"
    }
   ],
   "source": [
    "sgd_reg.intercept_, sgd_reg.coef_"
   ]
  },
  {
   "cell_type": "markdown",
   "metadata": {},
   "source": [
    "#### Mini-batch Gradient Descent "
   ]
  },
  {
   "cell_type": "markdown",
   "metadata": {},
   "source": [
    "computes the gradients on **small random sets** of instances"
   ]
  },
  {
   "cell_type": "markdown",
   "metadata": {},
   "source": [
    "* pro: you can\n",
    "get a performance boost from hardware optimization of **matrix operations**, especially\n",
    "when using **GPUs**.\n",
    "* con: it may be\n",
    "harder for it to escape from local minima (not the problem for LR)"
   ]
  },
  {
   "cell_type": "markdown",
   "metadata": {},
   "source": [
    "## Polynomial Regression "
   ]
  },
  {
   "cell_type": "markdown",
   "metadata": {},
   "source": [
    "* construct a new data set $y=0.5x_1^2+x_1+2+\\epsilon$"
   ]
  },
  {
   "cell_type": "code",
   "execution_count": 37,
   "metadata": {
    "ExecuteTime": {
     "end_time": "2017-11-22T16:53:50.966733Z",
     "start_time": "2017-11-22T16:53:50.774595Z"
    }
   },
   "outputs": [
    {
     "data": {
      "text/plain": [
       "<matplotlib.collections.PathCollection at 0x2c8ba464d68>"
      ]
     },
     "execution_count": 37,
     "metadata": {},
     "output_type": "execute_result"
    },
    {
     "data": {
      "image/png": "[encoded data removed]",
      "text/plain": [
       "<matplotlib.figure.Figure at 0x2c8b85f2f60>"
      ]
     },
     "metadata": {},
     "output_type": "display_data"
    }
   ],
   "source": [
    "m = 100\n",
    "X = 6 * np.random.rand(m, 1) - 3\n",
    "y = 0.5 * X**2 + X + 2 + np.random.randn(m, 1)\n",
    "plt.scatter(X,y)"
   ]
  },
  {
   "cell_type": "markdown",
   "metadata": {},
   "source": [
    "###  add new feature $x^2$ - `preprocessing:PolynomialFeatures`"
   ]
  },
  {
   "cell_type": "code",
   "execution_count": 41,
   "metadata": {
    "ExecuteTime": {
     "end_time": "2017-11-22T16:58:32.672586Z",
     "start_time": "2017-11-22T16:58:32.668583Z"
    }
   },
   "outputs": [],
   "source": [
    "from sklearn.preprocessing import PolynomialFeatures\n",
    "poly_features = PolynomialFeatures(degree=2, include_bias=False)\n",
    "X_poly = poly_features.fit_transform(X)"
   ]
  },
  {
   "cell_type": "code",
   "execution_count": 43,
   "metadata": {
    "ExecuteTime": {
     "end_time": "2017-11-22T16:58:41.171442Z",
     "start_time": "2017-11-22T16:58:41.165439Z"
    }
   },
   "outputs": [
    {
     "data": {
      "text/plain": [
       "array([-1.8773162])"
      ]
     },
     "execution_count": 43,
     "metadata": {},
     "output_type": "execute_result"
    }
   ],
   "source": [
    "X[0]"
   ]
  },
  {
   "cell_type": "code",
   "execution_count": 44,
   "metadata": {
    "ExecuteTime": {
     "end_time": "2017-11-22T16:58:48.578702Z",
     "start_time": "2017-11-22T16:58:48.573699Z"
    }
   },
   "outputs": [
    {
     "data": {
      "text/plain": [
       "array([-1.8773162 ,  3.52431612])"
      ]
     },
     "execution_count": 44,
     "metadata": {},
     "output_type": "execute_result"
    }
   ],
   "source": [
    "X_poly[0]"
   ]
  },
  {
   "cell_type": "code",
   "execution_count": 45,
   "metadata": {
    "ExecuteTime": {
     "end_time": "2017-11-22T16:59:16.361966Z",
     "start_time": "2017-11-22T16:59:16.348959Z"
    }
   },
   "outputs": [
    {
     "data": {
      "text/plain": [
       "(array([ 1.87729922]), array([[ 0.94724116,  0.53100186]]))"
      ]
     },
     "execution_count": 45,
     "metadata": {},
     "output_type": "execute_result"
    }
   ],
   "source": [
    "lin_reg = LinearRegression()\n",
    "lin_reg.fit(X_poly, y)\n",
    "lin_reg.intercept_, lin_reg.coef_"
   ]
  },
  {
   "cell_type": "markdown",
   "metadata": {},
   "source": [
    "###  Learning curves - `metrics:mean_squared_error`"
   ]
  },
  {
   "cell_type": "markdown",
   "metadata": {},
   "source": [
    "performance on the **training set** and the **validation set** as a function of the training **set size**"
   ]
  },
  {
   "cell_type": "code",
   "execution_count": 49,
   "metadata": {
    "ExecuteTime": {
     "end_time": "2017-11-22T17:04:03.263687Z",
     "start_time": "2017-11-22T17:04:03.245674Z"
    }
   },
   "outputs": [],
   "source": [
    "from sklearn.metrics import mean_squared_error\n",
    "from sklearn.model_selection import train_test_split\n",
    "def plot_learning_curves(model, X, y):\n",
    "    X_train, X_val, y_train, y_val = train_test_split(X, y, test_size=0.2)\n",
    "    train_errors, val_errors = [], []\n",
    "    for m in range(1, len(X_train)):\n",
    "        model.fit(X_train[:m], y_train[:m])\n",
    "        y_train_predict = model.predict(X_train[:m])\n",
    "        y_val_predict = model.predict(X_val)\n",
    "        train_errors.append(mean_squared_error(y_train_predict, y_train[:m]))\n",
    "        val_errors.append(mean_squared_error(y_val_predict, y_val))\n",
    "    plt.plot(np.sqrt(train_errors), \"r-+\", linewidth=2, label=\"train\")\n",
    "    plt.plot(np.sqrt(val_errors), \"b-\", linewidth=3, label=\"val\")"
   ]
  },
  {
   "cell_type": "code",
   "execution_count": 50,
   "metadata": {
    "ExecuteTime": {
     "end_time": "2017-11-22T17:04:03.887607Z",
     "start_time": "2017-11-22T17:04:03.701459Z"
    }
   },
   "outputs": [
    {
     "data": {
      "image/png": "[encoded data removed]",
      "text/plain": [
       "<matplotlib.figure.Figure at 0x2c8ba736978>"
      ]
     },
     "metadata": {},
     "output_type": "display_data"
    }
   ],
   "source": [
    "lin_reg = LinearRegression()\n",
    "plot_learning_curves(lin_reg, X, y)"
   ]
  },
  {
   "cell_type": "code",
   "execution_count": 52,
   "metadata": {
    "ExecuteTime": {
     "end_time": "2017-11-22T17:05:16.457488Z",
     "start_time": "2017-11-22T17:05:16.150269Z"
    }
   },
   "outputs": [
    {
     "data": {
      "text/plain": [
       "(0, 3)"
      ]
     },
     "execution_count": 52,
     "metadata": {},
     "output_type": "execute_result"
    },
    {
     "data": {
      "image/png": "[encoded data removed]",
      "text/plain": [
       "<matplotlib.figure.Figure at 0x2c8ba6e1358>"
      ]
     },
     "metadata": {},
     "output_type": "display_data"
    }
   ],
   "source": [
    "from sklearn.pipeline import Pipeline\n",
    "polynomial_regression = Pipeline((\n",
    "(\"poly_features\", PolynomialFeatures(degree=10, include_bias=False)),\n",
    "(\"sgd_reg\", LinearRegression()),\n",
    "))\n",
    "plot_learning_curves(polynomial_regression, X, y)\n",
    "plt.ylim(0,3)"
   ]
  },
  {
   "cell_type": "markdown",
   "metadata": {},
   "source": [
    "### Bias/Variance Trade-off "
   ]
  },
  {
   "cell_type": "markdown",
   "metadata": {},
   "source": [
    "$generalization\\_error = Bias + Variance + Irreducible\\_error$\n",
    "* **bias** wrong assumptions, higher means underfit\n",
    "* **variance** data-sensitive. Many defrees of freedom, higher means overfit\n",
    "* **irreducible error** noisiness of the data."
   ]
  },
  {
   "cell_type": "markdown",
   "metadata": {},
   "source": [
    "## Regularized Linear Models"
   ]
  },
  {
   "cell_type": "markdown",
   "metadata": {},
   "source": [
    "* it should have optimization-friendly derivatives\n",
    "* the data should be scaled `preprocessing:StandardScaler`"
   ]
  },
  {
   "cell_type": "markdown",
   "metadata": {},
   "source": [
    "### Ridge Regression - $\\frac{1}{2}\\alpha \\sum_{i=1}^{n} \\theta_i^2 $ `linear_model:Ridge`"
   ]
  },
  {
   "cell_type": "markdown",
   "metadata": {},
   "source": [
    "also called *Tikhonov regularization*, add **regularization** term to cost function to keep the model weights as small as possible"
   ]
  },
  {
   "cell_type": "markdown",
   "metadata": {},
   "source": [
    "\n",
    "* **regularization** term = $\\frac{1}{2}\\alpha \\sum_{i=1}^{n} \\theta_i^2 $\n",
    "    * $\\alpha$ hyperparameter measures the degree of regularization, \n",
    "        * $\\alpha=0$ no regularization\n",
    "        * $\\alpha>>0$ the weights are close to 0.\n",
    "    * the bias term $\\theta_0$ is not regularized $i=1,...,n$ \n",
    "\n",
    "now the cost function becomes\n",
    "\n",
    "$J(\\theta)=MSE(\\theta)+\\frac{1}{2}\\alpha \\sum \\theta_i^2$"
   ]
  },
  {
   "cell_type": "markdown",
   "metadata": {},
   "source": [
    "#### Ridge Regression closed-form solution "
   ]
  },
  {
   "cell_type": "markdown",
   "metadata": {},
   "source": [
    "$\\theta = (X^TX+\\alpha A)^{-1}X^Ty$\n",
    "\n",
    "where $A=I-e_{00}$"
   ]
  },
  {
   "cell_type": "code",
   "execution_count": 56,
   "metadata": {
    "ExecuteTime": {
     "end_time": "2017-11-22T17:32:18.684352Z",
     "start_time": "2017-11-22T17:32:18.674341Z"
    }
   },
   "outputs": [
    {
     "data": {
      "text/plain": [
       "array([[ 4.66421144]])"
      ]
     },
     "execution_count": 56,
     "metadata": {},
     "output_type": "execute_result"
    }
   ],
   "source": [
    "from sklearn.linear_model import Ridge\n",
    "ridge_reg = Ridge(alpha=1, solver=\"cholesky\") # or sag to use Stochastic Average GD\n",
    "ridge_reg.fit(X, y)\n",
    "ridge_reg.predict([[1.5]])"
   ]
  },
  {
   "cell_type": "markdown",
   "metadata": {},
   "source": [
    "#### SGD Ridge Regression - `SGDRegressor(penalty='l2')` "
   ]
  },
  {
   "cell_type": "markdown",
   "metadata": {},
   "source": [
    "$regularization=\\frac{1}{2}\\sum(\\theta_i)^2$"
   ]
  },
  {
   "cell_type": "code",
   "execution_count": 58,
   "metadata": {
    "ExecuteTime": {
     "end_time": "2017-11-22T17:36:20.969922Z",
     "start_time": "2017-11-22T17:36:20.960935Z"
    }
   },
   "outputs": [
    {
     "name": "stderr",
     "output_type": "stream",
     "text": [
      "C:\\Users\\gakki\\AppData\\Local\\conda\\conda\\envs\\ml\\lib\\site-packages\\sklearn\\linear_model\\stochastic_gradient.py:128: FutureWarning: max_iter and tol parameters have been added in <class 'sklearn.linear_model.stochastic_gradient.SGDRegressor'> in 0.19. If both are left unset, they default to max_iter=5 and tol=None. If tol is not None, max_iter defaults to max_iter=1000. From 0.21, default max_iter will be 1000, and default tol will be 1e-3.\n",
      "  \"and default tol will be 1e-3.\" % type(self), FutureWarning)\n"
     ]
    },
    {
     "data": {
      "text/plain": [
       "array([ 3.90737303])"
      ]
     },
     "execution_count": 58,
     "metadata": {},
     "output_type": "execute_result"
    }
   ],
   "source": [
    "sgd_reg = SGDRegressor(penalty=\"l2\")\n",
    "sgd_reg.fit(X, y.ravel())\n",
    "sgd_reg.predict([[1.5]])"
   ]
  },
  {
   "cell_type": "markdown",
   "metadata": {},
   "source": [
    "### Lasso Regression - $\\alpha \\sum_{i=1}^{n} |\\theta_i| $ `linear_model:Lasso`"
   ]
  },
  {
   "cell_type": "markdown",
   "metadata": {},
   "source": [
    "*Least Absolute Shrinkage and Selection Operator Regression*\n",
    "\n",
    "$regularization=\\alpha \\sum_{i=1}^{n} |\\theta_i| $\n",
    "\n",
    "* completely *eliminate* the weights of the *least* important features\n",
    "* automatically performs **feature selection** and outputs a sparse model\n",
    "* non-differentiable at $\\theta_i=0$ use subgradient vector\n",
    "\n",
    "<span class=\"burk\">! it may behave erratically when</span>\n",
    "* the number of features is greater than the number of training instances\n",
    "* several features are strongly correlated."
   ]
  },
  {
   "cell_type": "markdown",
   "metadata": {},
   "source": [
    "$g(\\theta,J)=\\nabla_\\theta MSE(\\theta)+\\alpha (sign(\\theta_1),....,sign(\\theta_n))^T$\n",
    "\n",
    "* $sign(\\theta_i)=0$ if $\\theta_i=0$"
   ]
  },
  {
   "cell_type": "code",
   "execution_count": 60,
   "metadata": {
    "ExecuteTime": {
     "end_time": "2017-11-22T17:47:40.965935Z",
     "start_time": "2017-11-22T17:47:40.954929Z"
    }
   },
   "outputs": [
    {
     "data": {
      "text/plain": [
       "array([ 4.61921387])"
      ]
     },
     "execution_count": 60,
     "metadata": {},
     "output_type": "execute_result"
    }
   ],
   "source": [
    "from sklearn.linear_model import Lasso\n",
    "lasso_reg = Lasso(alpha=0.1)\n",
    "lasso_reg.fit(X, y)\n",
    "lasso_reg.predict([[1.5]])"
   ]
  },
  {
   "cell_type": "markdown",
   "metadata": {},
   "source": [
    "####  SGD Lasso Regression  - `SGDRegressor(penalty='l1')` "
   ]
  },
  {
   "cell_type": "code",
   "execution_count": 65,
   "metadata": {
    "ExecuteTime": {
     "end_time": "2017-11-22T17:50:26.429586Z",
     "start_time": "2017-11-22T17:50:26.418579Z"
    }
   },
   "outputs": [
    {
     "name": "stderr",
     "output_type": "stream",
     "text": [
      "C:\\Users\\gakki\\AppData\\Local\\conda\\conda\\envs\\ml\\lib\\site-packages\\sklearn\\linear_model\\stochastic_gradient.py:128: FutureWarning: max_iter and tol parameters have been added in <class 'sklearn.linear_model.stochastic_gradient.SGDRegressor'> in 0.19. If both are left unset, they default to max_iter=5 and tol=None. If tol is not None, max_iter defaults to max_iter=1000. From 0.21, default max_iter will be 1000, and default tol will be 1e-3.\n",
      "  \"and default tol will be 1e-3.\" % type(self), FutureWarning)\n",
      "C:\\Users\\gakki\\AppData\\Local\\conda\\conda\\envs\\ml\\lib\\site-packages\\sklearn\\utils\\validation.py:578: DataConversionWarning: A column-vector y was passed when a 1d array was expected. Please change the shape of y to (n_samples, ), for example using ravel().\n",
      "  y = column_or_1d(y, warn=True)\n"
     ]
    },
    {
     "data": {
      "text/plain": [
       "array([ 3.86848621])"
      ]
     },
     "execution_count": 65,
     "metadata": {},
     "output_type": "execute_result"
    }
   ],
   "source": [
    "sgd_lasso = SGDRegressor(penalty='l1')\n",
    "sgd_lasso.fit(X,y)\n",
    "sgd_lasso.predict([[1.5]])"
   ]
  },
  {
   "cell_type": "markdown",
   "metadata": {},
   "source": [
    "### Elastic Net - $r∗Lasso+(1−r)∗Ridge$ `linear_model:ElasticNet`"
   ]
  },
  {
   "cell_type": "markdown",
   "metadata": {},
   "source": [
    "a middle ground between Ridge Regression and Lasso Regression\n",
    "\n",
    "$regularization = r*Lasso+(1-r)*Ridge$\n",
    "\n",
    "* **Elastic Net** is preferred over **Lasso** in general"
   ]
  },
  {
   "cell_type": "code",
   "execution_count": 66,
   "metadata": {
    "ExecuteTime": {
     "end_time": "2017-11-22T17:56:40.774865Z",
     "start_time": "2017-11-22T17:56:40.764858Z"
    }
   },
   "outputs": [
    {
     "data": {
      "text/plain": [
       "array([ 4.62354143])"
      ]
     },
     "execution_count": 66,
     "metadata": {},
     "output_type": "execute_result"
    }
   ],
   "source": [
    "from sklearn.linear_model import ElasticNet\n",
    "elastic_net = ElasticNet(alpha=0.1, l1_ratio=0.5)\n",
    "elastic_net.fit(X, y)\n",
    "elastic_net.predict([[1.5]])"
   ]
  },
  {
   "cell_type": "markdown",
   "metadata": {},
   "source": [
    "###  Early Stopping"
   ]
  },
  {
   "cell_type": "markdown",
   "metadata": {},
   "source": [
    "regularize iterative learning algorithm such as GD:\n",
    "\n",
    "* stop training as soon as the validation error reaches a minimum  "
   ]
  },
  {
   "cell_type": "code",
   "execution_count": null,
   "metadata": {},
   "outputs": [],
   "source": []
  }
 ],
 "metadata": {
  "kernelspec": {
   "display_name": "Python 3",
   "language": "python",
   "name": "python3"
  },
  "language_info": {
   "codemirror_mode": {
    "name": "ipython",
    "version": 3
   },
   "file_extension": ".py",
   "mimetype": "text/x-python",
   "name": "python",
   "nbconvert_exporter": "python",
   "pygments_lexer": "ipython3",
   "version": "3.6.3"
  },
  "toc": {
   "nav_menu": {},
   "number_sections": true,
   "sideBar": true,
   "skip_h1_title": true,
   "toc_cell": true,
   "toc_position": {},
   "toc_section_display": "block",
   "toc_window_display": false
  }
 },
 "nbformat": 4,
 "nbformat_minor": 2
}
