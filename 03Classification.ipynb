{
 "cells": [
  {
   "cell_type": "markdown",
   "metadata": {
    "toc": true
   },
   "source": [
    "<h1>Table of Contents<span class=\"tocSkip\"></span></h1>\n",
    "<div class=\"toc\"><ul class=\"toc-item\"><li><span><a href=\"#MNIST\" data-toc-modified-id=\"MNIST-1\"><span class=\"toc-item-num\">1&nbsp;&nbsp;</span>MNIST</a></span><ul class=\"toc-item\"><li><span><a href=\"#load-the-data--datasets:fetch_mldata('MNIST-original')\" data-toc-modified-id=\"load-the-data--datasets:fetch_mldata('MNIST-original')-1.1\"><span class=\"toc-item-num\">1.1&nbsp;&nbsp;</span>load the data  <code>datasets:fetch_mldata('MNIST original')</code></a></span></li><li><span><a href=\"#display-the-image-matplotlib.pyplot.imshow()\" data-toc-modified-id=\"display-the-image-matplotlib.pyplot.imshow()-1.2\"><span class=\"toc-item-num\">1.2&nbsp;&nbsp;</span>display the image <code>matplotlib.pyplot.imshow()</code></a></span></li><li><span><a href=\"#Split-into-a-traning-set-and-a-test-set\" data-toc-modified-id=\"Split-into-a-traning-set-and-a-test-set-1.3\"><span class=\"toc-item-num\">1.3&nbsp;&nbsp;</span>Split into a traning set and a test set</a></span><ul class=\"toc-item\"><li><span><a href=\"#shuffle-the-traning-set-np.random.permutation()\" data-toc-modified-id=\"shuffle-the-traning-set-np.random.permutation()-1.3.1\"><span class=\"toc-item-num\">1.3.1&nbsp;&nbsp;</span>shuffle the traning set <code>np.random.permutation()</code></a></span></li></ul></li></ul></li><li><span><a href=\"#Traning-a-Binary-Classifier\" data-toc-modified-id=\"Traning-a-Binary-Classifier-2\"><span class=\"toc-item-num\">2&nbsp;&nbsp;</span>Traning a Binary Classifier</a></span><ul class=\"toc-item\"><li><span><a href=\"#Online-learning-SGD-linear_model:SGDClassifier\" data-toc-modified-id=\"Online-learning-SGD-linear_model:SGDClassifier-2.1\"><span class=\"toc-item-num\">2.1&nbsp;&nbsp;</span>Online learning SGD <code>linear_model:SGDClassifier</code></a></span></li><li><span><a href=\"#Performance-Measures\" data-toc-modified-id=\"Performance-Measures-2.2\"><span class=\"toc-item-num\">2.2&nbsp;&nbsp;</span>Performance Measures</a></span><ul class=\"toc-item\"><li><span><a href=\"#Measuring-Accuracy-Using-Cross-Validation\" data-toc-modified-id=\"Measuring-Accuracy-Using-Cross-Validation-2.2.1\"><span class=\"toc-item-num\">2.2.1&nbsp;&nbsp;</span>Measuring Accuracy Using Cross-Validation</a></span><ul class=\"toc-item\"><li><span><a href=\"#Custom-cross-validation-model_selection:StratifiedKFold;-base:clone\" data-toc-modified-id=\"Custom-cross-validation-model_selection:StratifiedKFold;-base:clone-2.2.1.1\"><span class=\"toc-item-num\">2.2.1.1&nbsp;&nbsp;</span>Custom cross-validation <code>model_selection:StratifiedKFold; base:clone</code></a></span></li><li><span><a href=\"#build-in-cross-validation-(ch2)-model_selection:cross_val_score(scoring=&quot;accuracy&quot;)\" data-toc-modified-id=\"build-in-cross-validation-(ch2)-model_selection:cross_val_score(scoring=&quot;accuracy&quot;)-2.2.1.2\"><span class=\"toc-item-num\">2.2.1.2&nbsp;&nbsp;</span>build-in cross-validation (ch2) <code>model_selection:cross_val_score(scoring=\"accuracy\")</code></a></span></li></ul></li><li><span><a href=\"#Confusion-Matrix-model_selection:cross_val_predict;-metrics.confusion_matrix\" data-toc-modified-id=\"Confusion-Matrix-model_selection:cross_val_predict;-metrics.confusion_matrix-2.2.2\"><span class=\"toc-item-num\">2.2.2&nbsp;&nbsp;</span>Confusion Matrix <code>model_selection:cross_val_predict; metrics.confusion_matrix</code></a></span><ul class=\"toc-item\"><li><span><a href=\"#Confusion-matrix\" data-toc-modified-id=\"Confusion-matrix-2.2.2.1\"><span class=\"toc-item-num\">2.2.2.1&nbsp;&nbsp;</span>Confusion matrix</a></span></li><li><span><a href=\"#Precision-metrics:precision_score\" data-toc-modified-id=\"Precision-metrics:precision_score-2.2.2.2\"><span class=\"toc-item-num\">2.2.2.2&nbsp;&nbsp;</span>Precision <code>metrics:precision_score</code></a></span></li><li><span><a href=\"#Recall,-sensitivity,-true-positive-rate-metrics:recall_score\" data-toc-modified-id=\"Recall,-sensitivity,-true-positive-rate-metrics:recall_score-2.2.2.3\"><span class=\"toc-item-num\">2.2.2.3&nbsp;&nbsp;</span>Recall, sensitivity, true positive rate <code>metrics:recall_score</code></a></span></li><li><span><a href=\"#$F_1$-score-the-harmonic-mean-of-precision-and-recall---metrics:f1_score\" data-toc-modified-id=\"$F_1$-score-the-harmonic-mean-of-precision-and-recall---metrics:f1_score-2.2.2.4\"><span class=\"toc-item-num\">2.2.2.4&nbsp;&nbsp;</span>$F_1$ score the harmonic mean of <code>precision</code> and <code>recall</code> - <code>metrics:f1_score</code></a></span></li><li><span><a href=\"#Precision/Recall-Tradeoff-model_obj.decision_function();-metrics:precision_recall_curve\" data-toc-modified-id=\"Precision/Recall-Tradeoff-model_obj.decision_function();-metrics:precision_recall_curve-2.2.2.5\"><span class=\"toc-item-num\">2.2.2.5&nbsp;&nbsp;</span>Precision/Recall Tradeoff <code>model_obj.decision_function(); metrics:precision_recall_curve</code></a></span></li></ul></li><li><span><a href=\"#The-ROC-Curve-metrics:roc_curve\" data-toc-modified-id=\"The-ROC-Curve-metrics:roc_curve-2.2.3\"><span class=\"toc-item-num\">2.2.3&nbsp;&nbsp;</span>The ROC Curve <code>metrics:roc_curve</code></a></span><ul class=\"toc-item\"><li><span><a href=\"#specificity-TNR\" data-toc-modified-id=\"specificity-TNR-2.2.3.1\"><span class=\"toc-item-num\">2.2.3.1&nbsp;&nbsp;</span>specificity TNR</a></span></li><li><span><a href=\"#AUC-area-under-the-curve-metrics:roc_auc_score\" data-toc-modified-id=\"AUC-area-under-the-curve-metrics:roc_auc_score-2.2.3.2\"><span class=\"toc-item-num\">2.2.3.2&nbsp;&nbsp;</span>AUC area under the curve <code>metrics:roc_auc_score</code></a></span></li></ul></li><li><span><a href=\"#Compare-with-RandomForestClassifier-ensemble:RandomForestClassifier\" data-toc-modified-id=\"Compare-with-RandomForestClassifier-ensemble:RandomForestClassifier-2.2.4\"><span class=\"toc-item-num\">2.2.4&nbsp;&nbsp;</span>Compare with RandomForestClassifier <code>ensemble:RandomForestClassifier</code></a></span></li></ul></li></ul></li><li><span><a href=\"#Multiclass-Classification\" data-toc-modified-id=\"Multiclass-Classification-3\"><span class=\"toc-item-num\">3&nbsp;&nbsp;</span>Multiclass Classification</a></span><ul class=\"toc-item\"><li><span><a href=\"#From-a-Binary-Classifier\" data-toc-modified-id=\"From-a-Binary-Classifier-3.1\"><span class=\"toc-item-num\">3.1&nbsp;&nbsp;</span>From a Binary Classifier</a></span><ul class=\"toc-item\"><li><span><a href=\"#One-vs-All\" data-toc-modified-id=\"One-vs-All-3.1.1\"><span class=\"toc-item-num\">3.1.1&nbsp;&nbsp;</span>One-vs-All</a></span></li><li><span><a href=\"#One-vs-One\" data-toc-modified-id=\"One-vs-One-3.1.2\"><span class=\"toc-item-num\">3.1.2&nbsp;&nbsp;</span>One-vs-One</a></span></li><li><span><a href=\"#see-the-output-via-model_obj.decision_function()\" data-toc-modified-id=\"see-the-output-via-model_obj.decision_function()-3.1.3\"><span class=\"toc-item-num\">3.1.3&nbsp;&nbsp;</span>see the output via <code>model_obj.decision_function()</code></a></span></li><li><span><a href=\"#Force-to-use-One-vs-One-or-..multiclass:OneVsOneClassifier\" data-toc-modified-id=\"Force-to-use-One-vs-One-or-..multiclass:OneVsOneClassifier-3.1.4\"><span class=\"toc-item-num\">3.1.4&nbsp;&nbsp;</span>Force to use One-vs-One or ..<code>multiclass:OneVsOneClassifier</code></a></span></li></ul></li><li><span><a href=\"#Use-a-multiclass-classifier-ensemble:RandomForestClassifier\" data-toc-modified-id=\"Use-a-multiclass-classifier-ensemble:RandomForestClassifier-3.2\"><span class=\"toc-item-num\">3.2&nbsp;&nbsp;</span>Use a multiclass classifier <code>ensemble:RandomForestClassifier</code></a></span><ul class=\"toc-item\"><li><span><a href=\"#Use-model_obj.predict_proba()-to-get-the-detail\" data-toc-modified-id=\"Use-model_obj.predict_proba()-to-get-the-detail-3.2.1\"><span class=\"toc-item-num\">3.2.1&nbsp;&nbsp;</span>Use <code>model_obj.predict_proba()</code> to get the detail</a></span></li></ul></li><li><span><a href=\"#Evaluation\" data-toc-modified-id=\"Evaluation-3.3\"><span class=\"toc-item-num\">3.3&nbsp;&nbsp;</span>Evaluation</a></span><ul class=\"toc-item\"><li><span><a href=\"#Evaluate-the-SGDClassifier\" data-toc-modified-id=\"Evaluate-the-SGDClassifier-3.3.1\"><span class=\"toc-item-num\">3.3.1&nbsp;&nbsp;</span>Evaluate the SGDClassifier</a></span></li><li><span><a href=\"#After-input-scaling-preprocessing:StandardScaler\" data-toc-modified-id=\"After-input-scaling-preprocessing:StandardScaler-3.3.2\"><span class=\"toc-item-num\">3.3.2&nbsp;&nbsp;</span>After input scaling <code>preprocessing:StandardScaler</code></a></span></li></ul></li><li><span><a href=\"#Error-Analysis\" data-toc-modified-id=\"Error-Analysis-3.4\"><span class=\"toc-item-num\">3.4&nbsp;&nbsp;</span>Error Analysis</a></span><ul class=\"toc-item\"><li><span><a href=\"#Confusion-matrix-plt.matshow(conf_mx,cmap=plt.cm.gray)\" data-toc-modified-id=\"Confusion-matrix-plt.matshow(conf_mx,cmap=plt.cm.gray)-3.4.1\"><span class=\"toc-item-num\">3.4.1&nbsp;&nbsp;</span>Confusion matrix <code>plt.matshow(conf_mx,cmap=plt.cm.gray)</code></a></span><ul class=\"toc-item\"><li><span><a href=\"#Normalize-the-confusion-matrix\" data-toc-modified-id=\"Normalize-the-confusion-matrix-3.4.1.1\"><span class=\"toc-item-num\">3.4.1.1&nbsp;&nbsp;</span>Normalize the confusion matrix</a></span></li></ul></li><li><span><a href=\"#Analyzing-individual-errors\" data-toc-modified-id=\"Analyzing-individual-errors-3.4.2\"><span class=\"toc-item-num\">3.4.2&nbsp;&nbsp;</span>Analyzing individual errors</a></span></li></ul></li></ul></li><li><span><a href=\"#Multilabel-Classification\" data-toc-modified-id=\"Multilabel-Classification-4\"><span class=\"toc-item-num\">4&nbsp;&nbsp;</span>Multilabel Classification</a></span><ul class=\"toc-item\"><li><span><a href=\"#A-Multilabel-Classifier---neighbors:KNeighborsClassifier\" data-toc-modified-id=\"A-Multilabel-Classifier---neighbors:KNeighborsClassifier-4.1\"><span class=\"toc-item-num\">4.1&nbsp;&nbsp;</span>A Multilabel Classifier - <code>neighbors:KNeighborsClassifier</code></a></span></li><li><span><a href=\"#Evaluation---set-weight-via-average=&quot;weighted&quot;\" data-toc-modified-id=\"Evaluation---set-weight-via-average=&quot;weighted&quot;-4.2\"><span class=\"toc-item-num\">4.2&nbsp;&nbsp;</span>Evaluation - set weight via <code>average=\"weighted\"</code></a></span></li></ul></li><li><span><a href=\"#Multioutput-Classification\" data-toc-modified-id=\"Multioutput-Classification-5\"><span class=\"toc-item-num\">5&nbsp;&nbsp;</span>Multioutput Classification</a></span></li></ul></div>"
   ]
  },
  {
   "cell_type": "markdown",
   "metadata": {},
   "source": [
    "In Chapter 2 we explored a **regression task**, predicting housing values, using various algorithms such as *Linear Regression, Decision Trees, and Random Forests*. Now we will turn our attention to **classification** systems."
   ]
  },
  {
   "cell_type": "code",
   "execution_count": 2,
   "metadata": {},
   "outputs": [],
   "source": [
    "import warnings\n",
    "warnings.filterwarnings('ignore')"
   ]
  },
  {
   "cell_type": "markdown",
   "metadata": {},
   "source": [
    "# MNIST\n",
    " MNIST dataset is a set of 70,000 small images of digits handwritten by high school students and employees of the US Census Bureau."
   ]
  },
  {
   "cell_type": "markdown",
   "metadata": {},
   "source": [
    "## load the data  `datasets:fetch_mldata('MNIST original')`"
   ]
  },
  {
   "cell_type": "code",
   "execution_count": 3,
   "metadata": {},
   "outputs": [
    {
     "data": {
      "text/plain": [
       "{'COL_NAMES': ['label', 'data'],\n",
       " 'DESCR': 'mldata.org dataset: mnist-original',\n",
       " 'data': array([[0, 0, 0, ..., 0, 0, 0],\n",
       "        [0, 0, 0, ..., 0, 0, 0],\n",
       "        [0, 0, 0, ..., 0, 0, 0],\n",
       "        ...,\n",
       "        [0, 0, 0, ..., 0, 0, 0],\n",
       "        [0, 0, 0, ..., 0, 0, 0],\n",
       "        [0, 0, 0, ..., 0, 0, 0]], dtype=uint8),\n",
       " 'target': array([0., 0., 0., ..., 9., 9., 9.])}"
      ]
     },
     "execution_count": 3,
     "metadata": {},
     "output_type": "execute_result"
    }
   ],
   "source": [
    "from sklearn.datasets import fetch_mldata\n",
    "mnist = fetch_mldata('MNIST original')\n",
    "mnist"
   ]
  },
  {
   "cell_type": "markdown",
   "metadata": {},
   "source": [
    "By default Scikit-Learn caches downloaded datasets in a directory called `$HOME/scikit_learn_data`. The datasets loaded generally have a similar dictionary structure including:\n",
    "* A `DESCR` key describing the dataset\n",
    "* A `data` key containing an array with one row per instance and one column pre feature\n",
    "* A `target` key containing an array with the labels"
   ]
  },
  {
   "cell_type": "code",
   "execution_count": 4,
   "metadata": {},
   "outputs": [
    {
     "data": {
      "text/plain": [
       "(70000, 784)"
      ]
     },
     "execution_count": 4,
     "metadata": {},
     "output_type": "execute_result"
    }
   ],
   "source": [
    "X, y = mnist[\"data\"], mnist[\"target\"]\n",
    "X.shape"
   ]
  },
  {
   "cell_type": "code",
   "execution_count": 5,
   "metadata": {},
   "outputs": [
    {
     "data": {
      "text/plain": [
       "(70000,)"
      ]
     },
     "execution_count": 5,
     "metadata": {},
     "output_type": "execute_result"
    }
   ],
   "source": [
    "y.shape"
   ]
  },
  {
   "cell_type": "markdown",
   "metadata": {},
   "source": [
    "There are 70,000 images, and each image has 784 features(28×28) from 0 (white) to 255(black). "
   ]
  },
  {
   "cell_type": "markdown",
   "metadata": {},
   "source": [
    "## display the image `matplotlib.pyplot.imshow()` "
   ]
  },
  {
   "cell_type": "code",
   "execution_count": 6,
   "metadata": {},
   "outputs": [
    {
     "data": {
      "image/png": "[encoded data removed]",
      "text/plain": [
       "<matplotlib.figure.Figure at 0x105edaf60>"
      ]
     },
     "metadata": {},
     "output_type": "display_data"
    }
   ],
   "source": [
    "%matplotlib inline\n",
    "import matplotlib\n",
    "import matplotlib.pyplot as plt    \n",
    "some_digit = X[36000]\n",
    "some_digit_image = some_digit.reshape(28, 28)  \n",
    "plt.imshow(some_digit_image, cmap = matplotlib.cm.binary, interpolation=\"nearest\")\n",
    "\n",
    "plt.axis(\"off\")\n",
    "plt.show()\n"
   ]
  },
  {
   "cell_type": "code",
   "execution_count": 7,
   "metadata": {},
   "outputs": [
    {
     "data": {
      "text/plain": [
       "5.0"
      ]
     },
     "execution_count": 7,
     "metadata": {},
     "output_type": "execute_result"
    }
   ],
   "source": [
    "y[36000]"
   ]
  },
  {
   "cell_type": "markdown",
   "metadata": {},
   "source": [
    "## Split into a traning set and a test set\n",
    "The MNIST dataset is actually already split into a training set (the first 60,000 images) and a test set (the last 10,000 images):"
   ]
  },
  {
   "cell_type": "code",
   "execution_count": 8,
   "metadata": {},
   "outputs": [],
   "source": [
    "X_train, X_test, y_train, y_test = X[:60000], X[60000:], y[:60000], y[60000:]"
   ]
  },
  {
   "cell_type": "markdown",
   "metadata": {},
   "source": [
    "### shuffle the traning set `np.random.permutation()`\n",
    "\n",
    "* this will guarantee that all cross-validation folds will be similar (you don’t want one fold to be missing some digits). \n",
    "* Moreover, some learning algorithms are sensitive to the order of the training instances, and they perform poorly if they get many similar instances in a row"
   ]
  },
  {
   "cell_type": "code",
   "execution_count": 9,
   "metadata": {},
   "outputs": [],
   "source": [
    "import numpy as np\n",
    "shuffle_index = np.random.permutation(60000)\n",
    "X_train, y_train = X_train[shuffle_index], y_train[shuffle_index]"
   ]
  },
  {
   "cell_type": "markdown",
   "metadata": {},
   "source": [
    "# Traning a Binary Classifier "
   ]
  },
  {
   "cell_type": "markdown",
   "metadata": {},
   "source": [
    "Let’s simplify the problem for now and only try to identify one digit - 5 or not 5"
   ]
  },
  {
   "cell_type": "code",
   "execution_count": 10,
   "metadata": {},
   "outputs": [],
   "source": [
    "y_train_5 = (y_train == 5) # True for all 5s, False for all other digits. \n",
    "y_test_5 = (y_test == 5)"
   ]
  },
  {
   "cell_type": "markdown",
   "metadata": {},
   "source": [
    "## Online learning SGD `linear_model:SGDClassifier`"
   ]
  },
  {
   "cell_type": "markdown",
   "metadata": {},
   "source": [
    "This clas‐ sifier has the advantage of being capable of handling very large datasets efficiently. This is in part because SGD deals with training instances independently."
   ]
  },
  {
   "cell_type": "code",
   "execution_count": 11,
   "metadata": {},
   "outputs": [
    {
     "data": {
      "text/plain": [
       "SGDClassifier(alpha=0.0001, average=False, class_weight=None, epsilon=0.1,\n",
       "       eta0=0.0, fit_intercept=True, l1_ratio=0.15,\n",
       "       learning_rate='optimal', loss='hinge', max_iter=None, n_iter=None,\n",
       "       n_jobs=1, penalty='l2', power_t=0.5, random_state=42, shuffle=True,\n",
       "       tol=None, verbose=0, warm_start=False)"
      ]
     },
     "execution_count": 11,
     "metadata": {},
     "output_type": "execute_result"
    }
   ],
   "source": [
    "from sklearn.linear_model import SGDClassifier \n",
    "sgd_clf = SGDClassifier(random_state=42)\n",
    "sgd_clf.fit(X_train, y_train_5)"
   ]
  },
  {
   "cell_type": "markdown",
   "metadata": {},
   "source": [
    "* set `random_state` if you want reproducible results"
   ]
  },
  {
   "cell_type": "code",
   "execution_count": 12,
   "metadata": {},
   "outputs": [
    {
     "data": {
      "text/plain": [
       "array([ True])"
      ]
     },
     "execution_count": 12,
     "metadata": {},
     "output_type": "execute_result"
    }
   ],
   "source": [
    "sgd_clf.predict([some_digit])"
   ]
  },
  {
   "cell_type": "markdown",
   "metadata": {},
   "source": [
    "## Performance Measures "
   ]
  },
  {
   "cell_type": "markdown",
   "metadata": {},
   "source": [
    "Evaluating a classifier is often significantly trickier than evaluating a regressor,"
   ]
  },
  {
   "cell_type": "markdown",
   "metadata": {},
   "source": [
    "###  Measuring Accuracy Using Cross-Validation"
   ]
  },
  {
   "cell_type": "markdown",
   "metadata": {},
   "source": [
    "####  Custom cross-validation `model_selection:StratifiedKFold; base:clone`"
   ]
  },
  {
   "cell_type": "markdown",
   "metadata": {},
   "source": [
    "Occasionally you will need more control over the cross-validation process.\n",
    "\n",
    "We can implement cross-validation."
   ]
  },
  {
   "cell_type": "code",
   "execution_count": 13,
   "metadata": {},
   "outputs": [],
   "source": [
    "from sklearn.model_selection import StratifiedKFold \n",
    "from sklearn.base import clone\n",
    "skfolds = StratifiedKFold(n_splits=3, random_state=42)\n"
   ]
  },
  {
   "cell_type": "code",
   "execution_count": 14,
   "metadata": {},
   "outputs": [
    {
     "name": "stdout",
     "output_type": "stream",
     "text": [
      "0.95695\n",
      "0.9641\n",
      "0.9586\n"
     ]
    }
   ],
   "source": [
    "for train_index, test_index in skfolds.split(X_train, y_train_5): \n",
    "    clone_clf = clone(sgd_clf)\n",
    "    X_train_folds = X_train[train_index]\n",
    "    y_train_folds = (y_train_5[train_index])\n",
    "    X_test_fold = X_train[test_index]\n",
    "    y_test_fold = (y_train_5[test_index])\n",
    "    clone_clf.fit(X_train_folds, y_train_folds)\n",
    "    y_pred = clone_clf.predict(X_test_fold)\n",
    "    n_correct = sum(y_pred == y_test_fold)\n",
    "    print(n_correct / len(y_pred)) # prints 0.9502, 0.96565 and 0.96495"
   ]
  },
  {
   "cell_type": "markdown",
   "metadata": {},
   "source": [
    "#### build-in cross-validation (ch2) `model_selection:cross_val_score(scoring=\"accuracy\")`"
   ]
  },
  {
   "cell_type": "code",
   "execution_count": 15,
   "metadata": {},
   "outputs": [
    {
     "data": {
      "text/plain": [
       "array([0.95695, 0.9641 , 0.9586 ])"
      ]
     },
     "execution_count": 15,
     "metadata": {},
     "output_type": "execute_result"
    }
   ],
   "source": [
    "from sklearn.model_selection import cross_val_score\n",
    "cross_val_score(sgd_clf, X_train, y_train_5, cv=3, scoring=\"accuracy\")"
   ]
  },
  {
   "cell_type": "markdown",
   "metadata": {},
   "source": [
    "this result seems to be promising. However, if we predict all number to not 5."
   ]
  },
  {
   "cell_type": "code",
   "execution_count": 16,
   "metadata": {},
   "outputs": [],
   "source": [
    "from sklearn.base import BaseEstimator\n",
    "class Never5Classifier(BaseEstimator): \n",
    "    def fit(self, X, y=None):\n",
    "        pass\n",
    "    def predict(self, X):\n",
    "        return np.zeros((len(X), 1), dtype=bool)"
   ]
  },
  {
   "cell_type": "code",
   "execution_count": 17,
   "metadata": {},
   "outputs": [
    {
     "data": {
      "text/plain": [
       "array([0.91145, 0.9106 , 0.9069 ])"
      ]
     },
     "execution_count": 17,
     "metadata": {},
     "output_type": "execute_result"
    }
   ],
   "source": [
    "never_5_clf = Never5Classifier()\n",
    "cross_val_score(never_5_clf, X_train, y_train_5, cv=3, scoring=\"accuracy\")"
   ]
  },
  {
   "cell_type": "markdown",
   "metadata": {},
   "source": [
    "<span class=\"burk\">This demonstrates why accuracy is generally not the preferred performance measure for classifiers.</span>"
   ]
  },
  {
   "cell_type": "markdown",
   "metadata": {},
   "source": [
    "### Confusion Matrix `model_selection:cross_val_predict; metrics.confusion_matrix`"
   ]
  },
  {
   "cell_type": "markdown",
   "metadata": {},
   "source": [
    "To compute the confusion matrix, you first need to have a set of predictions, so they can be compared to the actual targets. "
   ]
  },
  {
   "cell_type": "code",
   "execution_count": 18,
   "metadata": {},
   "outputs": [],
   "source": [
    "from sklearn.model_selection import cross_val_predict\n",
    "y_train_pred = cross_val_predict(sgd_clf, X_train, y_train_5, cv=3)"
   ]
  },
  {
   "cell_type": "code",
   "execution_count": 19,
   "metadata": {},
   "outputs": [
    {
     "data": {
      "text/plain": [
       "array([[53079,  1500],\n",
       "       [  907,  4514]])"
      ]
     },
     "execution_count": 19,
     "metadata": {},
     "output_type": "execute_result"
    }
   ],
   "source": [
    "from sklearn.metrics import confusion_matrix\n",
    "confusion_matrix(y_train_5, y_train_pred)"
   ]
  },
  {
   "cell_type": "markdown",
   "metadata": {},
   "source": [
    "#### Confusion matrix\n",
    "| TN \t| FP \t|\n",
    "|----\t|----\t|\n",
    "| FN \t| TP \t|"
   ]
  },
  {
   "cell_type": "markdown",
   "metadata": {},
   "source": [
    "####  Precision `metrics:precision_score`\n",
    "\n",
    "$precision=\\frac{TP}{TP+FP}$\n",
    "\n",
    "TP is the number of true positives, and FP is the number of false positives."
   ]
  },
  {
   "cell_type": "code",
   "execution_count": 20,
   "metadata": {},
   "outputs": [
    {
     "data": {
      "text/plain": [
       "0.7505819753907549"
      ]
     },
     "execution_count": 20,
     "metadata": {},
     "output_type": "execute_result"
    }
   ],
   "source": [
    "from sklearn.metrics import precision_score\n",
    "precision_score(y_train_5,y_train_pred)"
   ]
  },
  {
   "cell_type": "markdown",
   "metadata": {},
   "source": [
    "When it claims an image represents a 5, it is correct only 86% of the time."
   ]
  },
  {
   "cell_type": "markdown",
   "metadata": {},
   "source": [
    "#### Recall, sensitivity, true positive rate `metrics:recall_score`"
   ]
  },
  {
   "cell_type": "markdown",
   "metadata": {},
   "source": [
    "$recall=\\frac{TP}{TP+FN}$\n",
    "\n",
    "FN is the number of false negatives."
   ]
  },
  {
   "cell_type": "code",
   "execution_count": 21,
   "metadata": {},
   "outputs": [
    {
     "data": {
      "text/plain": [
       "0.8326876959970485"
      ]
     },
     "execution_count": 21,
     "metadata": {},
     "output_type": "execute_result"
    }
   ],
   "source": [
    "from sklearn.metrics import recall_score\n",
    "recall_score(y_train_5,y_train_pred)"
   ]
  },
  {
   "cell_type": "markdown",
   "metadata": {},
   "source": [
    "It can only detect 70% of the 5s."
   ]
  },
  {
   "cell_type": "markdown",
   "metadata": {},
   "source": [
    "####  $F_1$ score the harmonic mean of `precision` and `recall` - `metrics:f1_score`\n",
    "\n",
    "$F_1=\\frac{2}{\\frac{1}{precision}+\\frac{1}{recall}}$. \n",
    "\n",
    "The harmonic mean gives much more weight to low values. As a reuslt, the classifier will only get a high $F_1$ score if both recall and precision are high."
   ]
  },
  {
   "cell_type": "code",
   "execution_count": 22,
   "metadata": {},
   "outputs": [
    {
     "data": {
      "text/plain": [
       "0.7895059029296021"
      ]
     },
     "execution_count": 22,
     "metadata": {},
     "output_type": "execute_result"
    }
   ],
   "source": [
    "from sklearn.metrics import f1_score\n",
    "f1_score(y_train_5, y_train_pred)"
   ]
  },
  {
   "cell_type": "markdown",
   "metadata": {},
   "source": [
    "#### Precision/Recall Tradeoff `model_obj.decision_function(); metrics:precision_recall_curve`"
   ]
  },
  {
   "cell_type": "markdown",
   "metadata": {},
   "source": [
    "*  if you trained a classifier to detect videos that are safe for kids, you would probably prefer a classifier that rejects many good videos (low recall) but keeps only safe ones (high precision)\n",
    "* a classifier to detect shoplifters on surveillance images: it is probably fine if your classifier has only 30% precision as long as it has 99% recall (sure, the security guards will get a few false alerts, but almost all shoplifters will get caught)."
   ]
  },
  {
   "cell_type": "markdown",
   "metadata": {},
   "source": [
    "You can manually decide the threshold for categorization."
   ]
  },
  {
   "cell_type": "code",
   "execution_count": 23,
   "metadata": {},
   "outputs": [],
   "source": [
    "y_scores = sgd_clf.decision_function([some_digit])\n",
    "y_scores\n",
    "threshold = 0\n",
    "y_some_digit_pred = (y_scores > threshold)"
   ]
  },
  {
   "cell_type": "markdown",
   "metadata": {},
   "source": [
    "<div class=\"girk\">\n",
    "The SGDClassifier uses a threshold equal to 0.</div><i class=\"fa fa-lightbulb-o \"></i>"
   ]
  },
  {
   "cell_type": "code",
   "execution_count": 24,
   "metadata": {},
   "outputs": [],
   "source": [
    "y_scores = cross_val_predict(sgd_clf, X_train, y_train_5, cv=3,method=\"decision_function\")"
   ]
  },
  {
   "cell_type": "code",
   "execution_count": 25,
   "metadata": {},
   "outputs": [],
   "source": [
    "from sklearn.metrics import precision_recall_curve\n",
    "precisions, recalls, thresholds = precision_recall_curve(y_train_5, y_scores)"
   ]
  },
  {
   "cell_type": "code",
   "execution_count": 26,
   "metadata": {},
   "outputs": [
    {
     "data": {
      "image/png": "[encoded data removed]",
      "text/plain": [
       "<matplotlib.figure.Figure at 0x1a2db874a8>"
      ]
     },
     "metadata": {},
     "output_type": "display_data"
    }
   ],
   "source": [
    "def plot_precision_recall_vs_threshold(precisions, recalls, thresholds): \n",
    "    plt.plot(thresholds, precisions[:-1], \"b--\", label=\"Precision\") \n",
    "    plt.plot(thresholds, recalls[:-1], \"g-\", label=\"Recall\") \n",
    "    plt.xlabel(\"Threshold\")\n",
    "    plt.legend(loc=\"upper left\")\n",
    "    plt.ylim([0, 1])\n",
    "\n",
    "plot_precision_recall_vs_threshold(precisions, recalls, thresholds)\n",
    "plt.show()"
   ]
  },
  {
   "cell_type": "markdown",
   "metadata": {},
   "source": [
    "##### Another way is to plot precision w.r.t. recall "
   ]
  },
  {
   "cell_type": "markdown",
   "metadata": {},
   "source": [
    "### The ROC Curve `metrics:roc_curve`"
   ]
  },
  {
   "cell_type": "markdown",
   "metadata": {},
   "source": [
    "The *receiver operating characteristic* (ROC) curve is another common tool used with binary classifiers.\n",
    "\n",
    "the ROC curve plots the true positive rate (another name for recall) against the false positive rate.\n",
    "\n",
    "Hence the ROC curve plots sensitivity (recall) versus 1 – speci city."
   ]
  },
  {
   "cell_type": "markdown",
   "metadata": {},
   "source": [
    "####  specificity TNR\n",
    "true negative rate. the ratio of negative instsances that ar re correctly classified as negative."
   ]
  },
  {
   "cell_type": "code",
   "execution_count": 27,
   "metadata": {},
   "outputs": [],
   "source": [
    "from sklearn.metrics import roc_curve\n",
    "fpr, tpr, thresholds = roc_curve(y_train_5, y_scores)"
   ]
  },
  {
   "cell_type": "code",
   "execution_count": 28,
   "metadata": {},
   "outputs": [
    {
     "data": {
      "image/png": "[encoded data removed]",
      "text/plain": [
       "<matplotlib.figure.Figure at 0x1a2db87128>"
      ]
     },
     "metadata": {},
     "output_type": "display_data"
    }
   ],
   "source": [
    "def plot_roc_curve(fpr, tpr, label=None): \n",
    "    plt.plot(fpr, tpr, linewidth=2, label=label) \n",
    "    plt.plot([0, 1], [0, 1], 'k--') \n",
    "    plt.axis([0, 1, 0, 1])\n",
    "    plt.xlabel('False Positive Rate')\n",
    "    plt.ylabel('True Positive Rate')\n",
    "\n",
    "plot_roc_curve(fpr, tpr)\n",
    "plt.show()"
   ]
  },
  {
   "cell_type": "markdown",
   "metadata": {},
   "source": [
    "#### AUC area under the curve `metrics:roc_auc_score`\n",
    "\n",
    "A perfect classfier will have a ROC AUC = 1, whereas a purely random classifier will have a ROC AUC = 0.5\n"
   ]
  },
  {
   "cell_type": "code",
   "execution_count": 29,
   "metadata": {},
   "outputs": [
    {
     "data": {
      "text/plain": [
       "0.9637846923244459"
      ]
     },
     "execution_count": 29,
     "metadata": {},
     "output_type": "execute_result"
    }
   ],
   "source": [
    "from sklearn.metrics import roc_auc_score\n",
    "roc_auc_score(y_train_5, y_scores)"
   ]
  },
  {
   "cell_type": "markdown",
   "metadata": {},
   "source": [
    "Let’s train a *RandomForestClassifier* and compare its ROC curve and ROC AUC score to the SGDClassifier."
   ]
  },
  {
   "cell_type": "markdown",
   "metadata": {},
   "source": [
    "### Compare with RandomForestClassifier `ensemble:RandomForestClassifier`"
   ]
  },
  {
   "cell_type": "code",
   "execution_count": 30,
   "metadata": {},
   "outputs": [],
   "source": [
    "from sklearn.ensemble import RandomForestClassifier\n",
    "forest_clf = RandomForestClassifier(random_state=42)\n",
    "y_probas_forest = cross_val_predict(forest_clf, X_train, y_train_5, cv=3,method=\"predict_proba\")"
   ]
  },
  {
   "cell_type": "markdown",
   "metadata": {},
   "source": [
    "But to plot a ROC curve, you need scores, not probabilities. A simple solution is to\n",
    "use the positive class’s probability as the score:"
   ]
  },
  {
   "cell_type": "code",
   "execution_count": 31,
   "metadata": {},
   "outputs": [],
   "source": [
    "y_scores_forest = y_probas_forest[:, 1] # score = proba of positive class \n",
    "fpr_forest, tpr_forest, thresholds_forest = roc_curve(y_train_5,y_scores_forest)"
   ]
  },
  {
   "cell_type": "code",
   "execution_count": 32,
   "metadata": {},
   "outputs": [
    {
     "data": {
      "image/png": "[encoded data removed]",
      "text/plain": [
       "<matplotlib.figure.Figure at 0x1a1aacf438>"
      ]
     },
     "metadata": {},
     "output_type": "display_data"
    }
   ],
   "source": [
    "plt.plot(fpr, tpr, \"b:\", label=\"SGD\")\n",
    "plot_roc_curve(fpr_forest, tpr_forest, \"Random Forest\")\n",
    "plt.legend(loc=\"bottom right\")\n",
    "plt.show()"
   ]
  },
  {
   "cell_type": "markdown",
   "metadata": {},
   "source": [
    "the RandomForestClassifier’s ROC curve looks much better than the SGDClassifier’s: it comes much closer to the top-left corner. As a result, its ROC AUC score is also significantly better:"
   ]
  },
  {
   "cell_type": "code",
   "execution_count": 33,
   "metadata": {},
   "outputs": [
    {
     "data": {
      "text/plain": [
       "0.992414517958377"
      ]
     },
     "execution_count": 33,
     "metadata": {},
     "output_type": "execute_result"
    }
   ],
   "source": [
    "roc_auc_score(y_train_5, y_scores_forest)"
   ]
  },
  {
   "cell_type": "markdown",
   "metadata": {},
   "source": [
    "#  Multiclass Classification\n",
    "## From a Binary Classifier\n",
    "### One-vs-All\n",
    "For example, one way to create a system that can classify the digit images into 10 classes (from 0 to 9) is to train 10 binary classifiers, one for each digit (a 0-detector, a 1-detector, a 2-detector, and so on). Then when you want to classify an image, you get the decision score from each classifier for that image and you select the class whose classifier outputs the highest score."
   ]
  },
  {
   "cell_type": "markdown",
   "metadata": {},
   "source": [
    "###  One-vs-One"
   ]
  },
  {
   "cell_type": "markdown",
   "metadata": {},
   "source": [
    "train a binary classifier for every pair of digits: one to distin‐ guish 0s and 1s, another to distinguish 0s and 2s, another for 1s and 2s, and so on.\n",
    "\n",
    "* If you have N classes, you need to train $N\\times (N-1)/2$ classifiers.\n",
    "* The traing data for each classifier is smaller, since it is only a subset of the whole train set."
   ]
  },
  {
   "cell_type": "markdown",
   "metadata": {},
   "source": [
    "Some algorithms (such as Support Vector Machine classifiers) scale poorly with the size of the training set, so for these algorithms OvO is preferred since it is faster to train many classifiers on small training sets than training few classifiers on large training sets. For most binary classification algorithms, however, OvA is preferred."
   ]
  },
  {
   "cell_type": "markdown",
   "metadata": {},
   "source": [
    "<div class=\"girk\">\n",
    "Scikit-Learn will automatically detect when you try to use a binary classification algorithm for a multiclass classification task. (One-vs-All except svm which uses One-vs-One)</div><i class=\"fa fa-lightbulb-o \"></i>"
   ]
  },
  {
   "cell_type": "code",
   "execution_count": 34,
   "metadata": {},
   "outputs": [
    {
     "data": {
      "text/plain": [
       "array([5.])"
      ]
     },
     "execution_count": 34,
     "metadata": {},
     "output_type": "execute_result"
    }
   ],
   "source": [
    "sgd_clf.fit(X_train, y_train)\n",
    "sgd_clf.predict([some_digit])"
   ]
  },
  {
   "cell_type": "markdown",
   "metadata": {},
   "source": [
    "### see the output via `model_obj.decision_function()` "
   ]
  },
  {
   "cell_type": "code",
   "execution_count": 35,
   "metadata": {},
   "outputs": [
    {
     "data": {
      "text/plain": [
       "array([[  35189.87608839, -580067.23580585, -352374.41224733,\n",
       "         -63391.12686635, -339132.20824217,   67677.41427871,\n",
       "        -581352.26217319, -325355.22851493, -620466.12707007,\n",
       "        -651713.00599477]])"
      ]
     },
     "execution_count": 35,
     "metadata": {},
     "output_type": "execute_result"
    }
   ],
   "source": [
    "some_digit_scores = sgd_clf.decision_function([some_digit])\n",
    "some_digit_scores"
   ]
  },
  {
   "cell_type": "code",
   "execution_count": 36,
   "metadata": {},
   "outputs": [
    {
     "data": {
      "text/plain": [
       "5"
      ]
     },
     "execution_count": 36,
     "metadata": {},
     "output_type": "execute_result"
    }
   ],
   "source": [
    "np.argmax(some_digit_scores)"
   ]
  },
  {
   "cell_type": "code",
   "execution_count": 37,
   "metadata": {},
   "outputs": [
    {
     "data": {
      "text/plain": [
       "5.0"
      ]
     },
     "execution_count": 37,
     "metadata": {},
     "output_type": "execute_result"
    }
   ],
   "source": [
    "sgd_clf.classes_\n",
    "sgd_clf.classes_[5]"
   ]
  },
  {
   "cell_type": "markdown",
   "metadata": {},
   "source": [
    "### Force to use One-vs-One or ..`multiclass:OneVsOneClassifier`"
   ]
  },
  {
   "cell_type": "code",
   "execution_count": 38,
   "metadata": {},
   "outputs": [
    {
     "data": {
      "text/plain": [
       "array([3.])"
      ]
     },
     "execution_count": 38,
     "metadata": {},
     "output_type": "execute_result"
    }
   ],
   "source": [
    "from sklearn.multiclass import OneVsOneClassifier\n",
    "ovo_clf = OneVsOneClassifier(SGDClassifier(random_state=42))\n",
    "ovo_clf.fit(X_train, y_train)\n",
    "ovo_clf.predict([some_digit])"
   ]
  },
  {
   "cell_type": "code",
   "execution_count": 39,
   "metadata": {
    "scrolled": true
   },
   "outputs": [
    {
     "data": {
      "text/plain": [
       "45"
      ]
     },
     "execution_count": 39,
     "metadata": {},
     "output_type": "execute_result"
    }
   ],
   "source": [
    "len(ovo_clf.estimators_)"
   ]
  },
  {
   "cell_type": "markdown",
   "metadata": {},
   "source": [
    "##  Use a multiclass classifier `ensemble:RandomForestClassifier`"
   ]
  },
  {
   "cell_type": "markdown",
   "metadata": {},
   "source": [
    "Training a *RandomForestClassifier*"
   ]
  },
  {
   "cell_type": "code",
   "execution_count": 40,
   "metadata": {},
   "outputs": [
    {
     "data": {
      "text/plain": [
       "array([5.])"
      ]
     },
     "execution_count": 40,
     "metadata": {},
     "output_type": "execute_result"
    }
   ],
   "source": [
    "forest_clf.fit(X_train, y_train)\n",
    "forest_clf.predict([some_digit])"
   ]
  },
  {
   "cell_type": "markdown",
   "metadata": {},
   "source": [
    "This time Scikit-Learn did not have to run OvA or OvO because Random Forest classifiers can directly classify instances into multiple classes."
   ]
  },
  {
   "cell_type": "markdown",
   "metadata": {},
   "source": [
    "###  Use `model_obj.predict_proba()` to get the detail"
   ]
  },
  {
   "cell_type": "code",
   "execution_count": 41,
   "metadata": {},
   "outputs": [
    {
     "data": {
      "text/plain": [
       "array([[0. , 0. , 0. , 0.2, 0. , 0.6, 0.1, 0. , 0.1, 0. ]])"
      ]
     },
     "execution_count": 41,
     "metadata": {},
     "output_type": "execute_result"
    }
   ],
   "source": [
    "forest_clf.predict_proba([some_digit])"
   ]
  },
  {
   "cell_type": "markdown",
   "metadata": {},
   "source": [
    "## Evaluation"
   ]
  },
  {
   "cell_type": "markdown",
   "metadata": {},
   "source": [
    "### Evaluate the SGDClassifier"
   ]
  },
  {
   "cell_type": "code",
   "execution_count": 42,
   "metadata": {},
   "outputs": [
    {
     "data": {
      "text/plain": [
       "array([0.85292941, 0.80124006, 0.85437816])"
      ]
     },
     "execution_count": 42,
     "metadata": {},
     "output_type": "execute_result"
    }
   ],
   "source": [
    "cross_val_score(sgd_clf, X_train, y_train, cv=3, scoring=\"accuracy\")"
   ]
  },
  {
   "cell_type": "markdown",
   "metadata": {},
   "source": [
    "### After input scaling `preprocessing:StandardScaler`"
   ]
  },
  {
   "cell_type": "code",
   "execution_count": 43,
   "metadata": {},
   "outputs": [
    {
     "data": {
      "text/plain": [
       "array([0.90831834, 0.90959548, 0.90913637])"
      ]
     },
     "execution_count": 43,
     "metadata": {},
     "output_type": "execute_result"
    }
   ],
   "source": [
    "from sklearn.preprocessing import StandardScaler\n",
    "scaler = StandardScaler()\n",
    "X_train_scaled = scaler.fit_transform(X_train.astype(np.float64))\n",
    "cross_val_score(sgd_clf, X_train_scaled, y_train, cv=3, scoring=\"accuracy\")"
   ]
  },
  {
   "cell_type": "markdown",
   "metadata": {},
   "source": [
    "The result is improved!"
   ]
  },
  {
   "cell_type": "markdown",
   "metadata": {},
   "source": [
    "## Error Analysis "
   ]
  },
  {
   "cell_type": "markdown",
   "metadata": {},
   "source": [
    "Here, we will assume that you have found a promising model and you want to find ways to improve it."
   ]
  },
  {
   "cell_type": "markdown",
   "metadata": {},
   "source": [
    "###  Confusion matrix `plt.matshow(conf_mx,cmap=plt.cm.gray)`"
   ]
  },
  {
   "cell_type": "code",
   "execution_count": 44,
   "metadata": {},
   "outputs": [
    {
     "data": {
      "text/plain": [
       "array([[5733,    3,   25,    8,   11,   42,   49,    7,   41,    4],\n",
       "       [   2, 6454,   46,   28,    6,   46,    6,   15,  128,   11],\n",
       "       [  59,   37, 5335,   97,   80,   22,   94,   67,  150,   17],\n",
       "       [  47,   37,  139, 5331,    1,  243,   37,   59,  141,   96],\n",
       "       [  21,   23,   37,    8, 5378,    9,   51,   26,   88,  201],\n",
       "       [  68,   37,   33,  186,   76, 4607,  110,   36,  184,   84],\n",
       "       [  36,   20,   46,    2,   55,   87, 5615,    7,   50,    0],\n",
       "       [  23,   19,   65,   33,   55,   10,    4, 5800,   15,  241],\n",
       "       [  55,  146,   75,  159,   11,  153,   57,   28, 5026,  141],\n",
       "       [  44,   26,   21,   91,  158,   40,    2,  222,   83, 5262]])"
      ]
     },
     "execution_count": 44,
     "metadata": {},
     "output_type": "execute_result"
    }
   ],
   "source": [
    "y_train_pred = cross_val_predict(sgd_clf, X_train_scaled, y_train, cv=3)\n",
    "conf_mx = confusion_matrix(y_train, y_train_pred)\n",
    "conf_mx"
   ]
  },
  {
   "cell_type": "code",
   "execution_count": 45,
   "metadata": {},
   "outputs": [
    {
     "data": {
      "image/png": "[encoded data removed]",
      "text/plain": [
       "<matplotlib.figure.Figure at 0x1a23516b00>"
      ]
     },
     "metadata": {},
     "output_type": "display_data"
    }
   ],
   "source": [
    "plt.matshow(conf_mx, cmap=plt.cm.gray)\n",
    "plt.show()"
   ]
  },
  {
   "cell_type": "markdown",
   "metadata": {},
   "source": [
    "The 5s look slightly darker than the other digits, which could mean that there are fewer images of 5s in the dataset or that the classifier does not perform as well on 5s as on other digits."
   ]
  },
  {
   "cell_type": "markdown",
   "metadata": {},
   "source": [
    "#### Normalize the confusion matrix"
   ]
  },
  {
   "cell_type": "code",
   "execution_count": 46,
   "metadata": {},
   "outputs": [],
   "source": [
    "row_sums = conf_mx.sum(axis=1, keepdims=True)\n",
    "norm_conf_mx = conf_mx / row_sums"
   ]
  },
  {
   "cell_type": "code",
   "execution_count": 47,
   "metadata": {},
   "outputs": [
    {
     "data": {
      "image/png": "[encoded data removed]",
      "text/plain": [
       "<matplotlib.figure.Figure at 0x1a235162b0>"
      ]
     },
     "metadata": {},
     "output_type": "display_data"
    }
   ],
   "source": [
    "np.fill_diagonal(norm_conf_mx, 0)\n",
    "plt.matshow(norm_conf_mx, cmap=plt.cm.gray)\n",
    "plt.show()"
   ]
  },
  {
   "cell_type": "markdown",
   "metadata": {},
   "source": [
    " it seems that your efforts should be spent on improving classification of 8s and 9s, "
   ]
  },
  {
   "cell_type": "markdown",
   "metadata": {},
   "source": [
    "###  Analyzing individual errors "
   ]
  },
  {
   "cell_type": "markdown",
   "metadata": {},
   "source": [
    "it is more difficult and time-consuming."
   ]
  },
  {
   "cell_type": "markdown",
   "metadata": {},
   "source": [
    "#  Multilabel Classification"
   ]
  },
  {
   "cell_type": "markdown",
   "metadata": {},
   "source": [
    "output multiple classes for each instance.\n",
    "\n",
    " but let’s look at a simpler example, just for illustration purposes:"
   ]
  },
  {
   "cell_type": "markdown",
   "metadata": {},
   "source": [
    "creates a `y_multilabel` array containing two target labels for each digit image: \n",
    "1. the first indicates whether or not the digit is large (7, 8, or 9) \n",
    "2. the second indicates whether or not it is odd."
   ]
  },
  {
   "cell_type": "code",
   "execution_count": 48,
   "metadata": {},
   "outputs": [],
   "source": [
    "y_train_large = (y_train >= 7)\n",
    "y_train_odd = (y_train % 2 == 1)\n",
    "y_multilabel = np.c_[y_train_large, y_train_odd]"
   ]
  },
  {
   "cell_type": "markdown",
   "metadata": {},
   "source": [
    "## A Multilabel Classifier - `neighbors:KNeighborsClassifier`"
   ]
  },
  {
   "cell_type": "code",
   "execution_count": 49,
   "metadata": {},
   "outputs": [
    {
     "data": {
      "text/plain": [
       "KNeighborsClassifier(algorithm='auto', leaf_size=30, metric='minkowski',\n",
       "           metric_params=None, n_jobs=1, n_neighbors=5, p=2,\n",
       "           weights='uniform')"
      ]
     },
     "execution_count": 49,
     "metadata": {},
     "output_type": "execute_result"
    }
   ],
   "source": [
    "from sklearn.neighbors import KNeighborsClassifier\n",
    "knn_clf = KNeighborsClassifier()\n",
    "knn_clf.fit(X_train, y_multilabel)"
   ]
  },
  {
   "cell_type": "markdown",
   "metadata": {},
   "source": [
    "now, let's predict 5."
   ]
  },
  {
   "cell_type": "code",
   "execution_count": 50,
   "metadata": {},
   "outputs": [
    {
     "data": {
      "text/plain": [
       "array([[False,  True]])"
      ]
     },
     "execution_count": 50,
     "metadata": {},
     "output_type": "execute_result"
    }
   ],
   "source": [
    "knn_clf.predict([some_digit])"
   ]
  },
  {
   "cell_type": "markdown",
   "metadata": {},
   "source": [
    "And it gets it right! The digit 5 is indeed not large (False) and odd (True)."
   ]
  },
  {
   "cell_type": "markdown",
   "metadata": {},
   "source": [
    "##  Evaluation - set weight via `average=\"weighted\"`\n"
   ]
  },
  {
   "cell_type": "code",
   "execution_count": 51,
   "metadata": {},
   "outputs": [],
   "source": [
    "# time consuming\n",
    "#y_train_knn_pred = cross_val_predict(knn_clf, X_train, y_train, cv=3)\n",
    "#f1_score(y_train, y_train_knn_pred, average=\"macro\")"
   ]
  },
  {
   "cell_type": "markdown",
   "metadata": {},
   "source": [
    "# Multioutput Classification"
   ]
  },
  {
   "cell_type": "markdown",
   "metadata": {},
   "source": [
    "It is simply a generaliza‐ tion of multilabel classification where each label can be multiclass (i.e., it can have more than two possible values)."
   ]
  },
  {
   "cell_type": "markdown",
   "metadata": {},
   "source": [
    "To illustrate this, let’s build a system that removes noise from images.\n",
    "\n",
    "It will take as input a noisy digit image, and it will (hopefully) output a clean digit image, represented as an array of pixel intensities, just like the MNIST images. Notice that the classifier’s output is multilabel (one label per pixel) and each label can have multiple values (pixel intensity ranges from 0 to 255)."
   ]
  },
  {
   "cell_type": "markdown",
   "metadata": {},
   "source": [
    "first create noise"
   ]
  },
  {
   "cell_type": "code",
   "execution_count": 65,
   "metadata": {},
   "outputs": [
    {
     "data": {
      "image/png": "[encoded data removed]",
      "text/plain": [
       "<matplotlib.figure.Figure at 0x1a17807f28>"
      ]
     },
     "metadata": {},
     "output_type": "display_data"
    },
    {
     "data": {
      "image/png": "[encoded data removed]",
      "text/plain": [
       "<matplotlib.figure.Figure at 0x1a1955ee10>"
      ]
     },
     "metadata": {},
     "output_type": "display_data"
    }
   ],
   "source": [
    "import numpy.random as rnd\n",
    "noise = rnd.randint(0, 100, (len(X_train), 784))\n",
    "noise_test = rnd.randint(0, 100, (len(X_test), 784))\n",
    "X_train_mod = X_train + noise\n",
    "X_test_mod = X_test + noise_test\n",
    "y_train_mod = X_train\n",
    "y_test_mod = X_test\n",
    "some_digit_mod = X_train_mod[36000]\n",
    "plot_digit(some_digit_mod)\n",
    "\n",
    "some_digit = X_train[36000]\n",
    "plot_digit(some_digit)\n"
   ]
  },
  {
   "cell_type": "code",
   "execution_count": 69,
   "metadata": {},
   "outputs": [
    {
     "data": {
      "image/png": "[encoded data removed]",
      "text/plain": [
       "<matplotlib.figure.Figure at 0x1a1767b940>"
      ]
     },
     "metadata": {},
     "output_type": "display_data"
    },
    {
     "data": {
      "image/png": "[encoded data removed]",
      "text/plain": [
       "<matplotlib.figure.Figure at 0x1a1a9577f0>"
      ]
     },
     "metadata": {},
     "output_type": "display_data"
    },
    {
     "data": {
      "image/png": "[encoded data removed]",
      "text/plain": [
       "<matplotlib.figure.Figure at 0x1a1a957eb8>"
      ]
     },
     "metadata": {},
     "output_type": "display_data"
    }
   ],
   "source": [
    "knn_clf.fit(X_train_mod, y_train_mod)\n",
    "clean_digit = knn_clf.predict([X_test_mod[1000]])\n",
    "def plot_digit(digit):\n",
    "    digit = digit.reshape(28, 28)  \n",
    "    plt.imshow(digit, cmap = matplotlib.cm.binary, interpolation=\"nearest\")\n",
    "    plt.axis(\"off\")\n",
    "    plt.show()\n",
    "plot_digit(clean_digit)\n",
    "plot_digit(X_test[1000])\n",
    "plot_digit(X_test_mod[1000])"
   ]
  }
 ],
 "metadata": {
  "kernelspec": {
   "display_name": "Python [conda env:nb]",
   "language": "python",
   "name": "conda-env-nb-py"
  },
  "language_info": {
   "codemirror_mode": {
    "name": "ipython",
    "version": 3
   },
   "file_extension": ".py",
   "mimetype": "text/x-python",
   "name": "python",
   "nbconvert_exporter": "python",
   "pygments_lexer": "ipython3",
   "version": "3.6.4"
  },
  "toc": {
   "nav_menu": {},
   "number_sections": true,
   "sideBar": true,
   "skip_h1_title": false,
   "title_cell": "Table of Contents",
   "title_sidebar": "Contents",
   "toc_cell": true,
   "toc_position": {
    "height": "calc(100% - 180px)",
    "left": "10px",
    "top": "150px",
    "width": "288px"
   },
   "toc_section_display": true,
   "toc_window_display": false
  }
 },
 "nbformat": 4,
 "nbformat_minor": 2
}
