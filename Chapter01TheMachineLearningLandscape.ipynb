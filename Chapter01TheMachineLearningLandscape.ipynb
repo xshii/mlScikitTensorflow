{
 "cells": [
  {
   "cell_type": "markdown",
   "metadata": {},
   "source": [
    "# Basic Concepts "
   ]
  },
  {
   "cell_type": "markdown",
   "metadata": {},
   "source": [
    "*A computer program is said to learn from experience E with respect to some task T and some performance measure P, if its performance on T, as measured by P, improves with experience E.\n",
    "—Tom Mitchell, 1997*"
   ]
  },
  {
   "cell_type": "markdown",
   "metadata": {},
   "source": [
    "## What is Machine Learning Great For"
   ]
  },
  {
   "cell_type": "markdown",
   "metadata": {},
   "source": [
    "* Existing solutions require a lot of hand-tuning or long lists of rules\n",
    "* There is no good solution at all using a traditional approach\n",
    "* Fluctuating environments\n",
    "* Getting insights about complex problems and large amounts of dat"
   ]
  },
  {
   "cell_type": "markdown",
   "metadata": {},
   "source": [
    "## Type of Machine Learning "
   ]
  },
  {
   "cell_type": "markdown",
   "metadata": {},
   "source": [
    "* trained with human supervision?\n",
    "    * YES, supervised learning\n",
    "    * No, unsupervised learning\n",
    "    * Yes&No, semisupervised learning\n",
    "    * Yes/No, reinforcement learning\n",
    "*  learn incrementally on the fly\n",
    "    * Yes, online learning\n",
    "    * No, batch learning\n",
    "*  comparing new data points to known data points, or instead detect patterns in the training data and build a predictive model?\n",
    "    * First, instance-based learning\n",
    "    * Second, model-based learning\n",
    "\n",
    "| Supervised                        \t| Unsupervised                                        \t|\n",
    "|-----------------------------------\t|-----------------------------------------------------\t|\n",
    "| k-Nearest Neighbors               \t| k-Means                                             \t|\n",
    "| Linear Regression                 \t| Hierarchical Cluster Analysis (HCA)                 \t|\n",
    "| Logistic Regression               \t| Expectation Maximization                            \t|\n",
    "| Support Vector Machines (SVMs)    \t| Principal Component Analysis (PCA)                  \t|\n",
    "| Decision Trees and Random Forests \t| Kernel PCA                                          \t|\n",
    "| Neural networks                   \t| Locally-Linear Embedding (LLE)                      \t|\n",
    "|                                   \t| t-distributed Stochastic Neighbor Embedding (t-SNE) \t|\n",
    "|                                   \t| Apriori                                             \t|\n",
    "|                                   \t| Eclat                                               \t|"
   ]
  },
  {
   "cell_type": "markdown",
   "metadata": {},
   "source": [
    "# Main Challenge\n"
   ]
  },
  {
   "cell_type": "markdown",
   "metadata": {},
   "source": [
    "* Insufficient Quantity of Training Data\n",
    "* Nonrepresentative Training Data\n",
    "* Poor-Quality Data\n",
    "* Irrelevant Features: need feature engineering\n",
    "    * feature selection\n",
    "    * feature extraction\n",
    "* Overfitting the Training Data: \n",
    "    * simplify the model\n",
    "    * regularization\n",
    "* Underfitting the Training Data\n",
    "    * Selecting a more powerful model, with more parameters\n",
    "    * Feeding better features to the learning algorithm (feature engineering)\n",
    "    * Reducing the constraints on the model (e.g., reducing the regularization hyper‐ parameter)\n"
   ]
  },
  {
   "cell_type": "markdown",
   "metadata": {},
   "source": [
    "# Testing and Validating"
   ]
  },
  {
   "cell_type": "markdown",
   "metadata": {},
   "source": [
    "* **Generalization Error**: The error rate on new cases\n",
    "* **cross-validation**: the training set is split into complementary subsets, and each model is trained against a different combination of these subsets and validated against the remaining parts.\n",
    "* **No Free Lunch Theorem**: if you make absolutely no assumption about the data, then there is no reason to prefer one model over any other. "
   ]
  }
 ],
 "metadata": {
  "kernelspec": {
   "display_name": "Python 3",
   "language": "python",
   "name": "python3"
  },
  "language_info": {
   "codemirror_mode": {
    "name": "ipython",
    "version": 3
   },
   "file_extension": ".py",
   "mimetype": "text/x-python",
   "name": "python",
   "nbconvert_exporter": "python",
   "pygments_lexer": "ipython3",
   "version": "3.7.0"
  },
  "toc": {
   "base_numbering": 1,
   "nav_menu": {
    "height": "144px",
    "width": "337px"
   },
   "number_sections": true,
   "sideBar": true,
   "skip_h1_title": false,
   "title_cell": "Table of Contents",
   "title_sidebar": "Contents",
   "toc_cell": false,
   "toc_position": {
    "height": "calc(100% - 180px)",
    "left": "10px",
    "top": "150px",
    "width": "288px"
   },
   "toc_section_display": true,
   "toc_window_display": false
  }
 },
 "nbformat": 4,
 "nbformat_minor": 2
}
