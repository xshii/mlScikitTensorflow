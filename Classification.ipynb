{
 "cells": [
  {
   "cell_type": "markdown",
   "metadata": {
    "collapsed": true
   },
   "source": [
    "# Classification - Chapter3"
   ]
  },
  {
   "cell_type": "code",
   "execution_count": 3,
   "metadata": {
    "ExecuteTime": {
     "end_time": "2017-11-22T15:49:15.566953Z",
     "start_time": "2017-11-22T15:49:15.239721Z"
    }
   },
   "outputs": [],
   "source": [
    "def warn(*args, **kwargs):\n",
    "    pass\n",
    "import warnings\n",
    "warnings.warn = warn\n",
    "%matplotlib inline\n",
    "import matplotlib\n",
    "import matplotlib.pyplot as plt\n",
    "import numpy as np"
   ]
  },
  {
   "cell_type": "markdown",
   "metadata": {
    "toc": true
   },
   "source": [
    "<h1>Table of Contents<span class=\"tocSkip\"></span></h1>\n",
    "<div class=\"toc\"><ul class=\"toc-item\"><li><span><a href=\"#dataset-explore---MNIST\" data-toc-modified-id=\"dataset-explore---MNIST-1\"><span class=\"toc-item-num\">1&nbsp;&nbsp;</span>dataset explore - MNIST</a></span><ul class=\"toc-item\"><li><span><a href=\"#import-data-set\" data-toc-modified-id=\"import-data-set-1.1\"><span class=\"toc-item-num\">1.1&nbsp;&nbsp;</span>import data set</a></span></li><li><span><a href=\"#data-set-decription\" data-toc-modified-id=\"data-set-decription-1.2\"><span class=\"toc-item-num\">1.2&nbsp;&nbsp;</span>data set decription</a></span></li><li><span><a href=\"#typical-train-test-splitting\" data-toc-modified-id=\"typical-train-test-splitting-1.3\"><span class=\"toc-item-num\">1.3&nbsp;&nbsp;</span>typical train test splitting</a></span></li></ul></li><li><span><a href=\"#model-selection\" data-toc-modified-id=\"model-selection-2\"><span class=\"toc-item-num\">2&nbsp;&nbsp;</span>model selection</a></span><ul class=\"toc-item\"><li><span><a href=\"#start-from-a-binary-classifier\" data-toc-modified-id=\"start-from-a-binary-classifier-2.1\"><span class=\"toc-item-num\">2.1&nbsp;&nbsp;</span>start from a binary classifier</a></span></li><li><span><a href=\"#Stochastic-Gradient-Descent---linear_modl-SGDClassifier\" data-toc-modified-id=\"Stochastic-Gradient-Descent---linear_modl-SGDClassifier-2.2\"><span class=\"toc-item-num\">2.2&nbsp;&nbsp;</span>Stochastic Gradient Descent - <code>linear_modl SGDClassifier</code></a></span></li><li><span><a href=\"#model-evaluation-method\" data-toc-modified-id=\"model-evaluation-method-2.3\"><span class=\"toc-item-num\">2.3&nbsp;&nbsp;</span>model evaluation method</a></span><ul class=\"toc-item\"><li><span><a href=\"#Cross-Validation-of-online-model---base:clone,-model_selection:cross_val_score\" data-toc-modified-id=\"Cross-Validation-of-online-model---base:clone,-model_selection:cross_val_score-2.3.1\"><span class=\"toc-item-num\">2.3.1&nbsp;&nbsp;</span>Cross-Validation of online model - <code>base:clone, model_selection:cross_val_score</code></a></span></li><li><span><a href=\"#Impact-of-skewed-datasets---model_selection:StratifiedKFold\" data-toc-modified-id=\"Impact-of-skewed-datasets---model_selection:StratifiedKFold-2.3.2\"><span class=\"toc-item-num\">2.3.2&nbsp;&nbsp;</span>Impact of skewed datasets - <code>model_selection:StratifiedKFold</code></a></span></li><li><span><a href=\"#Confusion-Matrix---metrics:confusion_matrix,-model_selection:cross_val_predict\" data-toc-modified-id=\"Confusion-Matrix---metrics:confusion_matrix,-model_selection:cross_val_predict-2.3.3\"><span class=\"toc-item-num\">2.3.3&nbsp;&nbsp;</span>Confusion Matrix - <code>metrics:confusion_matrix, model_selection:cross_val_predict</code></a></span></li><li><span><a href=\"#Precision-and-Recall---metrics:precision_score,-recall_score\" data-toc-modified-id=\"Precision-and-Recall---metrics:precision_score,-recall_score-2.3.4\"><span class=\"toc-item-num\">2.3.4&nbsp;&nbsp;</span>Precision and Recall - <code>metrics:precision_score, recall_score</code></a></span></li><li><span><a href=\"#$F_1$-score---metrics:f1_score\" data-toc-modified-id=\"$F_1$-score---metrics:f1_score-2.3.5\"><span class=\"toc-item-num\">2.3.5&nbsp;&nbsp;</span>$F_1$ score - <code>metrics:f1_score</code></a></span></li><li><span><a href=\"#precision/recall-trade-off---metrics:precision_recall_curve\" data-toc-modified-id=\"precision/recall-trade-off---metrics:precision_recall_curve-2.3.6\"><span class=\"toc-item-num\">2.3.6&nbsp;&nbsp;</span>precision/recall trade-off - <code>metrics:precision_recall_curve</code></a></span></li><li><span><a href=\"#ROC-Curve---metrics:roc_curve\" data-toc-modified-id=\"ROC-Curve---metrics:roc_curve-2.3.7\"><span class=\"toc-item-num\">2.3.7&nbsp;&nbsp;</span>ROC Curve - <code>metrics:roc_curve</code></a></span><ul class=\"toc-item\"><li><span><a href=\"#ROC-vs-PR\" data-toc-modified-id=\"ROC-vs-PR-2.3.7.1\"><span class=\"toc-item-num\">2.3.7.1&nbsp;&nbsp;</span>ROC vs PR</a></span></li></ul></li><li><span><a href=\"#AUC---metrics:roc_auc_score\" data-toc-modified-id=\"AUC---metrics:roc_auc_score-2.3.8\"><span class=\"toc-item-num\">2.3.8&nbsp;&nbsp;</span>AUC - <code>metrics:roc_auc_score</code></a></span></li></ul></li><li><span><a href=\"#RandomForestClassifier---ensamble\" data-toc-modified-id=\"RandomForestClassifier---ensamble-2.4\"><span class=\"toc-item-num\">2.4&nbsp;&nbsp;</span>RandomForestClassifier - <code>ensamble</code></a></span></li></ul></li><li><span><a href=\"#Multiclass-Classification\" data-toc-modified-id=\"Multiclass-Classification-3\"><span class=\"toc-item-num\">3&nbsp;&nbsp;</span>Multiclass Classification</a></span><ul class=\"toc-item\"><li><span><a href=\"#try-SGDClassifier-again\" data-toc-modified-id=\"try-SGDClassifier-again-3.1\"><span class=\"toc-item-num\">3.1&nbsp;&nbsp;</span>try SGDClassifier again</a></span></li><li><span><a href=\"#OneVsOneClassifer---multiclass:OneVsOneClassifier\" data-toc-modified-id=\"OneVsOneClassifer---multiclass:OneVsOneClassifier-3.2\"><span class=\"toc-item-num\">3.2&nbsp;&nbsp;</span>OneVsOneClassifer - <code>multiclass:OneVsOneClassifier</code></a></span></li><li><span><a href=\"#inherently-multiclass-classifier---predict_proba()\" data-toc-modified-id=\"inherently-multiclass-classifier---predict_proba()-3.3\"><span class=\"toc-item-num\">3.3&nbsp;&nbsp;</span>inherently multiclass classifier - <code>predict_proba()</code></a></span><ul class=\"toc-item\"><li><span><a href=\"#RandomForestClassifier-in-2.4\" data-toc-modified-id=\"RandomForestClassifier-in-2.4-3.3.1\"><span class=\"toc-item-num\">3.3.1&nbsp;&nbsp;</span>RandomForestClassifier in 2.4</a></span></li></ul></li><li><span><a href=\"#Error-Analysis\" data-toc-modified-id=\"Error-Analysis-3.4\"><span class=\"toc-item-num\">3.4&nbsp;&nbsp;</span>Error Analysis</a></span><ul class=\"toc-item\"><li><span><a href=\"#cross_val_predict()---&gt;-confusion_matrix()\" data-toc-modified-id=\"cross_val_predict()--->-confusion_matrix()-3.4.1\"><span class=\"toc-item-num\">3.4.1&nbsp;&nbsp;</span><code>cross_val_predict()</code> --&gt; <code>confusion_matrix()</code></a></span></li></ul></li></ul></li><li><span><a href=\"#Multilabel-Classification\" data-toc-modified-id=\"Multilabel-Classification-4\"><span class=\"toc-item-num\">4&nbsp;&nbsp;</span>Multilabel Classification</a></span><ul class=\"toc-item\"><li><span><a href=\"#KNeighborsClassifier---neighbors:KNeighborsClassifier\" data-toc-modified-id=\"KNeighborsClassifier---neighbors:KNeighborsClassifier-4.1\"><span class=\"toc-item-num\">4.1&nbsp;&nbsp;</span>KNeighborsClassifier - <code>neighbors:KNeighborsClassifier</code></a></span></li><li><span><a href=\"#Evaluation-of-multilabel-classification\" data-toc-modified-id=\"Evaluation-of-multilabel-classification-4.2\"><span class=\"toc-item-num\">4.2&nbsp;&nbsp;</span>Evaluation of multilabel classification</a></span><ul class=\"toc-item\"><li><span><a href=\"#f1_score\" data-toc-modified-id=\"f1_score-4.2.1\"><span class=\"toc-item-num\">4.2.1&nbsp;&nbsp;</span>f1_score</a></span></li></ul></li></ul></li><li><span><a href=\"#Multioutput-Classification\" data-toc-modified-id=\"Multioutput-Classification-5\"><span class=\"toc-item-num\">5&nbsp;&nbsp;</span>Multioutput Classification</a></span></li></ul></div>"
   ]
  },
  {
   "cell_type": "markdown",
   "metadata": {},
   "source": [
    "## dataset explore - MNIST "
   ]
  },
  {
   "cell_type": "markdown",
   "metadata": {},
   "source": [
    "### import data set"
   ]
  },
  {
   "cell_type": "code",
   "execution_count": 4,
   "metadata": {
    "ExecuteTime": {
     "end_time": "2017-11-22T15:49:16.578999Z",
     "start_time": "2017-11-22T15:49:16.142674Z"
    }
   },
   "outputs": [],
   "source": [
    "from sklearn.datasets import fetch_mldata\n",
    "mnist = fetch_mldata('MNIST original')"
   ]
  },
  {
   "cell_type": "markdown",
   "metadata": {},
   "source": [
    "### data set decription"
   ]
  },
  {
   "cell_type": "code",
   "execution_count": 5,
   "metadata": {
    "ExecuteTime": {
     "end_time": "2017-11-22T15:49:16.589992Z",
     "start_time": "2017-11-22T15:49:16.582989Z"
    },
    "scrolled": false
   },
   "outputs": [
    {
     "data": {
      "text/plain": [
       "{'COL_NAMES': ['label', 'data'],\n",
       " 'DESCR': 'mldata.org dataset: mnist-original',\n",
       " 'data': array([[0, 0, 0, ..., 0, 0, 0],\n",
       "        [0, 0, 0, ..., 0, 0, 0],\n",
       "        [0, 0, 0, ..., 0, 0, 0],\n",
       "        ..., \n",
       "        [0, 0, 0, ..., 0, 0, 0],\n",
       "        [0, 0, 0, ..., 0, 0, 0],\n",
       "        [0, 0, 0, ..., 0, 0, 0]], dtype=uint8),\n",
       " 'target': array([ 0.,  0.,  0., ...,  9.,  9.,  9.])}"
      ]
     },
     "execution_count": 5,
     "metadata": {},
     "output_type": "execute_result"
    }
   ],
   "source": [
    "mnist"
   ]
  },
  {
   "cell_type": "markdown",
   "metadata": {},
   "source": [
    "* `DESCR` describe of the data set\n",
    "* `data` row<=> instance, col<=>feature\n",
    "* `target` array with the labels"
   ]
  },
  {
   "cell_type": "code",
   "execution_count": 6,
   "metadata": {
    "ExecuteTime": {
     "end_time": "2017-11-22T15:49:16.867274Z",
     "start_time": "2017-11-22T15:49:16.863272Z"
    }
   },
   "outputs": [],
   "source": [
    "X, y = mnist[\"data\"], mnist[\"target\"]"
   ]
  },
  {
   "cell_type": "code",
   "execution_count": 7,
   "metadata": {
    "ExecuteTime": {
     "end_time": "2017-11-22T15:49:17.060604Z",
     "start_time": "2017-11-22T15:49:17.055600Z"
    }
   },
   "outputs": [
    {
     "data": {
      "text/plain": [
       "(70000, 784)"
      ]
     },
     "execution_count": 7,
     "metadata": {},
     "output_type": "execute_result"
    }
   ],
   "source": [
    "X.shape"
   ]
  },
  {
   "cell_type": "code",
   "execution_count": 8,
   "metadata": {
    "ExecuteTime": {
     "end_time": "2017-11-22T15:49:17.251966Z",
     "start_time": "2017-11-22T15:49:17.246965Z"
    }
   },
   "outputs": [
    {
     "data": {
      "text/plain": [
       "(70000,)"
      ]
     },
     "execution_count": 8,
     "metadata": {},
     "output_type": "execute_result"
    }
   ],
   "source": [
    "y.shape"
   ]
  },
  {
   "cell_type": "markdown",
   "metadata": {},
   "source": [
    "i.e. there are 70000 images and each has 784 features"
   ]
  },
  {
   "cell_type": "code",
   "execution_count": 9,
   "metadata": {
    "ExecuteTime": {
     "end_time": "2017-11-22T15:49:17.624230Z",
     "start_time": "2017-11-22T15:49:17.616225Z"
    }
   },
   "outputs": [],
   "source": [
    "%matplotlib inline\n",
    "import matplotlib\n",
    "import matplotlib.pyplot as plt"
   ]
  },
  {
   "cell_type": "code",
   "execution_count": 10,
   "metadata": {
    "ExecuteTime": {
     "end_time": "2017-11-22T15:49:17.933467Z",
     "start_time": "2017-11-22T15:49:17.809382Z"
    }
   },
   "outputs": [
    {
     "data": {
      "image/png": "[encoded data removed]",
      "text/plain": [
       "<matplotlib.figure.Figure at 0x1a81c5bd358>"
      ]
     },
     "metadata": {},
     "output_type": "display_data"
    }
   ],
   "source": [
    "some_digit = X[36000]\n",
    "some_digit_image = some_digit.reshape(28, 28)\n",
    "plt.imshow(\n",
    "    some_digit_image, cmap=matplotlib.cm.binary, interpolation=\"nearest\")\n",
    "plt.axis(\"off\")\n",
    "plt.show()"
   ]
  },
  {
   "cell_type": "code",
   "execution_count": 11,
   "metadata": {
    "ExecuteTime": {
     "end_time": "2017-11-22T15:49:20.499531Z",
     "start_time": "2017-11-22T15:49:20.494530Z"
    }
   },
   "outputs": [
    {
     "data": {
      "text/plain": [
       "5.0"
      ]
     },
     "execution_count": 11,
     "metadata": {},
     "output_type": "execute_result"
    }
   ],
   "source": [
    "y[36000]"
   ]
  },
  {
   "cell_type": "markdown",
   "metadata": {},
   "source": [
    "### typical train test splitting "
   ]
  },
  {
   "cell_type": "code",
   "execution_count": 12,
   "metadata": {
    "ExecuteTime": {
     "end_time": "2017-11-22T15:49:21.578841Z",
     "start_time": "2017-11-22T15:49:21.574843Z"
    }
   },
   "outputs": [],
   "source": [
    "X_train, X_test, y_train, y_test = X[:60000], X[60000:], y[:60000], y[60000:]"
   ]
  },
  {
   "cell_type": "markdown",
   "metadata": {},
   "source": [
    "<span class=\"burk\">some learning algorithms are sensitive to the order of the training instances, and they perform poorly if they get many similar instances in a row.</span>"
   ]
  },
  {
   "cell_type": "markdown",
   "metadata": {},
   "source": [
    "## model selection "
   ]
  },
  {
   "cell_type": "markdown",
   "metadata": {},
   "source": [
    "### start from a binary classifier  "
   ]
  },
  {
   "cell_type": "code",
   "execution_count": 95,
   "metadata": {
    "ExecuteTime": {
     "end_time": "2017-11-22T13:36:43.013157Z",
     "start_time": "2017-11-22T13:36:43.009154Z"
    }
   },
   "outputs": [],
   "source": [
    "y_train_5 = (y_train == 5) # True for all 5s, False for all other digits.\n",
    "y_test_5 = (y_test == 5)"
   ]
  },
  {
   "cell_type": "markdown",
   "metadata": {},
   "source": [
    "### Stochastic Gradient Descent - `linear_modl SGDClassifier `"
   ]
  },
  {
   "cell_type": "markdown",
   "metadata": {},
   "source": [
    "* online learning\n",
    "* large dataset"
   ]
  },
  {
   "cell_type": "code",
   "execution_count": 96,
   "metadata": {
    "ExecuteTime": {
     "end_time": "2017-11-22T13:36:46.355839Z",
     "start_time": "2017-11-22T13:36:45.736400Z"
    }
   },
   "outputs": [
    {
     "data": {
      "text/plain": [
       "SGDClassifier(alpha=0.0001, average=False, class_weight=None, epsilon=0.1,\n",
       "       eta0=0.0, fit_intercept=True, l1_ratio=0.15,\n",
       "       learning_rate='optimal', loss='hinge', max_iter=None, n_iter=None,\n",
       "       n_jobs=1, penalty='l2', power_t=0.5, random_state=42, shuffle=True,\n",
       "       tol=None, verbose=0, warm_start=False)"
      ]
     },
     "execution_count": 96,
     "metadata": {},
     "output_type": "execute_result"
    }
   ],
   "source": [
    "from sklearn.linear_model import SGDClassifier\n",
    "sgd_clf = SGDClassifier(random_state=42)\n",
    "sgd_clf.fit(X_train, y_train_5)"
   ]
  },
  {
   "cell_type": "code",
   "execution_count": 98,
   "metadata": {
    "ExecuteTime": {
     "end_time": "2017-11-22T13:36:55.197899Z",
     "start_time": "2017-11-22T13:36:55.192896Z"
    },
    "scrolled": true
   },
   "outputs": [
    {
     "data": {
      "text/plain": [
       "array([ True], dtype=bool)"
      ]
     },
     "execution_count": 98,
     "metadata": {},
     "output_type": "execute_result"
    }
   ],
   "source": [
    "sgd_clf.predict([some_digit])"
   ]
  },
  {
   "cell_type": "markdown",
   "metadata": {},
   "source": [
    "### model evaluation method "
   ]
  },
  {
   "cell_type": "markdown",
   "metadata": {},
   "source": [
    "#### Cross-Validation of online model - `base:clone, model_selection:cross_val_score` "
   ]
  },
  {
   "cell_type": "code",
   "execution_count": 99,
   "metadata": {
    "ExecuteTime": {
     "end_time": "2017-11-22T13:37:30.167192Z",
     "start_time": "2017-11-22T13:37:28.568055Z"
    }
   },
   "outputs": [
    {
     "data": {
      "text/plain": [
       "array([ 0.869  ,  0.83725,  0.90535])"
      ]
     },
     "execution_count": 99,
     "metadata": {},
     "output_type": "execute_result"
    }
   ],
   "source": [
    "from sklearn.model_selection import cross_val_score\n",
    "cross_val_score(sgd_clf, X_train, y_train_5, cv=3, scoring=\"accuracy\")"
   ]
  },
  {
   "cell_type": "markdown",
   "metadata": {},
   "source": [
    "#### Impact of skewed datasets - `model_selection:StratifiedKFold`"
   ]
  },
  {
   "cell_type": "code",
   "execution_count": 100,
   "metadata": {
    "ExecuteTime": {
     "end_time": "2017-11-22T13:37:37.548286Z",
     "start_time": "2017-11-22T13:37:35.769019Z"
    }
   },
   "outputs": [
    {
     "name": "stdout",
     "output_type": "stream",
     "text": [
      "0.869\n",
      "0.83725\n",
      "0.90535\n"
     ]
    }
   ],
   "source": [
    "from sklearn.model_selection import StratifiedKFold\n",
    "from sklearn.base import clone\n",
    "\n",
    "skfolds = StratifiedKFold(n_splits=3, random_state=42)\n",
    "\n",
    "for train_index, test_index in skfolds.split(X_train, y_train_5):\n",
    "    clone_clf = clone(sgd_clf)\n",
    "    X_train_folds = X_train[train_index]\n",
    "    y_train_folds = (y_train_5[train_index])\n",
    "    X_test_fold = X_train[test_index]\n",
    "    y_test_fold = (y_train_5[test_index])\n",
    "    clone_clf.fit(X_train_folds, y_train_folds)\n",
    "    y_pred = clone_clf.predict(X_test_fold)\n",
    "    n_correct = sum(y_pred == y_test_fold)\n",
    "    print(n_correct / len(y_pred))  # prints 0.9502, 0.96565 and 0.96495"
   ]
  },
  {
   "cell_type": "markdown",
   "metadata": {},
   "source": [
    "<div class=\"girk\">\n",
    "let s make it predict all 5</div><i class=\"fa fa-lightbulb-o \"></i>"
   ]
  },
  {
   "cell_type": "code",
   "execution_count": 101,
   "metadata": {
    "ExecuteTime": {
     "end_time": "2017-11-22T13:37:37.784549Z",
     "start_time": "2017-11-22T13:37:37.776544Z"
    }
   },
   "outputs": [],
   "source": [
    "from sklearn.base import BaseEstimator\n",
    "\n",
    "class Never5Classifier(BaseEstimator):\n",
    "\n",
    "    def fit(self, X, y=None):\n",
    "        pass\n",
    "    \n",
    "    def predict(self, X):\n",
    "        return np.zeros((len(X), 1), dtype=bool)"
   ]
  },
  {
   "cell_type": "code",
   "execution_count": 102,
   "metadata": {
    "ExecuteTime": {
     "end_time": "2017-11-22T13:37:38.344034Z",
     "start_time": "2017-11-22T13:37:38.202934Z"
    }
   },
   "outputs": [
    {
     "data": {
      "text/plain": [
       "array([ 1.     ,  0.72895,  1.     ])"
      ]
     },
     "execution_count": 102,
     "metadata": {},
     "output_type": "execute_result"
    }
   ],
   "source": [
    "never_5_clf = Never5Classifier()\n",
    "cross_val_score(never_5_clf, X_train, y_train_5, cv=3, scoring=\"accuracy\")"
   ]
  },
  {
   "cell_type": "markdown",
   "metadata": {},
   "source": [
    "**100% accuracy by random guess!!!**"
   ]
  },
  {
   "cell_type": "markdown",
   "metadata": {},
   "source": [
    "#### Confusion Matrix - `metrics:confusion_matrix, model_selection:cross_val_predict`"
   ]
  },
  {
   "cell_type": "markdown",
   "metadata": {},
   "source": [
    "|  | pred_0 | pred_1 |\n",
    "|----------|----------------|----------------|\n",
    "| actual_0 | true negative TN | false positive FP|\n",
    "| actual_1 | false negative FN | true positive TP|\n"
   ]
  },
  {
   "cell_type": "code",
   "execution_count": 103,
   "metadata": {
    "ExecuteTime": {
     "end_time": "2017-11-22T13:38:19.074063Z",
     "start_time": "2017-11-22T13:38:17.480931Z"
    }
   },
   "outputs": [],
   "source": [
    "from sklearn.model_selection import cross_val_predict\n",
    "y_train_pred = cross_val_predict(sgd_clf, X_train, y_train_5, cv=3)"
   ]
  },
  {
   "cell_type": "code",
   "execution_count": 104,
   "metadata": {
    "ExecuteTime": {
     "end_time": "2017-11-22T13:38:19.905400Z",
     "start_time": "2017-11-22T13:38:19.857369Z"
    }
   },
   "outputs": [
    {
     "data": {
      "text/plain": [
       "array([[47700,  6879],\n",
       "       [  889,  4532]], dtype=int64)"
      ]
     },
     "execution_count": 104,
     "metadata": {},
     "output_type": "execute_result"
    }
   ],
   "source": [
    "from sklearn.metrics import confusion_matrix\n",
    "confusion_matrix(y_train_5, y_train_pred)"
   ]
  },
  {
   "cell_type": "markdown",
   "metadata": {},
   "source": [
    "#### Precision and Recall - `metrics:precision_score, recall_score`"
   ]
  },
  {
   "cell_type": "markdown",
   "metadata": {},
   "source": [
    "\n",
    "* precision = $\\frac{TP}{TP+FP}$ The one we found / all one we found\n",
    "* recall = $\\frac{TP}{TP+FN}$ The one we found / the one  we had to find\n"
   ]
  },
  {
   "cell_type": "code",
   "execution_count": 105,
   "metadata": {
    "ExecuteTime": {
     "end_time": "2017-11-22T13:38:29.516235Z",
     "start_time": "2017-11-22T13:38:29.512234Z"
    }
   },
   "outputs": [],
   "source": [
    "from sklearn.metrics import precision_score, recall_score"
   ]
  },
  {
   "cell_type": "code",
   "execution_count": 106,
   "metadata": {
    "ExecuteTime": {
     "end_time": "2017-11-22T13:38:29.709848Z",
     "start_time": "2017-11-22T13:38:29.689834Z"
    }
   },
   "outputs": [
    {
     "data": {
      "text/plain": [
       "0.39716063447550609"
      ]
     },
     "execution_count": 106,
     "metadata": {},
     "output_type": "execute_result"
    }
   ],
   "source": [
    "precision_score(y_train_5, y_train_pred)"
   ]
  },
  {
   "cell_type": "code",
   "execution_count": 107,
   "metadata": {
    "ExecuteTime": {
     "end_time": "2017-11-22T13:38:30.467654Z",
     "start_time": "2017-11-22T13:38:30.449641Z"
    }
   },
   "outputs": [
    {
     "data": {
      "text/plain": [
       "0.83600811658365615"
      ]
     },
     "execution_count": 107,
     "metadata": {},
     "output_type": "execute_result"
    }
   ],
   "source": [
    "recall_score(y_train_5, y_train_pred)"
   ]
  },
  {
   "cell_type": "markdown",
   "metadata": {},
   "source": [
    "\n",
    "#### $F_1$ score - `metrics:f1_score` "
   ]
  },
  {
   "cell_type": "markdown",
   "metadata": {},
   "source": [
    "*harmonic mean* of precision and recall\n",
    "* <span class=\"girk\">it favors classifiers that have similar precision and recall</span>\n",
    "* $F_1=\\frac{2}{\\frac{1}{precision}+\\frac{1}{recall}}=\\frac{TP}{TP+\\frac{FN+FP}{2}}$"
   ]
  },
  {
   "cell_type": "code",
   "execution_count": 111,
   "metadata": {
    "ExecuteTime": {
     "end_time": "2017-11-22T14:40:59.657188Z",
     "start_time": "2017-11-22T14:40:59.632169Z"
    }
   },
   "outputs": [
    {
     "data": {
      "text/plain": [
       "0.53849809885931554"
      ]
     },
     "execution_count": 111,
     "metadata": {},
     "output_type": "execute_result"
    }
   ],
   "source": [
    "from sklearn.metrics import f1_score\n",
    "f1_score(y_train_5, y_train_pred)"
   ]
  },
  {
   "cell_type": "markdown",
   "metadata": {},
   "source": [
    "#### precision/recall trade-off - `metrics:precision_recall_curve`"
   ]
  },
  {
   "cell_type": "markdown",
   "metadata": {},
   "source": [
    "* avoid accepting 0 - increase accuracy\n",
    "* avoid missing 1 - increase recall\n",
    "* set `method=\"decision_function\"` to get `y_score`\n",
    "* use `y_score` and `y_train_5` to get the precision_recall_curve"
   ]
  },
  {
   "cell_type": "code",
   "execution_count": 113,
   "metadata": {
    "ExecuteTime": {
     "end_time": "2017-11-22T14:52:21.979294Z",
     "start_time": "2017-11-22T14:52:20.209033Z"
    }
   },
   "outputs": [],
   "source": [
    "y_scores = cross_val_predict(\n",
    "    sgd_clf, X_train, y_train_5, cv=3, method=\"decision_function\")"
   ]
  },
  {
   "cell_type": "code",
   "execution_count": 114,
   "metadata": {
    "ExecuteTime": {
     "end_time": "2017-11-22T14:52:27.083213Z",
     "start_time": "2017-11-22T14:52:27.065185Z"
    }
   },
   "outputs": [],
   "source": [
    "from sklearn.metrics import precision_recall_curve\n",
    "precisions, recalls, thresholds = precision_recall_curve(y_train_5, y_scores)"
   ]
  },
  {
   "cell_type": "code",
   "execution_count": 117,
   "metadata": {
    "ExecuteTime": {
     "end_time": "2017-11-22T14:53:39.832924Z",
     "start_time": "2017-11-22T14:53:39.824918Z"
    }
   },
   "outputs": [],
   "source": [
    "def plot_precision_recall_vs_threshold(precisions, recalls, thresholds):\n",
    "    plt.plot(thresholds, precisions[:-1], \"b--\", label=\"Precision\")\n",
    "    plt.plot(thresholds, recalls[:-1], \"g-\", label=\"Recall\")\n",
    "    plt.xlabel(\"Threshold\")\n",
    "    plt.legend(loc=\"upper left\")\n",
    "    plt.ylim([0, 1])"
   ]
  },
  {
   "cell_type": "code",
   "execution_count": 118,
   "metadata": {
    "ExecuteTime": {
     "end_time": "2017-11-22T14:53:40.516607Z",
     "start_time": "2017-11-22T14:53:40.355492Z"
    }
   },
   "outputs": [
    {
     "data": {
      "image/png": "[encoded data removed]",
      "text/plain": [
       "<matplotlib.figure.Figure at 0x1a016412630>"
      ]
     },
     "metadata": {},
     "output_type": "display_data"
    }
   ],
   "source": [
    "plot_precision_recall_vs_threshold(precisions,recalls,thresholds)"
   ]
  },
  {
   "cell_type": "markdown",
   "metadata": {},
   "source": [
    "####  ROC Curve - `metrics:roc_curve`"
   ]
  },
  {
   "cell_type": "markdown",
   "metadata": {},
   "source": [
    "* receiver operating characteristic. \n",
    "* **FPR**: false positive rate = 1-TNR\n",
    "* **TNR**: true positive rate, also called **specificity**\n",
    "* ROC "
   ]
  },
  {
   "cell_type": "code",
   "execution_count": 119,
   "metadata": {
    "ExecuteTime": {
     "end_time": "2017-11-22T15:01:43.363847Z",
     "start_time": "2017-11-22T15:01:43.345815Z"
    }
   },
   "outputs": [],
   "source": [
    "from sklearn.metrics import roc_curve\n",
    "fpr, tpr, thresholds = roc_curve(y_train_5, y_scores)"
   ]
  },
  {
   "cell_type": "code",
   "execution_count": 120,
   "metadata": {
    "ExecuteTime": {
     "end_time": "2017-11-22T15:01:49.785692Z",
     "start_time": "2017-11-22T15:01:49.777687Z"
    }
   },
   "outputs": [],
   "source": [
    "def plot_roc_curve(fpr, tpr, label=None):\n",
    "    plt.plot(fpr, tpr, linewidth=2, label=label)\n",
    "    plt.plot([0, 1], [0, 1], 'k--')\n",
    "    plt.axis([0, 1, 0, 1])\n",
    "    plt.xlabel('False Positive Rate')\n",
    "    plt.ylabel('True Positive Rate')"
   ]
  },
  {
   "cell_type": "code",
   "execution_count": 121,
   "metadata": {
    "ExecuteTime": {
     "end_time": "2017-11-22T15:01:54.950775Z",
     "start_time": "2017-11-22T15:01:54.696597Z"
    },
    "scrolled": true
   },
   "outputs": [
    {
     "data": {
      "image/png": "[encoded data removed]",
      "text/plain": [
       "<matplotlib.figure.Figure at 0x1a013605240>"
      ]
     },
     "metadata": {},
     "output_type": "display_data"
    }
   ],
   "source": [
    "plot_roc_curve(fpr, tpr)\n",
    "plt.show()"
   ]
  },
  {
   "cell_type": "markdown",
   "metadata": {},
   "source": [
    "* higher recall (TPR) more FPR"
   ]
  },
  {
   "cell_type": "markdown",
   "metadata": {},
   "source": [
    "#####  ROC vs PR\n",
    "* PR when you care more about the false positives than the false negatives\n",
    "* ROC otherwise and AUC score"
   ]
  },
  {
   "cell_type": "markdown",
   "metadata": {},
   "source": [
    "#### AUC - `metrics:roc_auc_score` "
   ]
  },
  {
   "cell_type": "markdown",
   "metadata": {},
   "source": [
    "* area under the curve (AUC), perfectly 1, randomly 0.5"
   ]
  },
  {
   "cell_type": "code",
   "execution_count": 123,
   "metadata": {
    "ExecuteTime": {
     "end_time": "2017-11-22T15:08:48.585025Z",
     "start_time": "2017-11-22T15:08:48.562008Z"
    }
   },
   "outputs": [
    {
     "data": {
      "text/plain": [
       "0.91740225736699199"
      ]
     },
     "execution_count": 123,
     "metadata": {},
     "output_type": "execute_result"
    }
   ],
   "source": [
    "from sklearn.metrics import roc_auc_score\n",
    "roc_auc_score(y_train_5, y_scores)"
   ]
  },
  {
   "cell_type": "markdown",
   "metadata": {},
   "source": [
    "### RandomForestClassifier - `ensamble`"
   ]
  },
  {
   "cell_type": "markdown",
   "metadata": {},
   "source": [
    "* `y_prob = prodict_proba()` rather than `decision_function()` but they work in the same way\n",
    "* score = probability of positive class `y_prob[:,1]`"
   ]
  },
  {
   "cell_type": "code",
   "execution_count": 125,
   "metadata": {
    "ExecuteTime": {
     "end_time": "2017-11-22T15:11:16.792334Z",
     "start_time": "2017-11-22T15:11:08.258238Z"
    }
   },
   "outputs": [],
   "source": [
    "from sklearn.ensemble import RandomForestClassifier\n",
    "forest_clf = RandomForestClassifier(random_state=42)\n",
    "y_probas_forest = cross_val_predict(\n",
    "    forest_clf, X_train, y_train_5, cv=3, method=\"predict_proba\")"
   ]
  },
  {
   "cell_type": "code",
   "execution_count": 126,
   "metadata": {
    "ExecuteTime": {
     "end_time": "2017-11-22T15:12:13.581881Z",
     "start_time": "2017-11-22T15:12:13.569875Z"
    }
   },
   "outputs": [],
   "source": [
    "y_scores_forest = y_probas_forest[:, 1]  # score = proba of positive class\n",
    "fpr_forest, tpr_forest, thresholds_forest = roc_curve(y_train_5,\n",
    "                                                      y_scores_forest)"
   ]
  },
  {
   "cell_type": "code",
   "execution_count": 127,
   "metadata": {
    "ExecuteTime": {
     "end_time": "2017-11-22T15:12:27.937651Z",
     "start_time": "2017-11-22T15:12:27.770514Z"
    }
   },
   "outputs": [
    {
     "data": {
      "image/png": "[encoded data removed]",
      "text/plain": [
       "<matplotlib.figure.Figure at 0x1a0162b10f0>"
      ]
     },
     "metadata": {},
     "output_type": "display_data"
    }
   ],
   "source": [
    "plt.plot(fpr, tpr, \"b:\", label=\"SGD\")\n",
    "plot_roc_curve(fpr_forest, tpr_forest, \"Random Forest\")\n",
    "plt.legend(loc=\"bottom right\")\n",
    "plt.show()"
   ]
  },
  {
   "cell_type": "code",
   "execution_count": 128,
   "metadata": {
    "ExecuteTime": {
     "end_time": "2017-11-22T15:12:38.672729Z",
     "start_time": "2017-11-22T15:12:38.657701Z"
    }
   },
   "outputs": [
    {
     "data": {
      "text/plain": [
       "0.97279872764494679"
      ]
     },
     "execution_count": 128,
     "metadata": {},
     "output_type": "execute_result"
    }
   ],
   "source": [
    "roc_auc_score(y_train_5, y_scores_forest)"
   ]
  },
  {
   "cell_type": "markdown",
   "metadata": {},
   "source": [
    "## Multiclass Classification "
   ]
  },
  {
   "cell_type": "markdown",
   "metadata": {},
   "source": [
    "* *one-versus-all* (OvA) strategy: train several binary classifiers in each individual class and sort their scores. **N classifiers**\n",
    "    * <span class=\"girk\">automatically use OvA except SVM</span> \n",
    "* *one-versus-one* (OvO) stragegy: train several binary classifiers in each pair of individuals **(N*(N-1)/2) classifiers**\n",
    "    * <span class=\"girk\">SVM scale poorly with the size of the training set.</span> "
   ]
  },
  {
   "cell_type": "markdown",
   "metadata": {},
   "source": [
    "### try SGDClassifier again "
   ]
  },
  {
   "cell_type": "code",
   "execution_count": 131,
   "metadata": {
    "ExecuteTime": {
     "end_time": "2017-11-22T15:19:57.593800Z",
     "start_time": "2017-11-22T15:19:53.939198Z"
    }
   },
   "outputs": [
    {
     "data": {
      "text/plain": [
       "array([ 5.])"
      ]
     },
     "execution_count": 131,
     "metadata": {},
     "output_type": "execute_result"
    }
   ],
   "source": [
    "sgd_clf.fit(X_train, y_train)\n",
    "sgd_clf.predict([some_digit])"
   ]
  },
  {
   "cell_type": "code",
   "execution_count": 133,
   "metadata": {
    "ExecuteTime": {
     "end_time": "2017-11-22T15:20:30.275030Z",
     "start_time": "2017-11-22T15:20:30.268028Z"
    },
    "scrolled": true
   },
   "outputs": [
    {
     "data": {
      "text/plain": [
       "array([[ -62703.44639676, -460687.57933386, -319518.34098955,\n",
       "        -114278.16461143, -468462.8389351 ,   44427.85526221,\n",
       "        -693906.24797703, -372143.79048941, -536909.69073874,\n",
       "        -462244.00683201]])"
      ]
     },
     "execution_count": 133,
     "metadata": {},
     "output_type": "execute_result"
    }
   ],
   "source": [
    "some_digit_scores = sgd_clf.decision_function([some_digit])\n",
    "some_digit_scores"
   ]
  },
  {
   "cell_type": "markdown",
   "metadata": {},
   "source": [
    "* the highest score is digit 5"
   ]
  },
  {
   "cell_type": "code",
   "execution_count": 134,
   "metadata": {
    "ExecuteTime": {
     "end_time": "2017-11-22T15:20:42.049755Z",
     "start_time": "2017-11-22T15:20:42.043751Z"
    }
   },
   "outputs": [
    {
     "data": {
      "text/plain": [
       "5"
      ]
     },
     "execution_count": 134,
     "metadata": {},
     "output_type": "execute_result"
    }
   ],
   "source": [
    "np.argmax(some_digit_scores)"
   ]
  },
  {
   "cell_type": "code",
   "execution_count": 136,
   "metadata": {
    "ExecuteTime": {
     "end_time": "2017-11-22T15:21:02.600383Z",
     "start_time": "2017-11-22T15:21:02.595379Z"
    }
   },
   "outputs": [
    {
     "data": {
      "text/plain": [
       "5.0"
      ]
     },
     "execution_count": 136,
     "metadata": {},
     "output_type": "execute_result"
    }
   ],
   "source": [
    "sgd_clf.classes_\n",
    "sgd_clf.classes_[5]"
   ]
  },
  {
   "cell_type": "markdown",
   "metadata": {},
   "source": [
    "### OneVsOneClassifer - `multiclass:OneVsOneClassifier` "
   ]
  },
  {
   "cell_type": "code",
   "execution_count": 139,
   "metadata": {
    "ExecuteTime": {
     "end_time": "2017-11-22T15:23:58.687461Z",
     "start_time": "2017-11-22T15:23:52.767245Z"
    }
   },
   "outputs": [
    {
     "data": {
      "text/plain": [
       "array([ 5.])"
      ]
     },
     "execution_count": 139,
     "metadata": {},
     "output_type": "execute_result"
    }
   ],
   "source": [
    "from sklearn.multiclass import OneVsOneClassifier\n",
    "ovo_clf = OneVsOneClassifier(SGDClassifier(random_state=42))\n",
    "ovo_clf.fit(X_train, y_train)\n",
    "ovo_clf.predict([some_digit])"
   ]
  },
  {
   "cell_type": "code",
   "execution_count": 140,
   "metadata": {
    "ExecuteTime": {
     "end_time": "2017-11-22T15:23:58.697469Z",
     "start_time": "2017-11-22T15:23:58.689464Z"
    }
   },
   "outputs": [
    {
     "data": {
      "text/plain": [
       "45"
      ]
     },
     "execution_count": 140,
     "metadata": {},
     "output_type": "execute_result"
    }
   ],
   "source": [
    "len(ovo_clf.estimators_)"
   ]
  },
  {
   "cell_type": "markdown",
   "metadata": {},
   "source": [
    "### inherently multiclass classifier - `predict_proba()` "
   ]
  },
  {
   "cell_type": "markdown",
   "metadata": {},
   "source": [
    "####   RandomForestClassifier in 2.4"
   ]
  },
  {
   "cell_type": "code",
   "execution_count": 141,
   "metadata": {
    "ExecuteTime": {
     "end_time": "2017-11-22T15:26:51.188862Z",
     "start_time": "2017-11-22T15:26:46.213322Z"
    }
   },
   "outputs": [
    {
     "data": {
      "text/plain": [
       "array([ 5.])"
      ]
     },
     "execution_count": 141,
     "metadata": {},
     "output_type": "execute_result"
    }
   ],
   "source": [
    "forest_clf.fit(X_train, y_train)\n",
    "forest_clf.predict([some_digit])"
   ]
  },
  {
   "cell_type": "code",
   "execution_count": 142,
   "metadata": {
    "ExecuteTime": {
     "end_time": "2017-11-22T15:26:51.924335Z",
     "start_time": "2017-11-22T15:26:51.916330Z"
    }
   },
   "outputs": [
    {
     "data": {
      "text/plain": [
       "array([[ 0.,  0.,  0.,  0.,  0.,  1.,  0.,  0.,  0.,  0.]])"
      ]
     },
     "execution_count": 142,
     "metadata": {},
     "output_type": "execute_result"
    }
   ],
   "source": [
    "forest_clf.predict_proba([some_digit])"
   ]
  },
  {
   "cell_type": "code",
   "execution_count": 143,
   "metadata": {
    "ExecuteTime": {
     "end_time": "2017-11-22T15:27:11.781764Z",
     "start_time": "2017-11-22T15:27:04.125314Z"
    }
   },
   "outputs": [
    {
     "data": {
      "text/plain": [
       "array([ 0.86157768,  0.86489324,  0.87918188])"
      ]
     },
     "execution_count": 143,
     "metadata": {},
     "output_type": "execute_result"
    }
   ],
   "source": [
    "cross_val_score(sgd_clf, X_train, y_train, cv=3, scoring=\"accuracy\")"
   ]
  },
  {
   "cell_type": "code",
   "execution_count": 144,
   "metadata": {
    "ExecuteTime": {
     "end_time": "2017-11-22T15:27:46.433578Z",
     "start_time": "2017-11-22T15:27:37.237030Z"
    }
   },
   "outputs": [
    {
     "data": {
      "text/plain": [
       "array([ 0.9070186 ,  0.90659533,  0.91193679])"
      ]
     },
     "execution_count": 144,
     "metadata": {},
     "output_type": "execute_result"
    }
   ],
   "source": [
    "from sklearn.preprocessing import StandardScaler\n",
    "scaler = StandardScaler()\n",
    "X_train_scaled = scaler.fit_transform(X_train.astype(np.float64))\n",
    "cross_val_score(sgd_clf, X_train_scaled, y_train, cv=3, scoring=\"accuracy\")"
   ]
  },
  {
   "cell_type": "markdown",
   "metadata": {},
   "source": [
    "### Error Analysis "
   ]
  },
  {
   "cell_type": "markdown",
   "metadata": {},
   "source": [
    "#### `cross_val_predict()` --> `confusion_matrix()` "
   ]
  },
  {
   "cell_type": "code",
   "execution_count": 145,
   "metadata": {
    "ExecuteTime": {
     "end_time": "2017-11-22T15:30:16.044991Z",
     "start_time": "2017-11-22T15:30:08.405552Z"
    }
   },
   "outputs": [],
   "source": [
    "y_train_pred = cross_val_predict(sgd_clf, X_train_scaled, y_train, cv=3)\n",
    "conf_mx = confusion_matrix(y_train, y_train_pred)"
   ]
  },
  {
   "cell_type": "code",
   "execution_count": 146,
   "metadata": {
    "ExecuteTime": {
     "end_time": "2017-11-22T15:30:23.435132Z",
     "start_time": "2017-11-22T15:30:23.429125Z"
    }
   },
   "outputs": [
    {
     "data": {
      "text/plain": [
       "array([[5718,    2,   26,    9,   10,   52,   46,   10,   46,    4],\n",
       "       [   1, 6446,   48,   29,    7,   43,    6,   14,  136,   12],\n",
       "       [  55,   40, 5301,  105,   80,   31,   92,   59,  179,   16],\n",
       "       [  42,   41,  142, 5309,    3,  261,   34,   51,  138,  110],\n",
       "       [  17,   22,   37,    9, 5368,    9,   56,   32,   83,  209],\n",
       "       [  71,   37,   37,  176,   79, 4631,  103,   24,  158,  105],\n",
       "       [  28,   21,   44,    2,   46,   94, 5632,    5,   45,    1],\n",
       "       [  26,   18,   72,   30,   58,   12,    4, 5782,   17,  246],\n",
       "       [  44,  152,   67,  142,   20,  170,   49,   27, 5026,  154],\n",
       "       [  39,   30,   27,   89,  158,   31,    2,  199,   76, 5298]], dtype=int64)"
      ]
     },
     "execution_count": 146,
     "metadata": {},
     "output_type": "execute_result"
    }
   ],
   "source": [
    "conf_mx"
   ]
  },
  {
   "cell_type": "code",
   "execution_count": 147,
   "metadata": {
    "ExecuteTime": {
     "end_time": "2017-11-22T15:30:31.162238Z",
     "start_time": "2017-11-22T15:30:31.038134Z"
    }
   },
   "outputs": [
    {
     "data": {
      "image/png": "[encoded data removed]",
      "text/plain": [
       "<matplotlib.figure.Figure at 0x1a0165a1b00>"
      ]
     },
     "metadata": {},
     "output_type": "display_data"
    }
   ],
   "source": [
    "plt.matshow(conf_mx, cmap=plt.cm.gray)\n",
    "plt.show()"
   ]
  },
  {
   "cell_type": "markdown",
   "metadata": {},
   "source": [
    "* normalize the `conf_mx`"
   ]
  },
  {
   "cell_type": "code",
   "execution_count": 149,
   "metadata": {
    "ExecuteTime": {
     "end_time": "2017-11-22T15:32:20.020924Z",
     "start_time": "2017-11-22T15:32:20.016921Z"
    }
   },
   "outputs": [],
   "source": [
    "row_sums = conf_mx.sum(axis=1, keepdims=True)\n",
    "norm_conf_mx = conf_mx / row_sums"
   ]
  },
  {
   "cell_type": "markdown",
   "metadata": {},
   "source": [
    "* fill the correct predict with 0 "
   ]
  },
  {
   "cell_type": "code",
   "execution_count": 150,
   "metadata": {
    "ExecuteTime": {
     "end_time": "2017-11-22T15:32:32.984849Z",
     "start_time": "2017-11-22T15:32:32.877773Z"
    }
   },
   "outputs": [
    {
     "data": {
      "image/png": "[encoded data removed]",
      "text/plain": [
       "<matplotlib.figure.Figure at 0x1a0167487f0>"
      ]
     },
     "metadata": {},
     "output_type": "display_data"
    }
   ],
   "source": [
    "np.fill_diagonal(norm_conf_mx, 0)\n",
    "plt.matshow(norm_conf_mx, cmap=plt.cm.gray)\n",
    "plt.show()"
   ]
  },
  {
   "cell_type": "markdown",
   "metadata": {},
   "source": [
    "* many 7 are predicts as 9\n",
    "* 1s are classified correctly"
   ]
  },
  {
   "cell_type": "markdown",
   "metadata": {},
   "source": [
    "<div class=\"burk\">\n",
    "Analyzing individual errors can also be a good way to gain insights on what your classifier is doing and why it is failing</div><i class=\"fa fa-lightbulb-o \"></i>"
   ]
  },
  {
   "cell_type": "markdown",
   "metadata": {
    "ExecuteTime": {
     "end_time": "2017-11-22T15:35:21.869041Z",
     "start_time": "2017-11-22T15:35:21.726943Z"
    }
   },
   "source": [
    "## Multilabel Classification "
   ]
  },
  {
   "cell_type": "markdown",
   "metadata": {},
   "source": [
    "* instead of outputting exact one 1, the model has a vector of $\\{0,1\\}$ "
   ]
  },
  {
   "cell_type": "markdown",
   "metadata": {},
   "source": [
    "###  KNeighborsClassifier - `neighbors:KNeighborsClassifier`"
   ]
  },
  {
   "cell_type": "markdown",
   "metadata": {},
   "source": [
    "let's train a KNN that classifies >=7 against odds"
   ]
  },
  {
   "cell_type": "code",
   "execution_count": 31,
   "metadata": {
    "ExecuteTime": {
     "end_time": "2017-11-22T15:53:50.610729Z",
     "start_time": "2017-11-22T15:53:50.576705Z"
    },
    "scrolled": false
   },
   "outputs": [],
   "source": [
    "from sklearn.neighbors import KNeighborsClassifier\n",
    "y_train_large = (y_train >= 7)\n",
    "y_train_odd = (y_train % 2 == 1)\n",
    "y_multilabel = np.c_[y_train_large, y_train_odd]\n",
    "knn_clf = KNeighborsClassifier()"
   ]
  },
  {
   "cell_type": "code",
   "execution_count": null,
   "metadata": {},
   "outputs": [],
   "source": [
    "knn_clf.fit(X_train, y_multilabel)"
   ]
  },
  {
   "cell_type": "code",
   "execution_count": 153,
   "metadata": {
    "ExecuteTime": {
     "end_time": "2017-11-22T15:39:49.287015Z",
     "start_time": "2017-11-22T15:39:49.190949Z"
    }
   },
   "outputs": [
    {
     "data": {
      "text/plain": [
       "array([[False,  True]], dtype=bool)"
      ]
     },
     "execution_count": 153,
     "metadata": {},
     "output_type": "execute_result"
    }
   ],
   "source": [
    "knn_clf.predict([some_digit])"
   ]
  },
  {
   "cell_type": "markdown",
   "metadata": {},
   "source": [
    "### Evaluation of multilabel classification "
   ]
  },
  {
   "cell_type": "markdown",
   "metadata": {},
   "source": [
    "#### f1_score"
   ]
  },
  {
   "cell_type": "code",
   "execution_count": null,
   "metadata": {
    "ExecuteTime": {
     "start_time": "2017-11-22T15:48:31.796Z"
    }
   },
   "outputs": [],
   "source": [
    "y_train_knn_pred = cross_val_predict(knn_clf, X_train, y_train, cv=3)\n",
    "f1_score(y_train, y_train_knn_pred, average=\"macro\")"
   ]
  },
  {
   "cell_type": "markdown",
   "metadata": {},
   "source": [
    "<div class=\"burk\">\n",
    "* set `average=\"weighted\"` to give each label a weight equal to its support (the number of instances with that target label)</div><i class=\"fa fa-lightbulb-o \"></i>"
   ]
  },
  {
   "cell_type": "markdown",
   "metadata": {},
   "source": [
    "## Multioutput Classification \n",
    "a generalization of multilabel classification where each label can be multiclass"
   ]
  },
  {
   "cell_type": "markdown",
   "metadata": {},
   "source": [
    "* add noise to 5"
   ]
  },
  {
   "cell_type": "code",
   "execution_count": 27,
   "metadata": {
    "ExecuteTime": {
     "end_time": "2017-11-22T15:52:58.997574Z",
     "start_time": "2017-11-22T15:52:58.247039Z"
    }
   },
   "outputs": [],
   "source": [
    "import numpy.random as rnd\n",
    "noise = rnd.randint(0, 100, (len(X_train), 784))\n",
    "noise_ = rnd.randint(0, 100, (len(X_test), 784))\n",
    "X_train_mod = X_train + noise\n",
    "X_test_mod = X_test + noise_\n",
    "y_train_mod = X_train\n",
    "y_test_mod = X_test"
   ]
  },
  {
   "cell_type": "code",
   "execution_count": 36,
   "metadata": {
    "ExecuteTime": {
     "end_time": "2017-11-22T15:55:39.027757Z",
     "start_time": "2017-11-22T15:55:38.927686Z"
    }
   },
   "outputs": [
    {
     "data": {
      "image/png": "[encoded data removed]",
      "text/plain": [
       "<matplotlib.figure.Figure at 0x1a829064e80>"
      ]
     },
     "metadata": {},
     "output_type": "display_data"
    }
   ],
   "source": [
    "def plot_digit(some_digit):\n",
    "    some_digit_image = some_digit.reshape(28, 28)\n",
    "    plt.imshow(\n",
    "        some_digit_image, cmap=matplotlib.cm.binary, interpolation=\"nearest\")\n",
    "    plt.axis(\"off\")\n",
    "    plt.show()\n",
    "    \n",
    "some_digit = X_train_mod[36000]\n",
    "plot_digit(some_digit)"
   ]
  },
  {
   "cell_type": "code",
   "execution_count": 37,
   "metadata": {
    "ExecuteTime": {
     "end_time": "2017-11-22T15:55:53.148028Z",
     "start_time": "2017-11-22T15:55:40.760205Z"
    }
   },
   "outputs": [
    {
     "data": {
      "image/png": "[encoded data removed]",
      "text/plain": [
       "<matplotlib.figure.Figure at 0x1a829064cf8>"
      ]
     },
     "metadata": {},
     "output_type": "display_data"
    }
   ],
   "source": [
    "knn_clf.fit(X_train_mod, y_train_mod)\n",
    "clean_digit = knn_clf.predict([X_train_mod[36000]])\n",
    "plot_digit(clean_digit)"
   ]
  },
  {
   "cell_type": "code",
   "execution_count": null,
   "metadata": {},
   "outputs": [],
   "source": []
  }
 ],
 "metadata": {
  "kernelspec": {
   "display_name": "Python 3",
   "language": "python",
   "name": "python3"
  },
  "language_info": {
   "codemirror_mode": {
    "name": "ipython",
    "version": 3
   },
   "file_extension": ".py",
   "mimetype": "text/x-python",
   "name": "python",
   "nbconvert_exporter": "python",
   "pygments_lexer": "ipython3",
   "version": "3.7.0"
  },
  "toc": {
   "base_numbering": 1,
   "nav_menu": {},
   "number_sections": true,
   "sideBar": true,
   "skip_h1_title": true,
   "title_cell": "Table of Contents",
   "title_sidebar": "Contents",
   "toc_cell": true,
   "toc_position": {
    "height": "735px",
    "left": "0px",
    "right": "551.813px",
    "top": "136px",
    "width": "214px"
   },
   "toc_section_display": "block",
   "toc_window_display": false
  }
 },
 "nbformat": 4,
 "nbformat_minor": 1
}
